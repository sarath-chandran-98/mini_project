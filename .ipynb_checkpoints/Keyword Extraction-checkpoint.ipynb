{
 "cells": [
  {
   "cell_type": "code",
   "execution_count": 1,
   "id": "f4d8752d",
   "metadata": {},
   "outputs": [
    {
     "name": "stdout",
     "output_type": "stream",
     "text": [
      "Collecting gensim==3.8.3\n",
      "  Using cached gensim-3.8.3-cp38-cp38-win_amd64.whl (24.2 MB)\n",
      "Requirement already satisfied: numpy>=1.11.3 in c:\\users\\sarath\\anaconda3\\lib\\site-packages (from gensim==3.8.3) (1.20.1)\n",
      "Requirement already satisfied: six>=1.5.0 in c:\\users\\sarath\\anaconda3\\lib\\site-packages (from gensim==3.8.3) (1.15.0)\n",
      "Requirement already satisfied: scipy>=0.18.1 in c:\\users\\sarath\\anaconda3\\lib\\site-packages (from gensim==3.8.3) (1.6.2)\n",
      "Requirement already satisfied: Cython==0.29.14 in c:\\users\\sarath\\anaconda3\\lib\\site-packages (from gensim==3.8.3) (0.29.14)\n",
      "Requirement already satisfied: smart-open>=1.8.1 in c:\\users\\sarath\\anaconda3\\lib\\site-packages (from gensim==3.8.3) (5.2.1)\n",
      "Installing collected packages: gensim\n",
      "  Attempting uninstall: gensim\n",
      "    Found existing installation: gensim 4.0.1\n",
      "    Uninstalling gensim-4.0.1:\n",
      "      Successfully uninstalled gensim-4.0.1\n",
      "Successfully installed gensim-3.8.3\n",
      "Note: you may need to restart the kernel to use updated packages.\n"
     ]
    }
   ],
   "source": [
    "pip install -U gensim==3.8.3"
   ]
  },
  {
   "cell_type": "code",
   "execution_count": 6,
   "id": "4cd1f053",
   "metadata": {},
   "outputs": [],
   "source": [
    "from gensim.summarization.summarizer import summarize\n",
    "from gensim.summarization import keywords"
   ]
  },
  {
   "cell_type": "code",
   "execution_count": null,
   "id": "51c50001",
   "metadata": {},
   "outputs": [],
   "source": [
    "print(summarize(text, ratio=1))"
   ]
  },
  {
   "cell_type": "code",
   "execution_count": null,
   "id": "160d50a8",
   "metadata": {},
   "outputs": [],
   "source": [
    "topics = keywords(text, words=10)"
   ]
  },
  {
   "cell_type": "code",
   "execution_count": null,
   "id": "fd303c65",
   "metadata": {},
   "outputs": [],
   "source": [
    "print(topics)"
   ]
  },
  {
   "cell_type": "code",
   "execution_count": null,
   "id": "1fad5e71",
   "metadata": {},
   "outputs": [],
   "source": [
    "for key,value in word_frequency.items():\n",
    "    if key in topics:\n",
    "        value += 1 \n",
    "        word_frequency.update({key:value}) \n",
    "print(word_frequency.items())"
   ]
  },
  {
   "cell_type": "code",
   "execution_count": null,
   "id": "4e9b8a28",
   "metadata": {},
   "outputs": [],
   "source": []
  }
 ],
 "metadata": {
  "kernelspec": {
   "display_name": "Python 3",
   "language": "python",
   "name": "python3"
  },
  "language_info": {
   "codemirror_mode": {
    "name": "ipython",
    "version": 3
   },
   "file_extension": ".py",
   "mimetype": "text/x-python",
   "name": "python",
   "nbconvert_exporter": "python",
   "pygments_lexer": "ipython3",
   "version": "3.8.8"
  }
 },
 "nbformat": 4,
 "nbformat_minor": 5
}
