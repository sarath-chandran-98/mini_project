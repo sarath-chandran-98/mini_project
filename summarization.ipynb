{
  "cells": [
    {
      "cell_type": "code",
      "execution_count": 1,
      "metadata": {
        "colab": {
          "base_uri": "https://localhost:8080/"
        },
        "id": "36de2c56",
        "outputId": "9740484a-3317-48c4-97cf-2fcce45b077c"
      },
      "outputs": [
        {
          "output_type": "stream",
          "name": "stdout",
          "text": [
            "Requirement already satisfied: spacy in /usr/local/lib/python3.7/dist-packages (2.2.4)\n",
            "Collecting spacy\n",
            "  Downloading spacy-3.2.1-cp37-cp37m-manylinux_2_17_x86_64.manylinux2014_x86_64.whl (6.0 MB)\n",
            "\u001b[K     |████████████████████████████████| 6.0 MB 4.2 MB/s \n",
            "\u001b[?25hRequirement already satisfied: jinja2 in /usr/local/lib/python3.7/dist-packages (from spacy) (2.11.3)\n",
            "Collecting thinc<8.1.0,>=8.0.12\n",
            "  Downloading thinc-8.0.13-cp37-cp37m-manylinux_2_17_x86_64.manylinux2014_x86_64.whl (628 kB)\n",
            "\u001b[K     |████████████████████████████████| 628 kB 43.7 MB/s \n",
            "\u001b[?25hCollecting typer<0.5.0,>=0.3.0\n",
            "  Downloading typer-0.4.0-py3-none-any.whl (27 kB)\n",
            "Collecting spacy-legacy<3.1.0,>=3.0.8\n",
            "  Downloading spacy_legacy-3.0.8-py2.py3-none-any.whl (14 kB)\n",
            "Collecting catalogue<2.1.0,>=2.0.6\n",
            "  Downloading catalogue-2.0.6-py3-none-any.whl (17 kB)\n",
            "Requirement already satisfied: packaging>=20.0 in /usr/local/lib/python3.7/dist-packages (from spacy) (21.3)\n",
            "Requirement already satisfied: preshed<3.1.0,>=3.0.2 in /usr/local/lib/python3.7/dist-packages (from spacy) (3.0.6)\n",
            "Requirement already satisfied: typing-extensions<4.0.0.0,>=3.7.4 in /usr/local/lib/python3.7/dist-packages (from spacy) (3.10.0.2)\n",
            "Collecting srsly<3.0.0,>=2.4.1\n",
            "  Downloading srsly-2.4.2-cp37-cp37m-manylinux_2_17_x86_64.manylinux2014_x86_64.whl (451 kB)\n",
            "\u001b[K     |████████████████████████████████| 451 kB 50.3 MB/s \n",
            "\u001b[?25hRequirement already satisfied: requests<3.0.0,>=2.13.0 in /usr/local/lib/python3.7/dist-packages (from spacy) (2.23.0)\n",
            "Requirement already satisfied: setuptools in /usr/local/lib/python3.7/dist-packages (from spacy) (57.4.0)\n",
            "Collecting pydantic!=1.8,!=1.8.1,<1.9.0,>=1.7.4\n",
            "  Downloading pydantic-1.8.2-cp37-cp37m-manylinux2014_x86_64.whl (10.1 MB)\n",
            "\u001b[K     |████████████████████████████████| 10.1 MB 39.4 MB/s \n",
            "\u001b[?25hCollecting spacy-loggers<2.0.0,>=1.0.0\n",
            "  Downloading spacy_loggers-1.0.1-py3-none-any.whl (7.0 kB)\n",
            "Requirement already satisfied: cymem<2.1.0,>=2.0.2 in /usr/local/lib/python3.7/dist-packages (from spacy) (2.0.6)\n",
            "Requirement already satisfied: murmurhash<1.1.0,>=0.28.0 in /usr/local/lib/python3.7/dist-packages (from spacy) (1.0.6)\n",
            "Collecting langcodes<4.0.0,>=3.2.0\n",
            "  Downloading langcodes-3.3.0-py3-none-any.whl (181 kB)\n",
            "\u001b[K     |████████████████████████████████| 181 kB 49.5 MB/s \n",
            "\u001b[?25hRequirement already satisfied: wasabi<1.1.0,>=0.8.1 in /usr/local/lib/python3.7/dist-packages (from spacy) (0.8.2)\n",
            "Requirement already satisfied: tqdm<5.0.0,>=4.38.0 in /usr/local/lib/python3.7/dist-packages (from spacy) (4.62.3)\n",
            "Collecting pathy>=0.3.5\n",
            "  Downloading pathy-0.6.1-py3-none-any.whl (42 kB)\n",
            "\u001b[K     |████████████████████████████████| 42 kB 1.5 MB/s \n",
            "\u001b[?25hRequirement already satisfied: numpy>=1.15.0 in /usr/local/lib/python3.7/dist-packages (from spacy) (1.19.5)\n",
            "Requirement already satisfied: blis<0.8.0,>=0.4.0 in /usr/local/lib/python3.7/dist-packages (from spacy) (0.4.1)\n",
            "Requirement already satisfied: zipp>=0.5 in /usr/local/lib/python3.7/dist-packages (from catalogue<2.1.0,>=2.0.6->spacy) (3.6.0)\n",
            "Requirement already satisfied: pyparsing!=3.0.5,>=2.0.2 in /usr/local/lib/python3.7/dist-packages (from packaging>=20.0->spacy) (3.0.6)\n",
            "Requirement already satisfied: smart-open<6.0.0,>=5.0.0 in /usr/local/lib/python3.7/dist-packages (from pathy>=0.3.5->spacy) (5.2.1)\n",
            "Requirement already satisfied: urllib3!=1.25.0,!=1.25.1,<1.26,>=1.21.1 in /usr/local/lib/python3.7/dist-packages (from requests<3.0.0,>=2.13.0->spacy) (1.24.3)\n",
            "Requirement already satisfied: chardet<4,>=3.0.2 in /usr/local/lib/python3.7/dist-packages (from requests<3.0.0,>=2.13.0->spacy) (3.0.4)\n",
            "Requirement already satisfied: certifi>=2017.4.17 in /usr/local/lib/python3.7/dist-packages (from requests<3.0.0,>=2.13.0->spacy) (2021.10.8)\n",
            "Requirement already satisfied: idna<3,>=2.5 in /usr/local/lib/python3.7/dist-packages (from requests<3.0.0,>=2.13.0->spacy) (2.10)\n",
            "Requirement already satisfied: click<9.0.0,>=7.1.1 in /usr/local/lib/python3.7/dist-packages (from typer<0.5.0,>=0.3.0->spacy) (7.1.2)\n",
            "Requirement already satisfied: MarkupSafe>=0.23 in /usr/local/lib/python3.7/dist-packages (from jinja2->spacy) (2.0.1)\n",
            "Installing collected packages: catalogue, typer, srsly, pydantic, thinc, spacy-loggers, spacy-legacy, pathy, langcodes, spacy\n",
            "  Attempting uninstall: catalogue\n",
            "    Found existing installation: catalogue 1.0.0\n",
            "    Uninstalling catalogue-1.0.0:\n",
            "      Successfully uninstalled catalogue-1.0.0\n",
            "  Attempting uninstall: srsly\n",
            "    Found existing installation: srsly 1.0.5\n",
            "    Uninstalling srsly-1.0.5:\n",
            "      Successfully uninstalled srsly-1.0.5\n",
            "  Attempting uninstall: thinc\n",
            "    Found existing installation: thinc 7.4.0\n",
            "    Uninstalling thinc-7.4.0:\n",
            "      Successfully uninstalled thinc-7.4.0\n",
            "  Attempting uninstall: spacy\n",
            "    Found existing installation: spacy 2.2.4\n",
            "    Uninstalling spacy-2.2.4:\n",
            "      Successfully uninstalled spacy-2.2.4\n",
            "Successfully installed catalogue-2.0.6 langcodes-3.3.0 pathy-0.6.1 pydantic-1.8.2 spacy-3.2.1 spacy-legacy-3.0.8 spacy-loggers-1.0.1 srsly-2.4.2 thinc-8.0.13 typer-0.4.0\n",
            "Collecting en-core-web-sm==3.2.0\n",
            "  Downloading https://github.com/explosion/spacy-models/releases/download/en_core_web_sm-3.2.0/en_core_web_sm-3.2.0-py3-none-any.whl (13.9 MB)\n",
            "\u001b[K     |████████████████████████████████| 13.9 MB 4.3 MB/s \n",
            "\u001b[?25hRequirement already satisfied: spacy<3.3.0,>=3.2.0 in /usr/local/lib/python3.7/dist-packages (from en-core-web-sm==3.2.0) (3.2.1)\n",
            "Requirement already satisfied: cymem<2.1.0,>=2.0.2 in /usr/local/lib/python3.7/dist-packages (from spacy<3.3.0,>=3.2.0->en-core-web-sm==3.2.0) (2.0.6)\n",
            "Requirement already satisfied: numpy>=1.15.0 in /usr/local/lib/python3.7/dist-packages (from spacy<3.3.0,>=3.2.0->en-core-web-sm==3.2.0) (1.19.5)\n",
            "Requirement already satisfied: pydantic!=1.8,!=1.8.1,<1.9.0,>=1.7.4 in /usr/local/lib/python3.7/dist-packages (from spacy<3.3.0,>=3.2.0->en-core-web-sm==3.2.0) (1.8.2)\n",
            "Requirement already satisfied: wasabi<1.1.0,>=0.8.1 in /usr/local/lib/python3.7/dist-packages (from spacy<3.3.0,>=3.2.0->en-core-web-sm==3.2.0) (0.8.2)\n",
            "Requirement already satisfied: blis<0.8.0,>=0.4.0 in /usr/local/lib/python3.7/dist-packages (from spacy<3.3.0,>=3.2.0->en-core-web-sm==3.2.0) (0.4.1)\n",
            "Requirement already satisfied: langcodes<4.0.0,>=3.2.0 in /usr/local/lib/python3.7/dist-packages (from spacy<3.3.0,>=3.2.0->en-core-web-sm==3.2.0) (3.3.0)\n",
            "Requirement already satisfied: murmurhash<1.1.0,>=0.28.0 in /usr/local/lib/python3.7/dist-packages (from spacy<3.3.0,>=3.2.0->en-core-web-sm==3.2.0) (1.0.6)\n",
            "Requirement already satisfied: spacy-loggers<2.0.0,>=1.0.0 in /usr/local/lib/python3.7/dist-packages (from spacy<3.3.0,>=3.2.0->en-core-web-sm==3.2.0) (1.0.1)\n",
            "Requirement already satisfied: packaging>=20.0 in /usr/local/lib/python3.7/dist-packages (from spacy<3.3.0,>=3.2.0->en-core-web-sm==3.2.0) (21.3)\n",
            "Requirement already satisfied: typer<0.5.0,>=0.3.0 in /usr/local/lib/python3.7/dist-packages (from spacy<3.3.0,>=3.2.0->en-core-web-sm==3.2.0) (0.4.0)\n",
            "Requirement already satisfied: catalogue<2.1.0,>=2.0.6 in /usr/local/lib/python3.7/dist-packages (from spacy<3.3.0,>=3.2.0->en-core-web-sm==3.2.0) (2.0.6)\n",
            "Requirement already satisfied: requests<3.0.0,>=2.13.0 in /usr/local/lib/python3.7/dist-packages (from spacy<3.3.0,>=3.2.0->en-core-web-sm==3.2.0) (2.23.0)\n",
            "Requirement already satisfied: tqdm<5.0.0,>=4.38.0 in /usr/local/lib/python3.7/dist-packages (from spacy<3.3.0,>=3.2.0->en-core-web-sm==3.2.0) (4.62.3)\n",
            "Requirement already satisfied: setuptools in /usr/local/lib/python3.7/dist-packages (from spacy<3.3.0,>=3.2.0->en-core-web-sm==3.2.0) (57.4.0)\n",
            "Requirement already satisfied: thinc<8.1.0,>=8.0.12 in /usr/local/lib/python3.7/dist-packages (from spacy<3.3.0,>=3.2.0->en-core-web-sm==3.2.0) (8.0.13)\n",
            "Requirement already satisfied: typing-extensions<4.0.0.0,>=3.7.4 in /usr/local/lib/python3.7/dist-packages (from spacy<3.3.0,>=3.2.0->en-core-web-sm==3.2.0) (3.10.0.2)\n",
            "Requirement already satisfied: preshed<3.1.0,>=3.0.2 in /usr/local/lib/python3.7/dist-packages (from spacy<3.3.0,>=3.2.0->en-core-web-sm==3.2.0) (3.0.6)\n",
            "Requirement already satisfied: srsly<3.0.0,>=2.4.1 in /usr/local/lib/python3.7/dist-packages (from spacy<3.3.0,>=3.2.0->en-core-web-sm==3.2.0) (2.4.2)\n",
            "Requirement already satisfied: spacy-legacy<3.1.0,>=3.0.8 in /usr/local/lib/python3.7/dist-packages (from spacy<3.3.0,>=3.2.0->en-core-web-sm==3.2.0) (3.0.8)\n",
            "Requirement already satisfied: jinja2 in /usr/local/lib/python3.7/dist-packages (from spacy<3.3.0,>=3.2.0->en-core-web-sm==3.2.0) (2.11.3)\n",
            "Requirement already satisfied: pathy>=0.3.5 in /usr/local/lib/python3.7/dist-packages (from spacy<3.3.0,>=3.2.0->en-core-web-sm==3.2.0) (0.6.1)\n",
            "Requirement already satisfied: zipp>=0.5 in /usr/local/lib/python3.7/dist-packages (from catalogue<2.1.0,>=2.0.6->spacy<3.3.0,>=3.2.0->en-core-web-sm==3.2.0) (3.6.0)\n",
            "Requirement already satisfied: pyparsing!=3.0.5,>=2.0.2 in /usr/local/lib/python3.7/dist-packages (from packaging>=20.0->spacy<3.3.0,>=3.2.0->en-core-web-sm==3.2.0) (3.0.6)\n",
            "Requirement already satisfied: smart-open<6.0.0,>=5.0.0 in /usr/local/lib/python3.7/dist-packages (from pathy>=0.3.5->spacy<3.3.0,>=3.2.0->en-core-web-sm==3.2.0) (5.2.1)\n",
            "Requirement already satisfied: chardet<4,>=3.0.2 in /usr/local/lib/python3.7/dist-packages (from requests<3.0.0,>=2.13.0->spacy<3.3.0,>=3.2.0->en-core-web-sm==3.2.0) (3.0.4)\n",
            "Requirement already satisfied: idna<3,>=2.5 in /usr/local/lib/python3.7/dist-packages (from requests<3.0.0,>=2.13.0->spacy<3.3.0,>=3.2.0->en-core-web-sm==3.2.0) (2.10)\n",
            "Requirement already satisfied: urllib3!=1.25.0,!=1.25.1,<1.26,>=1.21.1 in /usr/local/lib/python3.7/dist-packages (from requests<3.0.0,>=2.13.0->spacy<3.3.0,>=3.2.0->en-core-web-sm==3.2.0) (1.24.3)\n",
            "Requirement already satisfied: certifi>=2017.4.17 in /usr/local/lib/python3.7/dist-packages (from requests<3.0.0,>=2.13.0->spacy<3.3.0,>=3.2.0->en-core-web-sm==3.2.0) (2021.10.8)\n",
            "Requirement already satisfied: click<9.0.0,>=7.1.1 in /usr/local/lib/python3.7/dist-packages (from typer<0.5.0,>=0.3.0->spacy<3.3.0,>=3.2.0->en-core-web-sm==3.2.0) (7.1.2)\n",
            "Requirement already satisfied: MarkupSafe>=0.23 in /usr/local/lib/python3.7/dist-packages (from jinja2->spacy<3.3.0,>=3.2.0->en-core-web-sm==3.2.0) (2.0.1)\n",
            "Installing collected packages: en-core-web-sm\n",
            "  Attempting uninstall: en-core-web-sm\n",
            "    Found existing installation: en-core-web-sm 2.2.5\n",
            "    Uninstalling en-core-web-sm-2.2.5:\n",
            "      Successfully uninstalled en-core-web-sm-2.2.5\n",
            "Successfully installed en-core-web-sm-3.2.0\n",
            "\u001b[38;5;2m✔ Download and installation successful\u001b[0m\n",
            "You can now load the package via spacy.load('en_core_web_sm')\n",
            "Collecting gensim==3.8.3\n",
            "  Downloading gensim-3.8.3-cp37-cp37m-manylinux1_x86_64.whl (24.2 MB)\n",
            "\u001b[K     |████████████████████████████████| 24.2 MB 4.8 MB/s \n",
            "\u001b[?25hRequirement already satisfied: six>=1.5.0 in /usr/local/lib/python3.7/dist-packages (from gensim==3.8.3) (1.15.0)\n",
            "Requirement already satisfied: scipy>=0.18.1 in /usr/local/lib/python3.7/dist-packages (from gensim==3.8.3) (1.4.1)\n",
            "Requirement already satisfied: numpy>=1.11.3 in /usr/local/lib/python3.7/dist-packages (from gensim==3.8.3) (1.19.5)\n",
            "Requirement already satisfied: smart-open>=1.8.1 in /usr/local/lib/python3.7/dist-packages (from gensim==3.8.3) (5.2.1)\n",
            "Installing collected packages: gensim\n",
            "  Attempting uninstall: gensim\n",
            "    Found existing installation: gensim 3.6.0\n",
            "    Uninstalling gensim-3.6.0:\n",
            "      Successfully uninstalled gensim-3.6.0\n",
            "Successfully installed gensim-3.8.3\n",
            "Collecting transformers==4.10.2\n",
            "  Downloading transformers-4.10.2-py3-none-any.whl (2.8 MB)\n",
            "\u001b[K     |████████████████████████████████| 2.8 MB 4.2 MB/s \n",
            "\u001b[?25hRequirement already satisfied: requests in /usr/local/lib/python3.7/dist-packages (from transformers==4.10.2) (2.23.0)\n",
            "Requirement already satisfied: tqdm>=4.27 in /usr/local/lib/python3.7/dist-packages (from transformers==4.10.2) (4.62.3)\n",
            "Collecting sacremoses\n",
            "  Downloading sacremoses-0.0.46-py3-none-any.whl (895 kB)\n",
            "\u001b[K     |████████████████████████████████| 895 kB 47.2 MB/s \n",
            "\u001b[?25hRequirement already satisfied: numpy>=1.17 in /usr/local/lib/python3.7/dist-packages (from transformers==4.10.2) (1.19.5)\n",
            "Requirement already satisfied: regex!=2019.12.17 in /usr/local/lib/python3.7/dist-packages (from transformers==4.10.2) (2019.12.20)\n",
            "Collecting tokenizers<0.11,>=0.10.1\n",
            "  Downloading tokenizers-0.10.3-cp37-cp37m-manylinux_2_5_x86_64.manylinux1_x86_64.manylinux_2_12_x86_64.manylinux2010_x86_64.whl (3.3 MB)\n",
            "\u001b[K     |████████████████████████████████| 3.3 MB 33.0 MB/s \n",
            "\u001b[?25hRequirement already satisfied: packaging in /usr/local/lib/python3.7/dist-packages (from transformers==4.10.2) (21.3)\n",
            "Collecting pyyaml>=5.1\n",
            "  Downloading PyYAML-6.0-cp37-cp37m-manylinux_2_5_x86_64.manylinux1_x86_64.manylinux_2_12_x86_64.manylinux2010_x86_64.whl (596 kB)\n",
            "\u001b[K     |████████████████████████████████| 596 kB 44.4 MB/s \n",
            "\u001b[?25hRequirement already satisfied: filelock in /usr/local/lib/python3.7/dist-packages (from transformers==4.10.2) (3.4.0)\n",
            "Requirement already satisfied: importlib-metadata in /usr/local/lib/python3.7/dist-packages (from transformers==4.10.2) (4.8.2)\n",
            "Collecting huggingface-hub>=0.0.12\n",
            "  Downloading huggingface_hub-0.2.1-py3-none-any.whl (61 kB)\n",
            "\u001b[K     |████████████████████████████████| 61 kB 480 kB/s \n",
            "\u001b[?25hRequirement already satisfied: typing-extensions>=3.7.4.3 in /usr/local/lib/python3.7/dist-packages (from huggingface-hub>=0.0.12->transformers==4.10.2) (3.10.0.2)\n",
            "Requirement already satisfied: pyparsing!=3.0.5,>=2.0.2 in /usr/local/lib/python3.7/dist-packages (from packaging->transformers==4.10.2) (3.0.6)\n",
            "Requirement already satisfied: zipp>=0.5 in /usr/local/lib/python3.7/dist-packages (from importlib-metadata->transformers==4.10.2) (3.6.0)\n",
            "Requirement already satisfied: idna<3,>=2.5 in /usr/local/lib/python3.7/dist-packages (from requests->transformers==4.10.2) (2.10)\n",
            "Requirement already satisfied: certifi>=2017.4.17 in /usr/local/lib/python3.7/dist-packages (from requests->transformers==4.10.2) (2021.10.8)\n",
            "Requirement already satisfied: urllib3!=1.25.0,!=1.25.1,<1.26,>=1.21.1 in /usr/local/lib/python3.7/dist-packages (from requests->transformers==4.10.2) (1.24.3)\n",
            "Requirement already satisfied: chardet<4,>=3.0.2 in /usr/local/lib/python3.7/dist-packages (from requests->transformers==4.10.2) (3.0.4)\n",
            "Requirement already satisfied: joblib in /usr/local/lib/python3.7/dist-packages (from sacremoses->transformers==4.10.2) (1.1.0)\n",
            "Requirement already satisfied: six in /usr/local/lib/python3.7/dist-packages (from sacremoses->transformers==4.10.2) (1.15.0)\n",
            "Requirement already satisfied: click in /usr/local/lib/python3.7/dist-packages (from sacremoses->transformers==4.10.2) (7.1.2)\n",
            "Installing collected packages: pyyaml, tokenizers, sacremoses, huggingface-hub, transformers\n",
            "  Attempting uninstall: pyyaml\n",
            "    Found existing installation: PyYAML 3.13\n",
            "    Uninstalling PyYAML-3.13:\n",
            "      Successfully uninstalled PyYAML-3.13\n",
            "Successfully installed huggingface-hub-0.2.1 pyyaml-6.0 sacremoses-0.0.46 tokenizers-0.10.3 transformers-4.10.2\n",
            "Collecting sentencepiece==0.1.96\n",
            "  Downloading sentencepiece-0.1.96-cp37-cp37m-manylinux_2_17_x86_64.manylinux2014_x86_64.whl (1.2 MB)\n",
            "\u001b[K     |████████████████████████████████| 1.2 MB 4.3 MB/s \n",
            "\u001b[?25hInstalling collected packages: sentencepiece\n",
            "Successfully installed sentencepiece-0.1.96\n"
          ]
        }
      ],
      "source": [
        "!pip install -U spacy\n",
        "!python -m spacy download en_core_web_sm\n",
        "!pip install -U gensim==3.8.3\n",
        "!pip install transformers==4.10.2\n",
        "!pip install sentencepiece==0.1.96\n"
      ],
      "id": "36de2c56"
    },
    {
      "cell_type": "code",
      "execution_count": 12,
      "metadata": {
        "id": "26cedbde"
      },
      "outputs": [],
      "source": [
        "import spacy \n",
        "from spacy.lang.en.stop_words import STOP_WORDS\n",
        "from string import punctuation"
      ],
      "id": "26cedbde"
    },
    {
      "cell_type": "code",
      "execution_count": 11,
      "metadata": {
        "id": "ff862fcb"
      },
      "outputs": [],
      "source": [
        "from gensim.summarization.summarizer import summarize\n",
        "from gensim.summarization import keywords"
      ],
      "id": "ff862fcb"
    },
    {
      "cell_type": "code",
      "execution_count": 14,
      "metadata": {
        "id": "REibptgMxbEU"
      },
      "outputs": [],
      "source": [
        "from transformers import AutoTokenizer, AutoModelForSeq2SeqLM\n",
        "model = AutoModelForSeq2SeqLM.from_pretrained(\"ramsrigouthamg/t5-large-paraphraser-diverse-high-quality\")\n",
        "tokenizer = AutoTokenizer.from_pretrained(\"ramsrigouthamg/t5-large-paraphraser-diverse-high-quality\")"
      ],
      "id": "REibptgMxbEU"
    },
    {
      "cell_type": "code",
      "execution_count": 15,
      "metadata": {
        "id": "0V1f_3iCxgfB",
        "colab": {
          "base_uri": "https://localhost:8080/"
        },
        "outputId": "4e469cab-0fd4-4a43-9cfd-f5de106d1813"
      },
      "outputs": [
        {
          "output_type": "stream",
          "name": "stdout",
          "text": [
            "device  cuda\n"
          ]
        }
      ],
      "source": [
        "import torch\n",
        "device = torch.device(\"cuda\" if torch.cuda.is_available() else \"cpu\")\n",
        "print (\"device \",device)\n",
        "model = model.to(device)"
      ],
      "id": "0V1f_3iCxgfB"
    },
    {
      "cell_type": "code",
      "execution_count": 16,
      "metadata": {
        "id": "4567e6fc",
        "outputId": "5f0fba36-c1f9-4f37-95a4-4bbb508bdc81",
        "colab": {
          "base_uri": "https://localhost:8080/"
        }
      },
      "outputs": [
        {
          "output_type": "stream",
          "name": "stdout",
          "text": [
            "['also', 'used', 'often', 'give', 'other', 'becoming', 'first', 'per', 'became', 'why', 'before', 'hence', '‘ve', 'others', '’m', 'no', 'what', 'thru', 'unless', 'does', 'three', 'their', 'than', 'within', 'already', 'neither', 'after', 'everywhere', 'twenty', 'now', 'sixty', 'wherein', 'whatever', \"'m\", '’re', 'noone', 'herein', 'her', 'many', 'say', 'is', 'thereby', 'herself', 'top', 'everyone', 'afterwards', 'ten', 'too', 'name', '‘re', 'ca', 'somewhere', 'himself', 'anyone', 'move', 'quite', 'that', 'go', 'rather', 'whoever', 'all', 'beyond', \"'re\", 'we', 'behind', 'besides', 'indeed', 'toward', 'your', 'another', 'amount', 'least', 'become', 'very', 'thereupon', 'above', 'due', 'own', 'less', 'here', 'whereupon', 'fifteen', 'nobody', 'someone', 'while', 'at', 'could', 'since', 'towards', 'never', 'somehow', 'might', 'ours', \"'ve\", 'elsewhere', 'although', 'therein', 'him', 'full', 'in', 'us', 'therefore', 'until', 'anywhere', 'few', 'more', 'eleven', 'last', 'show', 'not', 'throughout', 'then', 'cannot', 'do', 'who', 'side', 'former', 'should', 'once', 'each', 'upon', 'ourselves', 'it', 'seem', 'may', 'yourselves', 'next', 'except', 'bottom', '‘ll', 'forty', 'anyway', 'am', 'were', 'below', 'across', 'there', 'with', 'and', 're', 'call', 'she', 'get', 'everything', 'as', 'whenever', '‘s', 'themselves', 'empty', 'itself', 'when', 'hers', 'mine', 'which', 'none', 'perhaps', 'put', 'to', 'will', 'still', 'onto', 'have', 'whereafter', 'every', 'enough', 'its', 'whereby', 'fifty', 'even', 'though', 'seemed', '‘d', 'of', 'you', 'alone', '’ve', 'over', 'most', 'where', 'any', 'hereafter', 'anything', 'because', 'whether', 'sometime', 'really', 'made', 'the', 'or', 'anyhow', 'keep', 'becomes', 'yours', 'along', 'whom', 'among', 'using', 'how', 'else', 'whole', 'through', 'beforehand', 'out', 'up', 'this', 'latterly', 'thence', 'under', 'them', 'front', 'can', 'whereas', 'just', 'done', 'whence', 'some', 'our', 'be', 'two', 'whither', 'so', 'thereafter', 'between', 'by', 'hereby', 'wherever', 'beside', 'seeming', 'they', 'those', 'latter', 'me', 'yourself', 'eight', 'on', 'otherwise', 'take', 'something', 'these', 'doing', 'i', 'hundred', 'a', 'several', 'five', 'further', 'such', 'if', 'well', 'third', 'being', 'n’t', 'his', 'was', \"n't\", 'around', 'four', 'nowhere', 'he', 'been', 'regarding', 'for', 'twelve', 'six', 'yet', 'from', 'thus', 'are', 'nothing', 'would', 'nine', 'whose', 'my', 'please', 'together', 'amongst', 'meanwhile', 'down', 'had', 'via', 'into', 'however', 'off', 'make', 'much', 'ever', '’d', 'various', 'sometimes', 'formerly', 'both', \"'ll\", 'did', 'moreover', 'only', 'n‘t', 'but', 'namely', 'one', 'mostly', \"'d\", '’ll', 'back', 'an', 'again', 'almost', '’s', 'during', 'myself', 'always', 'about', 'same', 'seems', '‘m', 'against', 'either', 'part', \"'s\", 'hereupon', 'serious', 'see', 'nevertheless', 'without', 'nor', 'must', 'has']\n"
          ]
        }
      ],
      "source": [
        "stopwords = list(STOP_WORDS)\n",
        "print(stopwords)"
      ],
      "id": "4567e6fc"
    },
    {
      "cell_type": "code",
      "execution_count": 17,
      "metadata": {
        "id": "28103ad6"
      },
      "outputs": [],
      "source": [
        "nlp = spacy.load('en_core_web_sm')"
      ],
      "id": "28103ad6"
    },
    {
      "cell_type": "code",
      "execution_count": 18,
      "metadata": {
        "id": "fa0e50f1",
        "outputId": "a05e8b2a-d8c4-429f-e196-c75a613827d0",
        "colab": {
          "base_uri": "https://localhost:8080/"
        }
      },
      "outputs": [
        {
          "name": "stdout",
          "output_type": "stream",
          "text": [
            "[ ] print(summarize(text, ratio=1)) Elon Musk is working to revolutionize transportation both on Earth, through electric car maker Tesla -- and in space, via rocket producer SpaceX. He owns 23% of Tesla but has pledged more than half his stake as collateral for loans; Forbes has discounted his stake to take the loans into account. The Tesla CEO stepped down as chairman in 2018, after making alleged \"false statements\" about a plan to take Tesla private, triggering an SEC probe. SpaceX, Musk's rocket company, is valued at $74 billion after its latest funding round in February 2021. He grew up in South Africa, then immigrated to Canada at age 17. He landed in the U.S. as a transfer student to the University of Pennsylvania.\n"
          ]
        }
      ],
      "source": [
        "text = input()"
      ],
      "id": "fa0e50f1"
    },
    {
      "cell_type": "code",
      "execution_count": 19,
      "metadata": {
        "id": "cb9aabfe",
        "outputId": "94fc0b47-fcc1-4019-db4c-70861be0b551",
        "colab": {
          "base_uri": "https://localhost:8080/"
        }
      },
      "outputs": [
        {
          "output_type": "stream",
          "name": "stdout",
          "text": [
            "[ ] print(summarize(text, ratio=1)) Elon Musk is working to revolutionize transportation both on Earth, through electric car maker Tesla -- and in space, via rocket producer SpaceX.\n",
            "He owns 23% of Tesla but has pledged more than half his stake as collateral for loans; Forbes has discounted his stake to take the loans into account.\n",
            "The Tesla CEO stepped down as chairman in 2018, after making alleged \"false statements\" about a plan to take Tesla private, triggering an SEC probe.\n",
            "SpaceX, Musk's rocket company, is valued at $74 billion after its latest funding round in February 2021.\n",
            "He grew up in South Africa, then immigrated to Canada at age 17.\n",
            "He landed in the U.S. as a transfer student to the University of Pennsylvania.\n"
          ]
        }
      ],
      "source": [
        "print(summarize(text, ratio=1))"
      ],
      "id": "cb9aabfe"
    },
    {
      "cell_type": "code",
      "execution_count": 20,
      "metadata": {
        "id": "8e5cf2c2"
      },
      "outputs": [],
      "source": [
        "topics = keywords(text, words=10)"
      ],
      "id": "8e5cf2c2"
    },
    {
      "cell_type": "code",
      "execution_count": 21,
      "metadata": {
        "id": "01dfe82c",
        "outputId": "ebdf36ee-d81f-480f-c4cc-ce10d560b61d",
        "colab": {
          "base_uri": "https://localhost:8080/"
        }
      },
      "outputs": [
        {
          "output_type": "stream",
          "name": "stdout",
          "text": [
            "tesla\n",
            "spacex\n",
            "funding\n",
            "alleged\n",
            "false\n",
            "car\n",
            "rocket\n",
            "private\n",
            "ceo\n"
          ]
        }
      ],
      "source": [
        "print(topics)"
      ],
      "id": "01dfe82c"
    },
    {
      "cell_type": "code",
      "execution_count": 22,
      "metadata": {
        "id": "dbf7957b"
      },
      "outputs": [],
      "source": [
        "doc = nlp(text)"
      ],
      "id": "dbf7957b"
    },
    {
      "cell_type": "code",
      "execution_count": null,
      "metadata": {
        "id": "41002c52"
      },
      "outputs": [],
      "source": [
        "token = [token.text for token in doc]\n",
        "print(token)"
      ],
      "id": "41002c52"
    },
    {
      "cell_type": "code",
      "execution_count": 24,
      "metadata": {
        "id": "5a2bdc29"
      },
      "outputs": [],
      "source": [
        "punctuation = punctuation + '\\n'"
      ],
      "id": "5a2bdc29"
    },
    {
      "cell_type": "code",
      "execution_count": 25,
      "metadata": {
        "id": "4d8001ac"
      },
      "outputs": [],
      "source": [
        "word_frequency = {}\n",
        "for word in doc:\n",
        "    if word.text.lower() not in stopwords:\n",
        "        if word.text.lower() not in punctuation:\n",
        "            if word.text not in word_frequency.keys():\n",
        "                word_frequency[word.text] = 1\n",
        "            else:\n",
        "                word_frequency[word.text] += 1"
      ],
      "id": "4d8001ac"
    },
    {
      "cell_type": "code",
      "execution_count": 26,
      "metadata": {
        "id": "9932acb3",
        "outputId": "3bf35392-1890-4929-af48-cb9f452897b0",
        "colab": {
          "base_uri": "https://localhost:8080/"
        }
      },
      "outputs": [
        {
          "output_type": "stream",
          "name": "stdout",
          "text": [
            "{'print(summarize(text': 1, 'ratio=1': 1, 'Elon': 1, 'Musk': 2, 'working': 1, 'revolutionize': 1, 'transportation': 1, 'Earth': 1, 'electric': 1, 'car': 1, 'maker': 1, 'Tesla': 4, '--': 1, 'space': 1, 'rocket': 2, 'producer': 1, 'SpaceX.': 1, 'owns': 1, '23': 1, 'pledged': 1, 'half': 1, 'stake': 2, 'collateral': 1, 'loans': 2, 'Forbes': 1, 'discounted': 1, 'account': 1, 'CEO': 1, 'stepped': 1, 'chairman': 1, '2018': 1, 'making': 1, 'alleged': 1, 'false': 1, 'statements': 1, 'plan': 1, 'private': 1, 'triggering': 1, 'SEC': 1, 'probe': 1, 'SpaceX': 1, 'company': 1, 'valued': 1, '74': 1, 'billion': 1, 'latest': 1, 'funding': 1, 'round': 1, 'February': 1, '2021': 1, 'grew': 1, 'South': 1, 'Africa': 1, 'immigrated': 1, 'Canada': 1, 'age': 1, '17': 1, 'landed': 1, 'U.S.': 1, 'transfer': 1, 'student': 1, 'University': 1, 'Pennsylvania': 1}\n"
          ]
        }
      ],
      "source": [
        "print(word_frequency)"
      ],
      "id": "9932acb3"
    },
    {
      "cell_type": "code",
      "execution_count": 27,
      "metadata": {
        "id": "95c4fb03"
      },
      "outputs": [],
      "source": [
        "max_frequency = max(word_frequency.values())"
      ],
      "id": "95c4fb03"
    },
    {
      "cell_type": "code",
      "execution_count": 28,
      "metadata": {
        "id": "1876616f",
        "outputId": "9d1bd5ee-9498-4502-c9e8-5bc7c8d07acf",
        "colab": {
          "base_uri": "https://localhost:8080/"
        }
      },
      "outputs": [
        {
          "output_type": "execute_result",
          "data": {
            "text/plain": [
              "4"
            ]
          },
          "metadata": {},
          "execution_count": 28
        }
      ],
      "source": [
        "max_frequency"
      ],
      "id": "1876616f"
    },
    {
      "cell_type": "code",
      "execution_count": 29,
      "metadata": {
        "id": "bdb4745d"
      },
      "outputs": [],
      "source": [
        "for word in word_frequency.keys():\n",
        "    word_frequency[word] = word_frequency[word]/max_frequency"
      ],
      "id": "bdb4745d"
    },
    {
      "cell_type": "code",
      "execution_count": 30,
      "metadata": {
        "id": "4a340618",
        "outputId": "42d34101-e43f-4124-d105-c516480b4635",
        "colab": {
          "base_uri": "https://localhost:8080/"
        }
      },
      "outputs": [
        {
          "output_type": "stream",
          "name": "stdout",
          "text": [
            "{'print(summarize(text': 0.25, 'ratio=1': 0.25, 'Elon': 0.25, 'Musk': 0.5, 'working': 0.25, 'revolutionize': 0.25, 'transportation': 0.25, 'Earth': 0.25, 'electric': 0.25, 'car': 0.25, 'maker': 0.25, 'Tesla': 1.0, '--': 0.25, 'space': 0.25, 'rocket': 0.5, 'producer': 0.25, 'SpaceX.': 0.25, 'owns': 0.25, '23': 0.25, 'pledged': 0.25, 'half': 0.25, 'stake': 0.5, 'collateral': 0.25, 'loans': 0.5, 'Forbes': 0.25, 'discounted': 0.25, 'account': 0.25, 'CEO': 0.25, 'stepped': 0.25, 'chairman': 0.25, '2018': 0.25, 'making': 0.25, 'alleged': 0.25, 'false': 0.25, 'statements': 0.25, 'plan': 0.25, 'private': 0.25, 'triggering': 0.25, 'SEC': 0.25, 'probe': 0.25, 'SpaceX': 0.25, 'company': 0.25, 'valued': 0.25, '74': 0.25, 'billion': 0.25, 'latest': 0.25, 'funding': 0.25, 'round': 0.25, 'February': 0.25, '2021': 0.25, 'grew': 0.25, 'South': 0.25, 'Africa': 0.25, 'immigrated': 0.25, 'Canada': 0.25, 'age': 0.25, '17': 0.25, 'landed': 0.25, 'U.S.': 0.25, 'transfer': 0.25, 'student': 0.25, 'University': 0.25, 'Pennsylvania': 0.25}\n"
          ]
        }
      ],
      "source": [
        "print(word_frequency)"
      ],
      "id": "4a340618"
    },
    {
      "cell_type": "code",
      "execution_count": 31,
      "metadata": {
        "id": "8535189a",
        "outputId": "56500083-efe7-44e0-fb99-3fe6aec8f977",
        "colab": {
          "base_uri": "https://localhost:8080/"
        }
      },
      "outputs": [
        {
          "output_type": "stream",
          "name": "stdout",
          "text": [
            "dict_items([('print(summarize(text', 0.25), ('ratio=1', 0.25), ('Elon', 0.25), ('Musk', 0.5), ('working', 0.25), ('revolutionize', 0.25), ('transportation', 0.25), ('Earth', 0.25), ('electric', 0.25), ('car', 1.25), ('maker', 0.25), ('Tesla', 1.0), ('--', 0.25), ('space', 1.25), ('rocket', 1.5), ('producer', 0.25), ('SpaceX.', 0.25), ('owns', 0.25), ('23', 0.25), ('pledged', 0.25), ('half', 0.25), ('stake', 0.5), ('collateral', 0.25), ('loans', 0.5), ('Forbes', 0.25), ('discounted', 0.25), ('account', 0.25), ('CEO', 0.25), ('stepped', 0.25), ('chairman', 0.25), ('2018', 0.25), ('making', 0.25), ('alleged', 1.25), ('false', 1.25), ('statements', 0.25), ('plan', 0.25), ('private', 1.25), ('triggering', 0.25), ('SEC', 0.25), ('probe', 0.25), ('SpaceX', 0.25), ('company', 0.25), ('valued', 0.25), ('74', 0.25), ('billion', 0.25), ('latest', 0.25), ('funding', 1.25), ('round', 0.25), ('February', 0.25), ('2021', 0.25), ('grew', 0.25), ('South', 0.25), ('Africa', 0.25), ('immigrated', 0.25), ('Canada', 0.25), ('age', 0.25), ('17', 0.25), ('landed', 0.25), ('U.S.', 0.25), ('transfer', 0.25), ('student', 0.25), ('University', 0.25), ('Pennsylvania', 0.25)])\n"
          ]
        }
      ],
      "source": [
        "for key,value in word_frequency.items():\n",
        "    if key in topics:\n",
        "        value += 1 \n",
        "        word_frequency.update({key:value}) \n",
        "print(word_frequency.items())"
      ],
      "id": "8535189a"
    },
    {
      "cell_type": "code",
      "execution_count": 32,
      "metadata": {
        "id": "c89a2d6e",
        "outputId": "c396266c-0101-4044-be50-1c17a37ab8fb",
        "colab": {
          "base_uri": "https://localhost:8080/"
        }
      },
      "outputs": [
        {
          "output_type": "stream",
          "name": "stdout",
          "text": [
            "[[ ] print(summarize(text, ratio=1)), Elon Musk is working to revolutionize transportation both on Earth, through electric car maker Tesla -- and in space, via rocket producer SpaceX. He owns 23% of Tesla but has pledged more than half his stake as collateral for loans; Forbes has discounted his stake to take the loans into account., The Tesla CEO stepped down as chairman in 2018, after making alleged \"false statements\" about a plan to take Tesla private, triggering an SEC probe., SpaceX, Musk's rocket company, is valued at $74 billion after its latest funding round in February 2021., He grew up in South Africa, then immigrated to Canada at age 17., He landed in the U.S. as a transfer student to the University of Pennsylvania.]\n"
          ]
        }
      ],
      "source": [
        "sentence_tokens = [sent for sent  in doc.sents]\n",
        "print(sentence_tokens)"
      ],
      "id": "c89a2d6e"
    },
    {
      "cell_type": "code",
      "execution_count": 33,
      "metadata": {
        "id": "0d14dcf4"
      },
      "outputs": [],
      "source": [
        "sentence_scores = {}\n",
        "for sent in sentence_tokens:\n",
        "    for word in sent:\n",
        "        if word.text.lower() in word_frequency.keys():\n",
        "            if sent not in sentence_scores.keys():\n",
        "                sentence_scores[sent] = word_frequency[word.text.lower()] \n",
        "            else:\n",
        "                sentence_scores[sent] += word_frequency[word.text.lower()]"
      ],
      "id": "0d14dcf4"
    },
    {
      "cell_type": "code",
      "execution_count": 34,
      "metadata": {
        "id": "309240bb",
        "outputId": "20379180-29de-4a11-b878-1fd199232d31",
        "colab": {
          "base_uri": "https://localhost:8080/"
        }
      },
      "outputs": [
        {
          "output_type": "execute_result",
          "data": {
            "text/plain": [
              "{[ ] print(summarize(text, ratio=1)): 0.5,\n",
              " Elon Musk is working to revolutionize transportation both on Earth, through electric car maker Tesla -- and in space, via rocket producer SpaceX. He owns 23% of Tesla but has pledged more than half his stake as collateral for loans; Forbes has discounted his stake to take the loans into account.: 9.5,\n",
              " The Tesla CEO stepped down as chairman in 2018, after making alleged \"false statements\" about a plan to take Tesla private, triggering an SEC probe.: 5.75,\n",
              " SpaceX, Musk's rocket company, is valued at $74 billion after its latest funding round in February 2021.: 4.5,\n",
              " He grew up in South Africa, then immigrated to Canada at age 17.: 1.0,\n",
              " He landed in the U.S. as a transfer student to the University of Pennsylvania.: 0.75}"
            ]
          },
          "metadata": {},
          "execution_count": 34
        }
      ],
      "source": [
        "sentence_scores"
      ],
      "id": "309240bb"
    },
    {
      "cell_type": "code",
      "execution_count": 35,
      "metadata": {
        "id": "a9d1ca1e"
      },
      "outputs": [],
      "source": [
        "from heapq import nlargest"
      ],
      "id": "a9d1ca1e"
    },
    {
      "cell_type": "code",
      "execution_count": 36,
      "metadata": {
        "id": "236bf641",
        "outputId": "f7fe4be7-4f88-4da2-d649-37d6f9899f2e",
        "colab": {
          "base_uri": "https://localhost:8080/"
        }
      },
      "outputs": [
        {
          "output_type": "execute_result",
          "data": {
            "text/plain": [
              "3"
            ]
          },
          "metadata": {},
          "execution_count": 36
        }
      ],
      "source": [
        "select_length = int(len(sentence_scores)*0.5)\n",
        "select_length"
      ],
      "id": "236bf641"
    },
    {
      "cell_type": "code",
      "execution_count": 37,
      "metadata": {
        "id": "c6dac1dd"
      },
      "outputs": [],
      "source": [
        "summary = nlargest(select_length,sentence_scores,key = sentence_scores.get )"
      ],
      "id": "c6dac1dd"
    },
    {
      "cell_type": "code",
      "execution_count": 38,
      "metadata": {
        "id": "790ae22b",
        "outputId": "d9128d68-3a3d-4436-de8c-81e9299c3d37",
        "colab": {
          "base_uri": "https://localhost:8080/"
        }
      },
      "outputs": [
        {
          "output_type": "execute_result",
          "data": {
            "text/plain": [
              "[Elon Musk is working to revolutionize transportation both on Earth, through electric car maker Tesla -- and in space, via rocket producer SpaceX. He owns 23% of Tesla but has pledged more than half his stake as collateral for loans; Forbes has discounted his stake to take the loans into account.,\n",
              " The Tesla CEO stepped down as chairman in 2018, after making alleged \"false statements\" about a plan to take Tesla private, triggering an SEC probe.,\n",
              " SpaceX, Musk's rocket company, is valued at $74 billion after its latest funding round in February 2021.]"
            ]
          },
          "metadata": {},
          "execution_count": 38
        }
      ],
      "source": [
        "summary"
      ],
      "id": "790ae22b"
    },
    {
      "cell_type": "code",
      "execution_count": 39,
      "metadata": {
        "id": "176ff557"
      },
      "outputs": [],
      "source": [
        "final_summary = [word.text for word in summary ]"
      ],
      "id": "176ff557"
    },
    {
      "cell_type": "code",
      "execution_count": 40,
      "metadata": {
        "id": "a0627fb3"
      },
      "outputs": [],
      "source": [
        "summary = ''.join(final_summary)"
      ],
      "id": "a0627fb3"
    },
    {
      "cell_type": "code",
      "execution_count": 41,
      "metadata": {
        "id": "7734cef2",
        "outputId": "d1801cd1-d0ed-4915-f2b1-55d77b6e09a8",
        "colab": {
          "base_uri": "https://localhost:8080/"
        }
      },
      "outputs": [
        {
          "output_type": "stream",
          "name": "stdout",
          "text": [
            "Elon Musk is working to revolutionize transportation both on Earth, through electric car maker Tesla -- and in space, via rocket producer SpaceX. He owns 23% of Tesla but has pledged more than half his stake as collateral for loans; Forbes has discounted his stake to take the loans into account.The Tesla CEO stepped down as chairman in 2018, after making alleged \"false statements\" about a plan to take Tesla private, triggering an SEC probe.SpaceX, Musk's rocket company, is valued at $74 billion after its latest funding round in February 2021.\n"
          ]
        }
      ],
      "source": [
        "print(summary)"
      ],
      "id": "7734cef2"
    },
    {
      "cell_type": "code",
      "execution_count": 42,
      "metadata": {
        "id": "f12bc99d",
        "colab": {
          "base_uri": "https://localhost:8080/"
        },
        "outputId": "2317d4da-54b0-4c84-cf39-898f7adc86a2"
      },
      "outputs": [
        {
          "output_type": "stream",
          "name": "stderr",
          "text": [
            "/usr/local/lib/python3.7/dist-packages/transformers/generation_beam_search.py:197: UserWarning: Passing `max_length` to BeamSearchScorer is deprecated and has no effect.`max_length` should be passed directly to `beam_search(...)`, `beam_sample(...)`,or `group_beam_search(...)`.\n",
            "  \"Passing `max_length` to BeamSearchScorer is deprecated and has no effect.\"\n",
            "/usr/local/lib/python3.7/dist-packages/transformers/generation_utils.py:2451: UserWarning: __floordiv__ is deprecated, and its behavior will change in a future version of pytorch. It currently rounds toward 0 (like the 'trunc' function NOT 'floor'). This results in incorrect rounding for negative values. To keep the current behavior, use torch.div(a, b, rounding_mode='trunc'), or for actual floor division, use torch.div(a, b, rounding_mode='floor').\n",
            "  next_indices = next_tokens // vocab_size\n",
            "/usr/local/lib/python3.7/dist-packages/transformers/generation_utils.py:2474: UserWarning: __floordiv__ is deprecated, and its behavior will change in a future version of pytorch. It currently rounds toward 0 (like the 'trunc' function NOT 'floor'). This results in incorrect rounding for negative values. To keep the current behavior, use torch.div(a, b, rounding_mode='trunc'), or for actual floor division, use torch.div(a, b, rounding_mode='floor').\n",
            "  num_beams * (beam_idx // group_size) + group_start_idx + (beam_idx % group_size)\n"
          ]
        }
      ],
      "source": [
        "\n",
        "context = summary\n",
        "text = \"paraphrase: \"+context + \" </s>\"\n",
        "encoding = tokenizer.encode_plus(text,max_length =128, padding=True, return_tensors=\"pt\")\n",
        "input_ids,attention_mask  = encoding[\"input_ids\"].to(device), encoding[\"attention_mask\"].to(device)\n",
        "model.eval()\n",
        "diverse_beam_outputs = model.generate(\n",
        "    input_ids=input_ids,attention_mask=attention_mask,\n",
        "    max_length=128,\n",
        "    early_stopping=True,\n",
        "    num_beams=5,\n",
        "    num_beam_groups = 5,\n",
        "    num_return_sequences=5,\n",
        "    diversity_penalty = 0.70\n",
        ")\n",
        "for beam_output in diverse_beam_outputs:\n",
        "    sent = tokenizer.decode(beam_output, skip_special_tokens=True,clean_up_tokenization_spaces=True)\n",
        "result = sent[19:]\n"
      ],
      "id": "f12bc99d"
    },
    {
      "cell_type": "code",
      "execution_count": 43,
      "metadata": {
        "id": "_0-LMhh4xlg4",
        "colab": {
          "base_uri": "https://localhost:8080/"
        },
        "outputId": "bf953ee9-71fc-49a5-81ec-62ba7ec483e4"
      },
      "outputs": [
        {
          "output_type": "stream",
          "name": "stdout",
          "text": [
            "Elon Musk's rocket company is working to revolutionize transportation on Earth, electric car maker Tesla, and space by rocket manufacturer SpaceX; Forbes has discounted his interest in loans to factor in the loans; Musk's rocket company SpaceX has dropped its valuation as chairman in 2018...\n"
          ]
        }
      ],
      "source": [
        "print(result)"
      ],
      "id": "_0-LMhh4xlg4"
    },
    {
      "cell_type": "code",
      "source": [
        "!pip install gtts"
      ],
      "metadata": {
        "colab": {
          "base_uri": "https://localhost:8080/"
        },
        "id": "wMMvwejh0tIa",
        "outputId": "049df1ab-e8f3-4eed-a5dd-a4d493f3ef99"
      },
      "id": "wMMvwejh0tIa",
      "execution_count": 47,
      "outputs": [
        {
          "output_type": "stream",
          "name": "stdout",
          "text": [
            "Collecting gtts\n",
            "  Downloading gTTS-2.2.3-py3-none-any.whl (25 kB)\n",
            "Requirement already satisfied: requests in /usr/local/lib/python3.7/dist-packages (from gtts) (2.23.0)\n",
            "Requirement already satisfied: click in /usr/local/lib/python3.7/dist-packages (from gtts) (7.1.2)\n",
            "Requirement already satisfied: six in /usr/local/lib/python3.7/dist-packages (from gtts) (1.15.0)\n",
            "Requirement already satisfied: urllib3!=1.25.0,!=1.25.1,<1.26,>=1.21.1 in /usr/local/lib/python3.7/dist-packages (from requests->gtts) (1.24.3)\n",
            "Requirement already satisfied: idna<3,>=2.5 in /usr/local/lib/python3.7/dist-packages (from requests->gtts) (2.10)\n",
            "Requirement already satisfied: certifi>=2017.4.17 in /usr/local/lib/python3.7/dist-packages (from requests->gtts) (2021.10.8)\n",
            "Requirement already satisfied: chardet<4,>=3.0.2 in /usr/local/lib/python3.7/dist-packages (from requests->gtts) (3.0.4)\n",
            "Installing collected packages: gtts\n",
            "Successfully installed gtts-2.2.3\n"
          ]
        }
      ]
    },
    {
      "cell_type": "code",
      "source": [
        "text = result"
      ],
      "metadata": {
        "id": "DKyQte9A0tXP"
      },
      "id": "DKyQte9A0tXP",
      "execution_count": 45,
      "outputs": []
    },
    {
      "cell_type": "code",
      "source": [
        "from gtts import gTTS\n"
      ],
      "metadata": {
        "id": "-1TwAP9Y02lH"
      },
      "id": "-1TwAP9Y02lH",
      "execution_count": 48,
      "outputs": []
    },
    {
      "cell_type": "code",
      "source": [
        "from IPython.display import Audio\n",
        "tts = gTTS(result)\n",
        "tts.save('1.wav')\n",
        "sound = '1.wav'\n",
        "Audio(sound, autoplay = True)"
      ],
      "metadata": {
        "colab": {
          "base_uri": "https://localhost:8080/",
          "height": 75
        },
        "id": "qby78j7a5iC9",
        "outputId": "d1b6cef0-e638-4e4b-d33c-b062242e3989"
      },
      "id": "qby78j7a5iC9",
      "execution_count": 49,
      "outputs": [
        {
          "output_type": "execute_result",
          "data": {
            "text/html": [
              "\n",
              "                <audio controls=\"controls\" autoplay=\"autoplay\">\n",
              "                    <source src=\"data:audio/x-wav;base64,//NExAAPGBogAUMYAOIEABBwoCAIfwf/g4CAIAgc8oc8Tg+D7/8oCAIVggCAY/BA5gQ5/AgIAh8Tg4CAIAgCAPg+D4Pg4CAIAgr8ICQEMzMJuYBxIDAXT8L/v4IjzfPJ//NExBYW0lacAZhoAKZTHgU/7l41OK/6DsYmRP/ZOSjIGZABawJMC8A9/5Y6BovC9gFQEnE9HoPMlv/WmtPuSpeHEMUhDKLpkTv/7v/zpMJI1erePMrQFhTycKT0z7Ak//NExA0UsdawAdlYAXdam78zP5dx+hy7/N1f7///+K/7rryRUtykQJcZjaYC8TY7UzIbx8HpNY2Jh1jphPjuV9vdPi249nnGqFku46g5sJK7IG7Lnbz9h1pFvB1uleAw//NExA0V6f6kAMqemK6Q5/GIECNh6nUZt5J8t5Q3xLbRTrifPdBZRNRIofJJK+kEKVkgQIEIyo3x8q7P+paZ+7Lzvd84TjnFgUkMyDrHkh4+7NV/qlW7Rf/V2gLGzKrP//NExAgUSdKwAMnSlNqYMmVl9rFygZP4pM8dJ+/oe/OVM/Kk+/YgYYhTJ8GjGyeCokYqkzIbe+VksM/t1/+MP/1vn9NMZCOiFvZ+TZFx4Pwk7/////Uq/vM4YEbg8rbv//NExAkU0fasAMrKmFhnYUlErpB2njM9+gGv+mYfDJMtiBoieinlYfn1EmpBHmtNWFitKIh1srC4rmGggNuQ/39F6KXVxJWQxQ6blQ+8g+GG/////sLDKuZY1nhMmnGi//NExAgT0f6kANPEmLFufBw7QkcV7MDPDVnhrDWjku8eZYEqSx14TedLP92YlV/usF1r/5m//J9/v6lR8GGJ3O/X524M5+Y78z+VeGB5493////66t6r2GFmWgiyOUV5//NExAsSugacANTKmFlQAFIMso+JgQCA1ggpVrAo0EcSRSJkrAUKFpp7nDbzFH3+j6f//L8rXqHn6/I3gCWXBb6i3ibeJl3/////qCXmOVlrRirhNOhE2+qE4y/4OUSv//NExBMRMcKUANTElAcxAeEljRAzHNCrCGGqEZ1M36vq+h8/////V/Kje/ofoYmhgMWfh2t7Sx+j////7Xhp1zW/GdHeu63GUhwPhQ5ukAZgFOSSJmWQJsWWW5wjA4wZ//NExCERGcaoAMxElEIhQppvqQb29P///26nPwYG/08ngAhiSh3PrM0E5Zn////9KvRBrQcxHOimgrpgfZELVApxbasEFisH6y8EMBx5ILpi0GyfSNG51/M/q3q/u/qf//NExC8R4bK0AJSKlKiFtQgPPzkuqB0Pna4qCEWyLpZ//////pr1gRwjKF1mABimWiPoLRCopFxXQMrDC6qYrwBuANQPDoFIQlHtPycQ1yVn/9R/3y//2f/9v/5xOIY5//NExDoSmaK4AGyMlSDJxBqJIhEmkQJPpHEqiHq19hygLnK6ClkcAuAWx8rBjwmDVlItg2BEiaHi6LwDORNC+1EWacXzImzTyrfIehr+d8499R4IydhsNhcEhebHwcEF//NExEIR2aK0AJyOlI6NRUQyqm6jEDpD2kXQ1MLrJLNjYcoA4ebNURoNDbzZi+AsFAOiOugUQ1EafkqQnqNX8oW+c3lG9Tl46AwmtFYG2uPADmHPQeLag5kNOqr5wAWT//NExE0SEaawAJUOlGbcJmKirc1UiDucf/sJCI23waXXhp239Q3EVePnbWTtb/FTeca/jp/o3qNSbpYAYaMrKUIPTBaNDNSgvMdBTW6VfVX//tRHcZA/U7ORNogQVbtH//NExFcRmaa0AJPOlKtKvgOp4R9eQkQ/t6/2nnL/ElVdv4oyLhVZ1Hn+PP6/jzdygTGmGnGElvoS+OkWSqiS2GnncLbKArPCcrq0mpGCFSXti1sjmBmLZgHAGrtZm8Va//NExGMQ8aqwAMPOlOZQ+suvcvhUSccXnYQz9/o+hDlyETdTk9P/scqKcWEOFUKBhQQNg8Z9au7poyWXMRpwcY/aUzC4CJMWFHYsVjmdcVhZX7sLZua8rxGjaJQsigwm//NExHISGbqUANMElJugMpv/90ZLWtr//9GZ2jIAnDCxzBwVDyP////6Kqm5UyEwttOxQEm3dfAx8z3SGiozJE0FLYrZw1Ju5ZOlKCYFkhM8gHR4VNxTRK4ogUa4gNfS//NExHwRkbqYANpElIeAX/+tBo4MINaZZd+xv////1XGmhlGY4AEW9L9fdHc/DkWrGTAFzybOpIndxuDgY2bPwkAienAICwtWXrHV33vn5t2Db/5k2k9/4sHjuwa9Cre//NExIgR6MKUAN5STFhBp25i+m4pfkI0XNQlr+AAwgIXZOqrqvX5DCAgswxq46EWVCNCAABACxBYRJx/tlHkStvfGZAwJHf21vWfL5+H7DBOH+uzS0BIWfA6zY0wEm0S//NExJMPiMKYANZYTDlfPubOJpGgpFhoN7Wg9b+CmRxGy5Rsywwzmo2IxoCU0WFeIEHB7hMNF2GI70+7kAzmcw/1Xi5tnrt74IP6h/c/K53L5rKUE1mkckOI5M9dzcWC//NExKcRwLqcANZeTERqIhAPmAiIkJ5vzWQCWCP3YtftoOn0OwSsLIY4aV6iowcqFVhAwF9tQZQhlYFrPomdLq76Mrop5/EnmDW1b3Cps4nDWOEoAqkEBXEzam0XIuRM//NExLMccZacAM5SlUxiOqaLZFzkuciqIKZBg56ZeXWpYsrX5dyt3VRoGkIsNHjHk8YVeeMWu/EjYwFgw7puBfqXV3jSSnkyUAzh6kmCPqMZibLWXkaZ9qZ7t277a02W//NExJQVwaa0AH4KlLO3ssWwo0AHWPAFf11115QSb3WxXa5U4K61daIjFTzg6XA86/gWiTWnoDIg5PYbuwqeuwRAmZXiRnV1YNxm3DTtad1nMO3+4vLnRNTOKBYDsGOS//NExJASmT68AH4acOVEzQTNiYwKtd+p/+sdg+9H01p/aT9/dQUM71dNBbUbpSFQZGWR5IWvTwQhrAtJGVrW5tirBrtli8V7DdLr42Ak4htxK6N5/WPb6xwMFGIl4U7P//NExJgT8O64AH5ecL9hmCjGCFwxXGXK3uYIWQJ2ZGid9DrHNZBzi8oIsAgubarQ0X6mBtIXFXkE4SJ4L5hiAOEOYXJRsYMRqWscpprVb//XVqOSgYFktv3Yluc3V0qn//NExJsUwZ60AMYGlJQA+Myx2E7hbGSfVI4mrLSGh0ssg5JyS+s2GedZtnnOq9KMJC5vL0eNKGIS/qdTFBz/rP7PYUD4PvbL+UOcQZ/9NZcIkICoYSiZs4bWWsK2aYZ2//NExJsRqT6wAMPUcB7jhwsd1ILjWSpH6jykYFEZTDTOYqlzMtyfXmVdru////9jv8o0/MSlUpPTyU8nvqs/uSjfqK04tVSqNJNZe0UTCOIOIKVLRiK2RMLJChzAXWgk//NExKcQmLqoAHvMTMo3NEipTESqi70jaNGjbIECGTEMckVpQkUxeCMPlpt/+Z5Pzv6JWT1///8/z///5///mf5jfs/85vjszx39T+7blbkY760tsMqW0iSlEuNtqCkZ//NExLcfcyKgAHlSvCCjbdaoQSGSCDKxAtLgigpqc9djbNKLGJFKKX5bkv//nMBgNwH//679P///99vqndPZvdGd7KjUnJOikVhhYkShywrhQTzEVAtjBTOHMcItAsQc//NExIwUwx6sABBMvDMHBuQ4ZjlcBXdIEcJC5rf//7JR0OAiUBupUct4UBASob////N///m/9SlLK1Oj39SlClLapQpWMjzGeVQxplKUpXLM8zhXQCMZyo5gIUorH3ym//NExIwQ+wa0AAhEueUyhNWBVsNmNkhGOezqexMxgT/1xVqm9FasGyAMMQACSUTFSakFAZMKBgRIAxsDVGq0VXdNUDHCgFBABxMixEPq/MRlxxkEIo3/+kTBUJ9I0L9X//NExJsSOuKgAUcQAbX/5fN0C4aOXDR3WoyNlLWurq/5gaEULhoV1XTTLjq15l61/v1f0EC+pBNOkXDQ3WEQNkE8h59bSErQWM3QciMi8Xx7DHF1jUQcSguiUE8pBcBk//NExKUgcyJMAZqgAB82HkOQNge5DnUR4jKMUj4HgOdAoDmTqfSW1o+GhqkpP/UyqSzNaDoImf/e6CkFu6kpkT3KJsYU12V+s2QQppuhoImRcUgfQJQvuamH//oIbmil//NExHYhcyqUAYxoAFC98kCwTMkiAZpscNKBgXGqImZsIWYjCr5if5K1UDTIy7WiI4MpJIlTko+DDMW83G4TjvrY1L7drfM8NWrf8q/5XX3MhCGqO1dnG1G2V6n2Neiq//NExEMgux6cAcFIABBs8RvtGacJG3rKTFEBokUFDiBVEjkeNgy3KZGYWMRI5KCo6vEVBdsj6YFoQoXNARbplUM2ka8FFiNNdAgbenr//8uTD//////////P/53+eWyR//NExBMQsuK4AABGueEzIZmSTZ1BZpUxQt2TgKikmod3goOFwETHU2W6BwUccwzBwWHUiR/IEJNT+T8fEv4P//jA6///G+ff+aI/v5GmyKcQGEF8zUozdXrFDUrGVHde//NExCMQ2va4AABGuaeexqjjNwjQOWoZ9mDkg4cKuahnlG1I1R8zOr2D9KPldUZ0ACbblX9ZrFlyPR1KAJGbIeVMj1aF1SJuLZOev1aAgKhQIywKip0NWw1hoQuEuV6z//NExDIQAXKwABBGlK3rBUNRKCsSvlby36wW1XtvAX0CCPlEpNIFb2nj0AIWMlh9CMHTN9tW/AcLHywsDwOAgjctAzCGAgwmg4Jg8RCBUdBpoSHhIkJQtU2PsdnP///Y//NExEUSEM6QAMMGcKVpclWatR0dAG+uoOvxARk8ZiiCxoSM6SlfitKEyobgV7BmoRfT8oJU8mgxSJQHK6xMCCQa3iiyIIKI2ijQqEgv8o4U4+9/mf5/Erv6wuUvEO56//NExE8SaMaAANYMccwNC6CNBTudQkmbGi7J94prxLMIYFBrFGvwUIlJzgojt0f84nDrZHg5YrhYBakNw00x56TUhpJZVl0syvA4c///8EHP/TWx/wWCutCwySdCCznK//NExFgSmL6IANayTHBjpOtelciEiVnyihQkhic9SozGME/1TiCJNUjHjQTDpF5WE8t/xWNX8xw7X/xP//wQAZBP1IXn7mh1VJvUAprTm8mEgAT5ZUKewLvA9JdjBzS1//NExGAQ4NqsAMZYcCmF5FpgwkVrJVA1iSZphlj48Jn3SErov/hR9e0aJj+z8+v/sUXYSD6lbWD0FIaVBWhuHu4zxfiEWc0vUopTF7bOAe901cRVo6AyGIcOUbpOGePG//NExG8RIQK4AMYecHz/HzWt92jZ3/Wl773q/rq0TLTQpf+gJpAIafJwAKymqYieg7L28GlIzvPSXVbQIFQZ7IGTlMBSBql8NxJYZxxiRHj16xV3WtcR7/21n59Y9943//NExH0RMRK8AG4ecKz/mkePu14Me5ICR/vSKEDphegUwtFDS0NEIE/5LJSIv2dQaFGiZLMtfVsZgazrD8Ykl89lv/rPtIP/6so5oYX1YfQwCnKCOsBAQzZjJ5l9DvQw//NExIsSYS68AG4ecDJwrr0aMCLXPweAQcQJ54V3bT8g/ebHAEJjV01nyFbEzt8ix+zPrQ0wgo2PKqjxvu8SPSk7NkXTL0mdqEOJ0KFLexn7GNsoo8olS7ZnkiYFaoSy//NExJQR6Y60AIYElMCrFdD9AWjzYD9APQGkrL1oguBMeHzUa1MffX1tHp9XL1YVIwAigEhUTLLkuCIkDIweGsFUklhJ4lERFbtWytOdr3xEGxj6qkbgeLGwBKfEQQYJ//NExJ8SgZKsAMPElL5MK4zYzGVNAOGK8so2syzl2rjyt92rNjhe04wVQaBkWyb4FpBlyuS/lm77pL6Gq2fv+L8b/2HbBeoFHTDtAx+IQZ3kw4TSQlZQckCG6ccs7bzf//NExKgSUMaIAHsScFTrRecU4yQm0GxfSVqBywyKAVMFL10abLeF8QOIQGpi5QbFs/rut4KMDGYlABVAgGHyf1r14EkC4xzA4wc8uCfNe9+l9ZF1DIEPK5EC+oWD/+1V//NExLEREKo4AVkYAH3yfLgsBfMCIGc0Wbv71aKPlzKL0Dp36V9oqvkxjpmhTVIt9HN5J+W5vBStzK2NS2sPINU8equLkrmprtl78nKnhbhYQg8mmJaO3Plo1EnHATs///NExL8gcnJAAZqYAM/FOqmhqkmgNj86jjXqtcB+/YL3ruC/znLquoV/eI/3qPPMz3+M+9Mal36yzw4u4zyHml/T//2h/X18/H9N21X/O5Fp/kFvmU5xXrrdK6JVmXiR//NExJAiImqUAZh4APmdAoBE5E4ukLBOY28bGnXP3YYkNNJYbpq8oljieEVmM86zwnq7cEYreIAQJEydu0ZG8wwSYTIIPabgxEyJMmrOGKbnjteE9rNq/c7ivK6QfbY///NExFoYKcKoAdhIAV1sMJLn0VX/01yjxghi3Ygl4DlLDITC4pxQWEsFB1EowL5qBqCCeQXnkLhS9PUKg4kPTYDBhp3qxm0HQd+2o7ZxZ5mvs3/7brdf5+Z/5m+zfPo3//NExEwVsbbAAMJYlfaF/dflBhY6A8xh9Gxp2/N5iUhKp1UGwdSes+jZne4gWteEOVpuGiZri24ZBYcgFB+NQT+NVY6Qd06klSSHZrBLg23tqfKb0VkNAivURWE9D+kx//NExEgRsS7AAU9AAfUjKBdSox4MYcYMDmTxRvWOASZF5nCGR1yiGBZQJsOo8Qs6IFCw44VnPPJETaLQTBw2MlKXcuhkIB5IDOsgNKIMjImXIi2thHQs4G8wW6DA4Gab//NExFQfoeZgAZugAJihMjIm0Ok4rcbwuYhxmRxNGTpVt3fkkQEhpMDnGR8okVRaukkpX/NTXqVFmOdIMcU8OxbZRcSFHk1nOhaHK6mkIm3COo0s16cQxUKussLX/w2K//NExCgbsbqQAY94AINM63PBZpBFKN9Gs3M0TN3kSjc5QtwmLf+fjDyIz394tcQYL3ev/mDa/ia8Smru2uSO4fEgqdCU9P5yehFwlLq//iSl5aqpMKQOa+JhI9KMuCM2//NExAwUgX5MAZo4ACAciQxXUz5pkrWFeWjrWcR4UiSOo7M6x0lZ37HExHHQyaNTR0ydx0syxV6LNXocdez/v21HSTQEMq9HKkmLI3/+efJbfSt5VQRC9HDr+Z0Ib+/6//NExA0VMlKUAY+AADkvzcwYZY3IL5OFM3ImQ0W0WUKC+TBUJAvoC3CUQIIhEOX+pvLZiXET///ZbpLZf//6nSWmfNT6X///6lzwNPD3//3jBogSYcCiNQ/w0kkRxBNO//NExAsSGO6gAcZIAJ93PHxvq8bpa2mkp3UjBLMjgOidUNlg49KHqDzZx9zQAaQDgooTl5cgXaqeYQCJpTcgkOXk/+9/8m4i0j0KrlFiZm4ThWibo8/0gQgWDwOB4YGF//NExBUSSM6kAHsScI8ZSCRpIRRMnbVbyo3JLNRkDBrkoWkrVkoZAwdKnRV6nBNYcU9S5YkBul9D0W3WRWdE10jV1/ghMMy1uaoLuafzuyGAN8xT3FjMptCHhFISfgVB//NExB4SqTawAMPWcKLJHPxpOQyFoigDgjHi8EtQlh7UyQfWUNG2+/f//P/3cw92gwH1P8Yt6gjfQv7hzOWRlsvUgvZsjmWsizvfAFBdfH+ZNF2IDMiydTyjDfNQj44l//NExCYRaUq8AHvGlVQFLrTzfzHWExxj3L26x7lk24rIG2EbC8D94MeaI6/t15gPFW4XiqsWRLWdqCtvGH6l29yFp2uxKzwhZCGxxljU2ixXmeIXFVTWUWcxq4w5UFu+//NExDMSUY60AHvKlGzfmzZUZANjRaJD6HajoMPYCoLuJWLV+lKoBKfRRwbSY64QiXkTggmR6FtlF0aW0/VRHUD52rQVThHAeTFfFGBmKoEkeU2jdew++Wv065Zbw6VE//NExDwRqM6YAMvYcESPIqsiMNHkCrTSiURQTH3cKUAwCfJWoCzEIWCQ54RkWHBWUC2BqWsyB+srOW5ROClULgwCvI+UnLREYnCbc+949KW4MBp/6ZjIJuHf///SJQRB//NExEgSoYZ8ANPElP1hup+MKCAtwQlQcWiwdOVDgtIDSkhFgLQupBSSsJfTpcQGAEbBEUvVBEUlA00QilcUktERNoiBVxIioRSTFB0FTJURLd+p4iHlajBAIgHjM4Ay//NExFAR0K50AMPSTLDTLCMzgFJAYSGw4BrjAKJBroISkwnXWLKLMpnb9LrG9s4wVKQYK4ki+PegW2Eusiojps9uv/oRrvtXVp936GaPwY8escxhA6HzVgu2nOdgweW3//NExFsRwJpAAVsYANwXg9Z05JsQpo6A3RXB9gfjBY4HuGlBhXRniIjMhdWQ8gZM0GyXJscJEiIGRqTxXL35qWzQ8Vy4kgZKLi/6yfQQM1GSLJlwuGhB/+aGh9DW8g5f//NExGcgAk58AZqYABwFQ8bm6Zh//fshTUyCBobm//ykIv6Z5OtRwMCosEHfcTEGPBCy2AzxBkK1LLiSwQIu2K2ZygSTo4WExhWBgqQuZf2NKGuhhgvkeoz8fsx2HAj8//NExDofmhqsAZh4AEQxSjF4n8MqiDqJo/tT0rDjTR7tzyRlnjSnY8+9X92CLHj0zKuHtt31n6j7pvWt9wfTXls8thsmvTV4msff////mu7x1cwU6EgZnwbFngfZBjyO//NExA4R2Ta4Ac9IAeG+P1lUqkZYqlm9Wa2Hb0n57jso50OYwKUIyHj8EZ71cfH/y/yWpP9EU4pu7Cx/fv99LktMuzbON4qzbfU1eVYdJkdbDagIEoymsfJGK1L5DCZ1//NExBkXgb6IANPSlStP2sl0LarkwVDl3j20fNt3rreaNynyfwwDSqFRU0mOtasnVbW3cJa7ZIUSqj/kvHdq///9r79lcFySQZJJIZ0o/UVNlfxlRkg702lolXDsTEHC//NExA4Vmc6oAMISlDLA0+rZTgCXZYOVISBpFHr2Z6fKeMvsQpZLDqyYUOREY/i74tsI26Lo3lz6SgYukC7cqhCs9RnlZ6YnNRZRC2SVa2Ptu+v1uRXneEQ3NypibUvu//NExAoU2bKwAMHYlcPj6LdKvnCwOGUqLKDdppCqtRn2zmWO3xqGWjm0JJBq+hkkEFcaZfeqTTklENUZEo0gxc/9q/+TMw/9m/9q1arV8OuTwvwFrXGK/VCMNfvVcMZP//NExAkR8aa0AMIMld1bIniKZ6C+yDtSa1Nrxt/XtPxXpf2hqvJNX3AgMBAoFB1EzKSHAhRKRyUwnTRX1m7Znv+nRkrrKlZZPH0n8v/qhpMP48F5LMtxJayZm/ANAIRU//NExBQSGaq0AMCMlQRdAr6aO+ZtaGfP5t6ezZhgYBCjAYKIkzSIoWJIgxh1G72dm+O7Tuu042PLJnbMdNeHan+V/eSnYsavih8DRwiTxkuzPcHgnfE/MJ5p+cuh/XV2//NExB4SGaqsAMHMlbzv7Rk5e0SUgcODBd4kMFqJDDKNqaeMmdjy2Tms1VBxI09EGWY2VypZu0r/1EU2L954iBS6KGCmZOv8KmQS9EF1k6df7LXy5fwjvQMm1xKRnFDh//NExCgRMbK0AMCSlDtMFCZhds3lzX/hV/Pf/rP6zNm3C7Tk8g9B9bJq3HftjCm7UH0TFwHIGFKq2tFskHm0ytyvz/fLzj4zPguw8UtTBKIIfCcxg6FlOAcK2QvVPV8X//NExDYR0aqwAHjQlft/PzNcXehxxwLMTUums1vvKscbMGJvyLuoCSDu0pKEPHD9g4CgWkoOApbOIazo/XHDvUjBRUw8BRQuIgNiYk0q7n5o7zQ6VTgatesXx//8/6fc//NExEESobqwAMIQlCdXV9kItcpW8Vr+XIDBT0XwkohfaVhSjNIaNRokQOWzwqZReYC2XWLZ8fU8itqDjPoKAZ5KrTKnVm/bq+gdyCIvp7vlXXoP7tsDVGh/UQTGvqTj//NExEkSUfqsAMtKmGrWOUZE+S3vQdhlt+mMDR6VneB9Z9zlj/tSCr5VRn9snz211n1SG81ah+JC3To+pOEjpgzYt299W/lbQWoUKF6mrPRKmvrIpgy5JUgAjOU9BTCH//NExFIQ4b6oAMPKlEW2lbwz6Por5urXUTSbb//+lSf///3r7HvV+yva2zPrenvZ7w47SCKnTY/OdzwjDSriziyrhHv8jd/hLiXX0ulHP4T6NnG8RhXfX/mtl////Wv///NExGERqqasAHiEuf//////+e/w6TG7D6pkvst+VCba1zTTUYRVMslRJw0wTOKk5POXaWMj6ZGqJyAwfWgjKI5lDG7NHnabf3anUFDE5I3uWVUrFkjOqdQiCQ90uzmV//NExG0ZMxqkAHhSvP7Vfb/TeQcQsG9XIv///2//////b9/ey5mPqG3etc5qWs2S8W0LengU6CO6KJV5yzVFGjCt+MgWEozCWoItp4YEBiTBhVz0TiMnEyJWxW1WO6Kg//NExFsXmu6sADiMuRCi4EqrOZtHPKVqRqXImMwjuMkhE/zmFqwpMFuUe4uEkEiyGKHAnIH1BRRJu0PDraQ63EjIqYcdbS0wPZWpnjdegUgkR1D7yVXT5VVXfcpJqZ+3//NExE8eix6YAMIMvP3IkUf3nt63XycnDiWtrPMUSJEcKSedmsOSqngGSmZ8+taXltltrt2r/nZV1PrwLEplTGEGuZQIFlh0LnsGGgmsQfEJzJquHp0+XF05AFH45EEm//NExCcVYXp4AMsGlKiNLEuS0etaa1ytaidRNE0gI4f6zh5bTVSq+oIUzMbG1ICednivs1VPldv4SySFuukke5R1YQmDQcuchARgYvnCi4XRU3LQmbC4JChwgSARQFGE//NExCQRCL5kAOcSTMFtTsSQUgmZDZcuQE9CCVZePz/pZJqDDQfgf80u6v/NqoZgJJ0RBw27RjTgiSDHQuYnPpv58iyWFhCncZWeHvShFGmKiYIFjagc5FrCpIJECfpg//NExDIbuQ5oAObQcAIGIASuXOjrbu3DDovwGRHMGHiAvZgoSyi72yn3btSzc6aDAA04FkpcEE5cPhgPmC4PXpl7f////T/eUE+z/YiIEM3QKdNL8lBTG5I2kvbBLVSL//NExBYX6YKMAN6ElJjpGhoBAaXxj7B47JMTikSZWHCIUmO/cXLdlm2hO5cj78RO3dmJyvb3Xt1BAYaiFF1Uh12///38mYgQIOCL1GYnSUd//////sDi5vV2MnYDTVbS//NExAkT+NKoAM4ecKsY+gQY9tuMISi6LT4bcqbC5gcB+NQUhkuqHJuStBQ2BuEkykUATs62fLK5Kx28cnT+PuXP//9DUiF58/TIJJs//////5Az/9YtiMegOA38ySgG//NExAwVAc6sAM4ElKlxW/jpZRWlt7mMsa8hS2+VR2U5V4NMsxGkVlRMQHwqy7LGoi/f2WlOnaIejkfN/////7sqlDBzmIllZpTEcWHI//////10E//7kMkpAOly/40Q//NExAsS8Y6kAMvUlFo8ZKLdI4EyArZmrAJEBpT6s2rBfVT7MJiA9BGoLa5GuEmW6QoiMAVMvmv5v////180hLHLVjwkOEId//////5FicOUjhFUc7rUsHWlD8AUQeLA//NExBISENqEAM4ecEVoEioKdhsbiutSqelNn6sZna3cYLoV5G3i9tFdExWGIlKBL8XKPFrFtwaPf/9UTDzsrBUJB1UwARMOE13EgGZgOGq1QttJIrmdARgAkDIoyqbq//NExBwSEMI8AVsYAEux7d5rPGrhul66MFYgwoCHAcKYYCAp4EAM0S7PKYr1djTfR//bCn/vuV/6FViTGT/NCJRx0b4zf4thM0R1nHEyGSEjdVA4mimHJEyBsC5dN5qc//NExCYcKkqMAY9oAETIzE1DfBOweAMxTacvE0uEqZOE8CjBZgnYnwyH26TrWiphyCTkcYMdhqWf9TvXRVL6j7G6zhoYf/q/+dNxYARU///4gBE+GBOOSqbgyHIdoOcx//NExAgSiT6kAc8wAN4h7MoEPdzZprFf7W1mv75j/1+/b987zjzR1NlbrIn2eaaGI28HNGk6hQlUgXDKw4ePnBU+h6wI4ih1hENNlv9nx1X6uq0rEcaAJnUWstbM1dmU//NExBAU+b6wAMnYlfZwEDBdZxA42k9OlPt5jzkt51qIZvE9rocFIsk6FEYL12rnDUnnEaVeqf7L3Y2Zowz8tvvudq9emS2YWXg3AxbXaf7S6ygBm45UsCbQuCL5o7Bt//NExA8TOd60AJtamBBVqFu3Jj9S/V6jN+cJpqiph+CqntQbBUXVOSZLJJLWMISxk6JgUaNFzVFqjRFsvnuYEU1TqNCl5g/UbZfR5/6qnX6weTZVhFOxG//rD+QUEmOk//NExBURed6oAMtUmJeXjT39SvW3MiW7FZQc5RkAaNEOIxID8ti4L1rzjeo9bzeo9bkQN1ZgLw3fUe+Ql9Tn/NkAA/W5FpzOUIJilZTHeCgV1BNGXwsWasY5R6Zr1po+//NExCIREcKYANNOlGvU831bUwkq1KHd0///6tocOljR8bjQHR0xSg45+z///8Uq7jSLBjhscXHpgNHlqZBlDCkjlbrjcBonaoTRNWeK4hpjSVeWfnkvUx+r//6v//////NExDARQcaMANqOlHNbPHAdEnYsD0sqjgOs/M///+uiJXZvtXDAUyV4OjfgURp0JDmJkxj4El2vW3SS+HbO71NvGrhTdmClKWlfUrIwoBTb/8zp+vdv/8yocj0flEpc//NExD4RwcZ8AVsQAKJ1f////PVP66w/EHcxRcRC5n8en7nQymbl8kymdHKJN5mXzeO08SRr/MC4yKI/FAYH8lDRkEGUeJpkoz/upkMuOTiiXCMO8AtP+ibpFxi4XGJQ//NExEohsyqgAY9oADSJIMoLuXSiB7jIFL/9k01IdadMUTYY4XIbC4OweAwpHHOMD//6mZ6C3b+DvHgJqOYxHwLaDvL4whfTclLUTEgAK6ig10p/0////ILjz3b2uljm//NExBYScfbEAcUoAFRSV0P0djGcRYRVwKNIPLSaYSMZUbVDGc1WMZB5WJLa0kS17waPJKjSgMiVaDzeQQosHab6WyzEGsTldWdS/L3sVXkIAGgjayikiQpCCO0FAxC0//NExB8R0XasAMJElWj33eytG3SZO3O5zMBCha4I2rPkMcohiKz6d+28sgYpjHACP8ml5hHq1+U4LhsdggwFheltnsIdGchkrLz/ch2ssZJ3GzAZC1ZOHAtQC3i5rF9n//NExCoSYX6wAMPElXrzNdgbdEAAqIQ2pitc3laiP/b+WzDlQVG2J95lpV3Kx50cQHpdXhRAiqqyIC8h61gtx406Zb7d0JzfWLqNjNqsVTPfl9i4g8HaNqYWwm2mxO2q//NExDMRaM6cAM6ecKQzVVbKHM0Yl6P/9TSTmdSkJJXXZQIYRGUgeQhX4ZEI4am5kGGZ8NtYgtN3GmuiIbW3GHCEErC3ARnOeBK594YMEpHKbqNyk1Ng/1NboHGtYAyG//NExEASQLqEANbyTICu///0BInT6cp6uWFgNPMWOiF+CwCYSEiRMFJsfvBzb7ckD9yIkVIwmdusFSw2ZQdtk+DsUDDGlugX4ERggCQ+9QBlfSAYt1X/WTDT5v//ww0y//NExEoSeMp4AN5YcLOUyQgAYWMVVlEYbMJtYE8AwWGwCKqHuO4kdXSgPeelCwKe0UhxqhAegTj8WKM81OJgYhzoe+VLPSU/GFVzwKn///9Rm/5C5rceBImodoRwJd+f//NExFMRsM6gAM5ecKBKow6FTudOuCOhQXbfGCGHu/GXZdt9MYZjD9wVKT0yx0MjxTHOSgsCVbU5uM1LlecMXxK/f3YHm//gAyUMA4CG4ykoqv/k7RaNXeoof8fSKAkg//NExF8UIPK0AMYecDGcelyPSJZGX2vJ9XuEFWwnkyFlojbRTYLkbwFEJtEibcHBAYZTAijA8Plkt7v///73BhJlXHb39gKUhtSUE7KcyYgqh+OdyegNoigxIl1auWx5//NExGEReM7IAHvScVhXmY4d8Ppo89Fc2skFWgokrlK7HRDKjMUjoqu7kU8zHX//ViOl465ylesyCsArnqkAtJTRN5aiLFE87ChIPkWCu6wTtYNbc4HjY5pFQIxbbkh3//NExG4REabIAGvKlC617Wtbe1rXU72xTuEnMPQbA4sOi31sDQMjlmHXNfGThYfqZw9Ccjku0bGgIeAknOWGF7HaP1dM8OKbp00hWKiQAUK3UipA9eaa1/bX5Xv1WG2K//NExHwRMTa8AGvWcBUiEw0emGKhQseBVhY0v/1K+rhWbuZoloFLLEfZzC2JVby1MpkNce+XQIhrcoIPts5NP7abx7WE0ByaNVNpIEzk8NQPc+NrNKggfcj/fyB/0+3q//NExIoR2SaYAMvQcP39db34/QM2PdGV0WE8p2dtav4xXjkAmVrzzGNaOo6NQq8zoWfOTnPct0axJZvW9W8P5ililfDCif1d/0wpV3Q8Fg4vphICyvtXv9XuLQcfaLEk//NExJURGK6UAMPMTAof9gf238NnVAx65vWccKochJRvlinTQDyDFrqBmQQGnxkKKBmKSB0zy0y+HpgDONzyR1Mcou+iVfnW8yb1Jvnt4yfxUCSz6mfN+o16j8Qw+PpI//NExKMWqbqgAM4QlauiF2ohIPiUET3////1kv/90CbYezO/ugAlg8fNYqMx6BkM0FE8JuDQHpbrJEJyPU8+ma/X8z+rf//VvUMKOchyt5n8raKUpUBhlC1RilsSgkDh//NExJsVwf6kANTUmFWrq7NKymbth0GHM5pMk4bpOqnsOiEIDRVJgxAnJETh1A0ICe9fr+p+tX////P1UzGf/0NY7GNOCUSMIK5jJOQMxDhigjM/////pcMe0pKAHABY//NExJcRCcaoAMtElbAbm25UFR0O+WSy7FQvxiLLh0agFLGybJmZFhbWepH7+r1v6///+voVS/+v+5AZjlHDK1zhjVcEHEnY44n////+ourXMffY5IiSb7ARhAgDCS21//NExKUScg6YANSEmIrgik30gOAnfbgBx8K0jQ0TJ5840lrs4m3++Z/Z///6nPQIO7///o1sOd2ka1j7QgDYc/////qqx1uoombaKJI4lXiKNwfxdjHKVw6Rzg5Dcsdt//NExK4Smg6QANyEmGp85WA6Eptv7WDpP82TIUMfQnCxy84yTvf429+oGEInTImB5Dqmty77NJ9+LMILbCdVZFMLWkmimYCIJKToryttSFv////46Zr/yqvsQRBp9jjE//NExLYR0fagANLEmFNwz4oWIU+C0At5h0RJT/WPV/KXU5H0kTUG2bqSMwipeQrQik//SoVE+9YiAPVRy47flcZ/+n5/cCe/9AYZfaFCyfjsULAJt+SbSDEFpuc1u4Q5//NExMEY4gKgANMMmIiRXcq1CQtSaLaxUmCVER40Dr1CyfrGk91jFN9RmE8CzUkgZhsicM9Y8Sn1jCG/JELEs8w9RebrKLPmIcw80yJITo9yaPB9zEcx56jtT//////K//NExLAV8d6kANNSmdXf/k/g7AXFP830UPjwGx1owJPPEYXNSX89moyo70NAGAMWLkElAwYWLwIRxZ6wUUknigLhNaTBby82TXvi028wetbZo7+ITeJFXSyu9bUwSVkj//NExKsWCc6cANNalNKn8ZWdfPx/X+w298/X+/fV1X2klLbVgFiNkn1HEVzLzbyihI4HyjhDDkMQaDeix4NBH9kIMTFLBRYKxOHCSZaVmKPy3R3uKjq6hB3fpvdOkelT//NExKUSucqkANHQlFb7/kVplj3uYkoe6SW1X3EnqCCifU6q+BD9kp////77GxMwIPRjxFCINZizi0bZPIXhSoXlSE6jzubocpmFvohJLbA6NNrjmYH1sHZtOyHNac3J//NExK0cMr6sAHpQuMmnTeuXyb5/Tntdlf5/Muxr712nWf/WKV7Kd9L1X0pB7ec99JmndGR3207d////8udyivL2GN3OPyg5KdOj5OOhDKFjcC4KJi3MIOzqZtUxT3Xb//NExI8Z6ua4ABFYudZleozy2z9r/e9/ah21sLb/lY39666EoW1HF9e0N/96/qr////5zQsysuXj1Zs9bQ5pibZaEVPMHhEoiFjsbXDNEbQoq6yM9PWHWp14vjXVK9ru//NExHoSCo7IAABMufGWrSUyxw0/PdUqm2Dw8YPTGnV00feAkyXm4svy/hgIahbyCzpQ4ArhBBF8zifo/2+9hUp6/X/dEiKirSGt1ZizAMARasMFjOMKmStArix7Eriw//NExIQReqrIAABQuOf2VywNFRoaxKHcOtcylAlVxeSRIXGXQWHWBF1WMfWOxpeLWGtvfiaN+9djJ7QfFYCFonpBku+z/s/c35LPJbnYEtG5WIdL8bKTKjBKxbdWf8r8//NExJESeZK4AHjKlHyQgdCZrjhmEOa0oleYhtBpimBUWzCmVY2p2lFy76tPWmOZ1pc8d4SSy0HICoLTLVrqL+v4ZlhtrX4a/Ve9fWvVauWb2PhyCtHDWIVYCYmJQyMy//NExJoRYSq4AMPMcYDAHgYUSvSgO7lIpUe8YkrTMh6o27Urp7QNXw8ziCr1bMvi5oTqA4T0Y3/+zvY2jL7f/0Q8LGgQBwweYVKJO2rCmhkAoj4rfKqoExIWVEoQ8QDx//NExKcSeaasAMMQlJMEgKPSo3eFQgM7+bg1M9+IMQCO/RszLj023TVjqZRBbkvqs7YI77pgAijE/nHJ23K5/WEoY9IHbaPcTb3MPauAdt8Q385Bf6Ce9uGQmowFFnND//NExLASWaqQANPKlSCSBI8bTmToMqcIIxgf+ufdKh4rrJTGzuNiyr+Kjiu8aRQ9m1AtACIgahVvIhSebVvgjOtLYVWjbI5DcfRTWx2A3BosxcIeyalzqhLrlohG8YbG//NExLkdQdqcAM4SmSu7xbwvN11FxJXoP2Q7E17y0hTV1qxWJfUMQKPkbKWgwAO0azjiW1PNFUwem9eLoPPL5aNIpbDGFv1LYorvajLcuzdrLsy5VA2NNm0Lo2NzCKSi//NExJcVyaK4AMYQlMtOmnTnqNcVemnX4j1ML5ia2ULv7jM53rwNNsNlQigXFQ8TNR1WZQ7YdNW5Csi3pFxsMBm7HneIj7cCLXED+8euY3D9WoCDYHj/v7+caimZKtfI//NExJISQY64AH4KlIr/UVOLCKRuRNKK3UIAQ/WhkTpFayChMqzKEHb2af8CoLBSWjME5ZwYyGqJWpiSPOYHdA/WZZm1RdyeeyHnD04t6qLVvu2X6qb/AulMth44wfxi//NExJwRiO68AH4ecW7qgEg9uSTecwSHe+aVuTjzmmVY/AMIfgHIuc0fKJZLm2OgJr9MS3G0xlnu2tPrXKW9yq1l/RG8NzNvbCAsYVTV4wY6JnAzMxEBkeVG8BYeoogm//NExKgSsT64AH4acNsgncqMn61R4BzTeQmYpUzPrRmsKn8HQgG0aEiYk0DhThh8w8MS0hto38//b4c2LI/p/yLqPD3JidGJARopYLKBMh0SIoW5Js+trL9hVzHSFGg6//NExLASiS7AAH4YcNpKGajGOsWJRASkgoFOdkm2tbf37a/bCwQEKkr9VLtR0ZY6OyD9ZyEJLWtwCCDuZRJLAdz2VhkyKYLBYAWUFgSn0xSp/HNutz1JOPTWLBEAULjF//NExLgQ8OLAAGvScXZzH2dlSaaimjw+Ycjanfp/90m2rJGjq3Z7Tb/JVAemnOzuVOIZuo3GdYuRmqhm9//ojAish90r//et9//9q0ZU0vUQd2PPkdG9tSMrrVGcp0Kc//NExMcReSq8AHvMcIQGLPBFIIBDBxZ6MIIiuU6BHICZPyumOfi5/mNq4SR9C9X/zmWNeX/EOh/////M8/3HXvfU/83NxWl6TWOuncu5ed4FFpZLQwbq7tePtGsYOfDk//NExNQSKbqoAMJOlD8R4HjRxoxzgVw8njZsfEGLZJZ59UmSxadD0QXgYpdmAm7kX//////7//////t///58pa/y2ccMOG1XR6yqRNGMo5Z+TSktSHBOFSqRkpNYYzgI//NExN4VGr6sAHiEuaIUFxII3AnQVodFJQVCFY3ZtRUoeJgfCcCqFzX//////////10dS+pUMrIXbVjIYpWM7CRUM6jA85XEWNRytERxnzZZlFTGoY5U5kFlKIiplIVD//NExNwV8xK0AChQuRlKJAYacplYwscOqK6ym4llNqVgyTqofPSgLf5xlLfvH05Kj1t/rTK5Ve43S3+vu10usOeMLt+x/N96uzMq4RSJboMdvqdmd/7/2plO2KhD1ZdC//NExNcQ2tLAAAhGuVyaxxnwwHB////2fsbO/mgRNnKiks5NkeC9j//////56vj0gfGNXor51O7fxZ36fjMKf////////gRI/89NR83vm/8FkZu0KhjeJ7DBOtWVJ9/T//NExOYUotqQAUcoAf+cv///+uFF0pHuCxe9UssmthhO1RcWs1F2luQbaAus4loEN5p4HjWafWmmiaG1HK/MXMR/xNe1x9ssXMo+119XNn6wM7hTf5nJyi2ITui/49W///NExOYj0yqkAYl4APqoNE/bu/ntO5//RZMwGNSLIFYiDIplTIMFoZJel3VxjJa9P2+O2ef6fMyXmTW01EPHQwSUV2gy78WKmTx3Qh9cs+loweNcNQoeLGa111KZuPBQ//NExKkVIp64AcFAAQByiogXEw/DhoI3D07JqRl4a+isn2SYlgaIoE6hEcITlliNAhWxxEwEjp0TErXNGBoOoYWWoNBJ3UPdcp//5633NUO9N2ldxs1okFTnRCvobnws//NExKcT6XqwABGMlAEI3cd6nECgeCYz0oeEHlndQw+9Sl2yuBq9m4wtf9qU3qNrkVr4OGui9dYQEBO/M///9PX954+T+/8xtSbq/v9HBj7Mc80Phcc/Y2ksCNx6WO0D//NExKoSqN6kAGGScPRd9dC/f+iJOh5qzadCv9YIZrDG6+TYDQOArUFCTFprJw8EDSkXDR9NP29ta03qWm6kXQNDpgSZfDwLAgYAgfEiSh9v/////9X/5oCtpX2E6VFO//NExLISWdKkAMYOlNwwi5u7yk9JZSJ4LI8m+NxP6i1CEVUpts0CoKEkBKJSzSBImTSYrok5AFMDr/8/3tWGVoo7M5l+qtlG9OspBYkLBrH0J3i+WmgZFvuTCEPJb/Kp//NExLsXeYqwAMPalE4c7JSY2/06huqkhHNYiFYYtyEhMNsKS1a7jccnV3Bpi17EF+JXrzE9x6LAeF2tpf1V6josAM1LcYoE4b/c/RhNGPiMdyHz/Osur/yPWqb+r10o//NExLAReQrEAHvSceJhiABBcUG0UoqMqa5pOVWO1ZrqzmFjx8IXfffP4yBFRajjtffi7hy/ZTSOuFV9PZbbkPE1dT+oSuTCHO6/SKG8qpZrduQqN/mhpRvaiuXRkxao//NExL0SCULEAIMScTWAIfqwkLdEM/s3Qz3Kpf3+iGfQYLGQQD2eyNWpjhXXgIvgFzz1KRB2jxeyZ+41vzkE2Z7sY3lDraoARXvIf1kABs7NFEU50jo/uUCb3LPy8u/W//NExMcRqU68AGvQlRYPs4nflz6jmXVE6cREBQImNtJ+f/9cbNYyNWZM99MRWUvzf5+ZLzeTM9mbM/Nuzpnsmt/nruX+b0mm79LzdtfAv9yX1mewqPF7x5VgsK3Hb9iU//NExNMSCaaYANPKlEt9IwOC3BIJkKyBxefna9edvTJYhXgm1Lh/AaQQ3XwKTPKU8mQVLbgGI3Mz8bJF60opKux30X67kX+//28Iy3b7e/3dzh63Ku5b5KY3mN3Uva0a//NExN0QILqQAMPKTPd+6X3Upb7hmLqVpmScGoyLmIrSihaV1Vk4bhZpWahcdRoFyJ60I1BqN05d1/L1TMuPXyKWVSwqdzF+0rDSFfxP4fF8mF//+3N+VppSoXTUspQE//NExO8cexqUAEhYvQRKGctQokwUDqzpX1grKgI9OtiVryz1ICrhKoGn55oNP1PIaBABE2NWHMbrZnFYKtivn0/REQlCs6FTIT3FRK71gJrE4TO0izkUMWJSOIgaUFA7//NExNAXyx6sAAiSvPSWadLFRXLYudp2bLvUxf5FSSiwQgcs9fMVGWMXcZoZE6Qk+8k8OGKWCATeLAfIIAA8LDgEnT47D5OFQAcIC4A20Kk+cJw0sIHFrAMOA2sAZFfm//NExMMQQaKkAEBElOq7JiDxP4ggMwLjDFH83Y3N2Tcfgv+J4Dph5KAy3/p/eQhsMmQM2GmgXCS//+23KiBCi5DpfJhEsk+Xyn///+9/mxmLPGmaIk+TBSNEDYuIKow///NExNUP8EZIAU8YAGgYFRt4h0zr0Rp5OGCJ5IsIVui4YOBp9lNMXmWbnyBi5CNA55gDAlgMMNTK5ME+AcMEhE5jmAhKAw4FpwDBQpnyZMDMc8c9ZEy0RUTIcAfctmyk//NExOgkiypMAZqYABk6LPdEwY3azXW61VKUp0FMtjqZm1l/Wm/5mZE+cQOIGjO1//7Vf//4jsq3c1KSpVOaSL9RqAS6oh+mRdAY8061xR4mYQ93/d8BBnWl2Eqh4hQD//NExKgfseKIAZugAIzBpdca2ZCJNu7ZqKpmsI8SRdpFFwUtjs9l9yJQ7j/14b13//WPP/Okz5/71jr+YVMef9eWU9LvcfduSU9rLPOktfvcokMazr8vSvB3/////6li//NExHwfcdaUAdrAADBa/n+sgyk0NqKu/iEw1Nx5GQX6Uaiw7+IClWf8RF9U+98KW+72YCAhgpp4ui2BLQ0yKeDgQiiFsKnC7zjZvrqdPqpt4WuEla+nXr9V7iYN7jg6//NExFEUUdKkAMvQlOqtn2cMOY+2HbjEA0IyIHHMBhEumo1DWGeOOsvyyrb5tba61batRrWiUIoqA0VT2ua0tq1/NPacvTOsugqdDUsBTQiEqdYa64GTgcAsytr+6lDU//NExFIRwRaMAVlgAP7/mE58pkgUCSDnAtvjwJM3KYJyMAJ0MN8wQLh03LSRRDGHK/JdRoaLcfB1H2Spt/W6CDJpjvLwjZLCakIUP+6CGzoIDqOMKmCtjLGsS8C/BbP///NExF4hUyqUAY9oANaaf/GFLxUO8c5KjDpCYF0lyz//7N9v5UXQ4B2ECJ+HPGwmEoOA6qphJf91f/////6tfXo3/1pJv2TdfIecjjw6gmCBpyiweHxJSiIgLKYzCSrK//NExCsRoprAAcIoAGdHd2SqMjls6ORTWeLEQxllZoxxgNcahVK4CqosnQjS/bRMzzFGCP7//mRILYVDfpqAl/nOZ20kCDjp88/P/hzuzKS0bFAKwXoAQ8FQbGPvOxyg//NExDcQmbKwABhGlAmURURUpS4tMdDtVd6+SkBB6j9S2tKgoBICL0lsIAQhiiwCDjxQ7SWOmiN/QrtMO9TDhw47h+F5hwOC2ACMABSiHCAETMAdPnsUBP9n8OL//kXG//NExEcQqVKsAMFGlc1FU7KEnEab/K4iw6S5GTjjzyclfc7mGL7PQgmvEIEpKBATR0nmZs+egkUowwLUHTXat1s19x6nfHsqBIafZXme/rf+6v/dZZIZiK0fYkQNpP/Y//NExFcSEZa8AMKMlRNCPrFU1bOkt5Z5fbnW5UvnB49IBskoVHo0ehUkNQ8oJqmOQiR1HqtU0v1LG5UruwoPa4vduX5U7y+q//6vAXDewsLzB2qPndgrM4UPjPyD0bob//NExGESMf64AMNUmNSJ/ooX949lnSY3hks5A0JK3BoO73m58m1so2v5SvYxVuykz32UHuXpkYPPUdoq6wgkFCIMO0GvyELWRo25oKi+VJuj+TNovkreBs+4UNWLBEGo//NExGsRkba8AMKWlKuYC92dAuy0PCDmmFYjkgZ+P4tShkcCGWtFCGSrDSIZpIpBC7t1y52wOwJc5XX9EVKeN7CpRPoFNoFK1UN17obRTfYlvaqdpMAQUIJGhCB9Gomk//NExHcSWdK0AJqQlQ84KJELwBG7NFvFsRR+UaRzzyT05XMekl9Y39rv3GkEB2o1uNhR+n/1vk8UEsH//N2EVfL3umWw2S2dmRoKYOBMHYPi9g0EQSmtufLvIpWRSaQM//NExIASKZ6sAMiMlf+K7QwMNYlytoYW//59YgZV0DwQH3V2Pf////+ruJHDIm6W2gp/tEFwyH9KNiBZrNGXCS9i8GUcQxiUHlK6mSxntCzZwxkfIZ/WgAA99lLeZPpf//NExIoR+bqsAMBQlDueeZvrYf/84vF///////GzNPbYWyO2HJprfRy0UGyEohy1E59JIIrUJ60ITQz5rS7bUw3/uvbvms31s/fcb0hj965aYJEhONOCVAMj3uYxOmj///NExJUSqaq8AChQlf///yDuoAfRAbsUHbnbaKndloajhqIBFwQKIEjeYXd41K9G7f9dpZv/H9/PWv9zu+Y7V8lymb7KHfTtRM3Uji8t99/zeO5u////+kgKeTLXOOMM//NExJ0SQlrMAAhMuFCtt37HVk5HerJGIiKWNlEgQKTzHi5m83sy5/v5/X7S2v8f+ez+an9GJ//OrNqF0Y+ElNmZ5kKJ/37b1a7XIhZzJot5B0uo4GmyKznOjkUDA3Ps//NExKcR8n7MAABMuXPn/X1Id93mXf4XmfRImUEtFGq7ZnVZqJSrgIkBUgxHoaik60hOtyzxEeyoK6Sp1R4BRKGss8REldboBKs35CEeFNxcR/DgrFGUh1mKCVEJ6Pt9//NExLIR6orEAABMuRqE4cpFfNhgRkbcr7TyL4afkxlXsp/hqzsaSfnlF2xsV38L0YJN3eRniGP4ivbsUZJ8RJ/AiWtmNuPFtGhu8w4+ca+Yd/n/MPJN9PV1/7g87u1F//NExL0T0ZK0AHiGlFOPclJVQLmIDkR63CMupR8nnuxfXOQ5XPcJSx+xX7Ex3y8V+0SWNvXInTDlWqpwsrpsvYUTwa3YXlMNbUwHKuFRpljSPoMTEG2IWfXOKQodqwIL//NExMAZocKoAMPelQMUV/d3NLXUPc9KxCwXJTr+VwwMvnlspnxaJCAriwqWt854JEs2ldWw3LV8vce0b+FExnW94c4aRTUYgAYLLJLbHfzw3tcyTatNStNF//K//K1e//NExKwaQc6sAMPelaimxscc7J9S1MqNBWKAQxRqGmkEjOHCTtDJtf/s5F/DXRBULuujj8aRB61Czv7pjwWey6Lej1KYDxGQicgac2/+iHobW////RJ5cV0CYMhZdCLJ//NExJYSqbKwAMPQlY+y/Me0he4TpRP4DTCRICkpaEBPUvdsEwDx3FAHHWxEJkMJmf5Rt/FjmJ11JKZKMKctXvKf//SvIShG76n1fkaxGmJFH7M0ZqqzcmwqmN6w1DwB//NExJ4TgcKMANvUlQg6RtWamViBul7PUahoZdnAJjsBhs0sCA02Bt0ZSeCyfD/qpHENFb7vEzjWLRlNMYdheYXIY5JoATJe+3MODJ+3Ile+FruQ0KZSNzdIvrQezhfE//NExKMRUaKkAMMElRafr8E5ZFdJlV5UbssENe8OBVnU6p/Kx3tHFlV7n8d3peBSM6Tn114kUPuxlKD608NPryRSoOvXjrIQeCggFDExOVBK2lFpUo4YVTNiG8ZSX9Z6//NExLAggeaUAM5YmfPTU0pl9XlWWVshQAzGlUnpbq2jNw23ErHGI06U8ocOix8EOcaz9NX/3ECKtJu4nvFMo+ihJ7F9rqB8zYC4lWyydVWAhVXwOpkA/DxIDZEl+4lL//NExIEVSY6wAMYGlDUSh+33G/zPKrbor8/7c331RmCghY4orzByHBhAMDChkooV5/9BX5/DrkKg3pkQYeX3JcSkgfcGBUSacjkicxtMJXgsKHN1xwzUI6u1jjidyuRu//NExH4TUYawAMYElN41aTvfEldWR9P9PnshCKIi5RUJCcVKYRIgsKh8xWH/Ff9QwViDmwpgdEDVyehK5/3ib1x+zSNyC79ytkIJE3WB4BCwR4qm8Dvsra6E5hymu09q//NExIMUEYKwAMYKla3NuYy///2uqCAgImDBY7HYcR0sQ6EQcdf/+4Mwdev2VjoGo29XW9CVv7twbSTc9rk1CXxoBfhMkbPChrgnbqieQpNOe8tzVEwYzH7ev1XdFmKL//NExIUSwY64AH4KlYuIiAuCiqOOrqAZll1Nbdf2lELh0oq+noPLzJepBWn2UyHE7+iRBHkOjQjmQp/t7FUyFb9oMOF6HMW55u1cQNDdDeVk9alcsylKgpBT0N/plozB//NExI0SMVq4AMPKlZAjtQHm8rsPHipchyIQeAVJdykmXLtYU8Tk8CWKTCPz3JYuZSYhhDoWCsBYKWgdnUiJP83/v1vdQlSOEA0+o/+choBgm1j0KhkIlbYYIExGMYli//NExJcR8aqkAMvEld4CEBiwCPASidsQaOaAS1R4RIgtrg5BYgX24QMCXLPL2aAOolhPyCjwZErCIKS1tiRgDNpJufkEgoQVD4LNXW5dLpldoYeyVFzj3jNhzM1I0POv//NExKIQySaoAVlAAMah1wFpkfwXLMG8TEfUK24NdY8d5Cmf1niWhxxiRf9Aefyi6v5NTw6wZbsIcO0h2NJ9K5wYIbuavKte6Z9SqiPfzFqqqmjwOYeLQfmDzJAniGlM//NExLEgUcaMAZl4ACRjFIiWC8LnIqaoE6M+RY+tZFBoH15QWtFlGrJJLMUVJNS16TU0lozBBlSbUYsDR95RTzQFKO//////6+Xs5xMcjnNDZxfjRsTVPlcjYtqTRxSk//NExIIawYacAdmQAI+/o2/OZU7ARaSVXewCDmJBWwgEUefizlVSdhf89jNQ+gqBy7uoivzvv7+Z5j9SF1CEFjZo83HX1HTlqOnP/////3lg4UqzhQvUSNxRU7bp08MH//NExGoXIc6cANZOlBDudiSpSEmZiVDdfRIwM/WcLYiCAY7al/ImY0LOfTKPCTMWA39XSUKv6xd2rOjDb7c+Fd3+RA/T7+3ndCB+YPeaDI0XI25vkY13Hg9//////1rc//NExGAYQdaUANaUmBDmWNMoaT2xW/TRYpCebd2IGFbm2+4ElFffcjqgWWVqabMwa/nNBQSVuGVdebXqPmo4xGd5H//////7BjHAzBXoIxsuRf//////WhHX9wlwebWj//NExFISuY6oAM4ElLxKUPFndlSmgSK1ZglOsHRkHN8FOIDM3F8BsDGcmB4EADmyxEELCaTt4ciwaMXZc7///QsCuCCOssH2f/////+LKv7hAYFlVDldSMMYm+uwQWkC//NExFoSCMKoAM4eTDzrVWZoCVcwLNkvI6WqkJkuXr56LWOFAaHeFcxWcy2KOrYxNCuECv//9SyTflhn//////xa52qF2ipIHmVpmkUtjJdcq0L9LfmS75flr6p2tICW//NExGQRcMKsAM4eTHL6rHUoRuZHDzipzMGYOJ5BBWgKwDpECcE1LmrTKLtHRqquC4ed///rC1/sTdYTCIsvlDGVdOu5CCMOCukKhKgk+kx2wSyHXDfiBm+g576ZBHil//NExHESqMakAMYecInTia6SOUlxph1GKV7mKSXNQqAZiRbWB+o+h///41X6qCoU+44cBARGMYhRqihB5wmmbWgWDAR45VI12xIg2OzwPTWfRkIGfBggCILqqRL7RiNj//NExHkRwMqwAVh4AAGl0SDAZRjJ1UQEjcYYilrO31hUPVjaCfExBEkK5YCMM5ALFIe1///xSvfz7hWy3/P/////XP5nnX///8f1l3n8wx+3uv3C3rDOlh3e/qxGW8////NExIUiCeKUAZnIAP//9aos+ncVFprnLVi86ERikxqFJk1TJYJNc2FqA1mPwlGBoYVMYIBCJgF9kBxKDGHm0XjjCxTVHBJBmkIAhCM+1DHppoSJgGDWQnwcMixzBgIt//NExE8hAb6EAZrIAIMBdHCYjfc9YU+fzUu7lllf7///77hz6THH941a3////1PlnN0l7Lk3B1LS1a0RpKpOMf+VWWXLKhQAduCmCl4KIuVn7twOyxWswZL4QC1EJAmn//NExB4aAaaUAZh4AOJyDdMVYxghDJyEKUgpfWv0g7ZHZcGtnD9JoN0lq4iwIdZmSHH99n6lV1BmtI8rBvv/0/pWvrX/f///zT/5z66lGC4hkE6fUl/ohIaN4Ood4MVg//NExAkReQKcAc8wAC3IckjSfmisjeOM0VS2nKnC5LtQuCHOwEkJCTCVGomkYOSlFgo4k40oqpyVdLfJSVLAB7V/8WR//PDGmidBIMeCDnyvV5/ViiVYSqOpqUvMmZax//NExBYTAUqYADDElBKCEhleVgZXBki7djo6pIz2PvDCr7HMD51zD7G6XXpFgq0vBNyHyWWFqy9bzVMARx8UWITbqBuwWV02S1F85DkM0c3/Nu1iIOUNaCVaNtBZoonr//NExB0ROOaQADhGcAK0refCR55E4pwZcRNACSV3J9HBFaTJR0aE1yJBQeHDg2lRkiICCR4QBzEf6qjuTZEu6GS8hOqOq6Aj0c7frnqPbmM/7mzK8v06W+bku3d07m1v//NExCsSGLKQAUUQAVZK/vs7bdtO/6ALJ/Uzmlm9YmytUL5M7HJicaTc9R48CMIXOWrzLIdKMG4FAojrQaXnlJNXoahOljTsukgmEM9BQd+YMN3LnDaFFoYXPNj7upqr//NExDUeexKIAYlYAdF6LUTWppFxzY2JnZO+JZTG39uOpN2Rw2Wu/t0tqJZFPbw5u5sTU7GuO9Oqe3nmwc6e1263e87SLrZ1vdTflu1zpQg0VNgwEBCj6zM1CgICAtQo//NExA4RcFpQAcMQAJOg0DMRHhLUDRUFlgqdBpwNf/yoK4KywViIO/8RVhosDMRA0DSgaeJTvBqDUFQWKhpQNOBoO/BWkoBFhOHJG1rs5625aQmREaQx6uSlv6SkzUBQ//NExBsRUMXoADJGcPWCgp09EpEYDREkHSrA7kvnVluWH1PW5aiow9KqPc8Js8CollazuDXt5WrDwsRKQAy0HKRJ1GWWcEA68vmLi6iM2BCF88npDHWQdn2P48PsWzZv//NExCgSAS30ADGMcLvmZekBgDeUky4ZCMmGEhhZ/WOU9Q18c75dNSf/2e/qrSKPNgGJeqAjASa1QwpSqkpVSjBgIgwExhQETNS/9l+NxvZmMKArFASBoGsOrWNdKjAC//NExDMQwS3kADDGcDAaHnclEsjksr53//XU+mtMQU1FMy4xMDCqqqqqqqqqqqqqqqqqqqqqqqqqqqqqqqqqqqqqqqqqqqqqqqqqqqqqqqqqqqqqqqqqqqqqTEFNRTMu//NExEMAAANIAAAAADEwMKqqqqqqqqqqqqqqqqqqqqqqqqqqqqqqqqqqqqqqqqqqqqqqqqqqqqqqqqqqqqqqqqqqqqqqqqqqqqqqqqqqqqqqqqqqqqqqqqqqTEFNRTMu//NExJYAAANIAAAAADEwMKqqqqqqqqqqqqqqqqqqqqqqqqqqqqqqqqqqqqqqqqqqqqqqqqqqqqqqqqqqqqqqqqqqqqqqqqqqqqqqqqqqqqqqqqqqqqqqqqqqTEFNRTMu//NExKwAAANIAAAAADEwMKqqqqqqqqqqqqqqqqqqqqqqqqqqqqqqqqqqqqqqqqqqqqqqqqqqqqqqqqqqqqqqqqqqqqqqqqqqqqqqqqqqqqqqqqqqqqqqqqqqTEFNRTMu//NExKwAAANIAAAAADEwMKqqqqqqqqqqqqqqqqqqqqqqqqqqqqqqqqqqqqqqqqqqqqqqqqqqqqqqqqqqqqqqqqqqqqqqqqqqqqqqqqqqqqqqqqqqqqqqqqqqTEFNRTMu//NExKwAAANIAAAAADEwMKqqqqqqqqqqqqqqqqqqqqqqqqqqqqqqqqqqqqqqqqqqqqqqqqqqqqqqqqqqqqqqqqqqqqqqqqqqqqqqqqqqqqqqqqqqqqqqqqqqTEFNRTMu//NExKwAAANIAAAAADEwMKqqqqqqqqqqqqqqqqqqqqqqqqqqqqqqqqqqqqqqqqqqqqqqqqqqqqqqqqqqqqqqqqqqqqqqqqqqqqqqqqqqqqqqqqqqqqqqqqqq7KysJHHE//NExKwAAANIAAAAAAtHl/lisooYYWIdLP7KysJHHEC0eX+WKyihhhYh0s/srKwkccQLR5f5YrKKGGFiHSz+ysrCRxxAtHl/lisooYYWIdLP7KysJHHEC0eX+WKyihhh//NExKwAAANIAAAAAGIdLP7KysJHHECwOmog7DOCUWEYYWEUWEpiwijoDYQHUcQHYQHhCA7DOCUWEYYWEUWEpiwijoDYQHUcQHYQHhCA7DOCUWEYYWEUWEpiwijoDYQH//NExKwAAANIAAAAAFHEB2EB4QgOwzglFhGGFhFFhKYsIo6A2EB1HEB2EB4QgOwzglFhGGFhFFhKYsIo6A2EB1HEB2EB4QgOwzglFhGGFhFFhKXqDGJZyakrOTVBQUGM//NExP8ZUwFIABjGuSlQ1hsqGscSGBDiWcmpKzk1QUFBjClQ1hsqGscSGBDiWcmpKzk1QUFBjClQ1hsqGscSGBDiWcmpKzk1QUFBjClQ1hsqGscSGBDiWcmpKzk1QUFB//NExOwjExXEABjGuYwpUNYbKhrHEhgQ4lnJqSs5NUFA1kxBTUUzLjEwMKqqqqqqqqqqqqqqqqqqqqqqqqqqqqqqqqqqqqqqqqqqqqqqqqqqqqqqqqqqqqqqqqqqqqqq//NExLIdAxmkABjGvaqqqqqqqqqqqqqqqqqqqqqqqqqqqqqqqqqqqqqqqqqqqqqqqqqqqqqqqqqqqqqqqqqqqqqqqqqqqqqqqqqqqqqqqqqqqqqqqqqqqqqqqqqqqqqq//NExAASarYQAUMQAT4gAAACUIIRE/dERET/1Of/qchP6Eb1OQjf/nOchCEJzkIQhOchCEITUhCN8hCN//kIT/+c5CEIQhP5znOIIAAAABh4eHh4AAAC1hDV1YBO/lid//NExAkUOlKQAZloAaVY5wOb+xo2EEsOeU4BQATALh/gt5agF7/8RshigAbYb//5YSZLiMBaCB//gUQYBiULhoX///3QHuPc3HOPc+X////yTcppr/ZtenaAmMtXo5gC//NExAsTqa64Ac9AAXBXKs5RXRMFzFw+Sa1fG4r8ZbORENknv5INz4FANMCo7GHDJUmpnnhIunMUVtjS5qam////+PvXqLGOk0kMOr9Z5yPa1+FdHQ3NkEdplGjhQidh//NExA8VkgasAMRGmXb4EMFUisoByAF6fY6binmNyGC5CXZMwIsJifqRFhNqSy0RVum/L/k39BH+4YVXcE2iUt7t+cPloDXeAJIVa3OydOCqhAyGqv/KyiEG1vdPRZAg//NExAsTCb6oAM4ElXKas6zNsgPbHGt3ZIj8syj5tYBj03lDqY0ItY0C0mC0XefvXf+7e6P0f//R+spVQV2TzeXyvYwYWZtEZcIsSHZYVd6uvQOjZnpw9bLZelUYVMBw//NExBEWsgqUAN0KmCR25BYBA8VE2nRcIKSC4mgDdIHKygcNydWVGpKX1o9Zj6k////68odEGLo3k0MryiIcyh0QANyooHPqKi6CQdFQOcid////+Phxw3y2m6fIWuR2//NExAkTkgaYANQKmKneAWVnOGPrNVR0kFJN1jWBu4A8Hg4UwHIZfIm9Euq6vv6P////8urqV5/7cxmnMLCzTgEPHVHEF8weOTEAZ/////qGBxXuNyhWQbOgPGIHnY+x//NExA0SWfqcANNOmEPMlWNDNo6TA9l9SSALWC4bMkUgB4BYIqaz9f0PU3r///8z2G/r9/RdVGmhw8FyfUaNOOPIPEpz/////Srn/lKSVdUM9zFhRg0MhhUYyf4jcTPh//NExBYRUdK0AMvEla+FY0R9YKoyWyu8scC3+cU/+NcmhG7P7/Od+S+cQRsDOf/V/clTAwQgmwuJ9X1pKvcClHA2wkw8T6O2sOEK9Rz1el1LRyiasomuPfwT9WlZT6rB//NExCMReUrEAGvQlJImPhwcDyvgsXuL+f7r+EeDKq0LQqKgR0a2RXGkwmNc+iNV+YgJE05kGMyaxqYXUkEX/DEAVC8ga+Vatv+cfT9/IYgmDsq1DcfGM5YZmjPg1cz9//NExDARYTrEAGvWcBUND97jUvPvNaKg65YaPnCzBcXFeXX5UBdCcakWIQuNj1YQzQlH9mslIJlvj6+4Jw/+kbFxzh49EcGCf6hsuQ7NrZNV65RNVKvSo2VvaagI18WJ//NExD0RKT7AAGvWcI4Y0wGhTsy6WnmZAgEUMKpThfHYIWG1WpIV0Mskg7Z0YYtbmRefZyRJXplAIsFydkkTgwpK1qdEuo62Mi86k02Sf2RR+ij9JL1mJ2WDuDX5KhpG//NExEsSIZ6sAVFoAGAhggCSmQiwAARvxhKaNUEX+CUKOZpzyXSOM6wzgVKPbTCd0J2TIIJPFgtV6bsBQL2SwIInVIaJbml9O3OUcc4pZxG6FfAZnuKxc1+a6IeqSxkn//NExFUgqdpIAZp4AE5NXyV374t9/+C+UB4Me2TX+bWrrHx8f/Phs7nS8eiRRa6qtuIDNN1DHa//d0V2rWdgVJuE+LoFeqVEhxO0MZ46uurTmRN4kKv0QU9kW/zFy+xe//NExCUbqcqAAY94AA5RqWC6HiazzZ7rhP4ksrk8XJDW5ivEg6ix58Qa1tmDBjQ4emdzvHd53pv9YMLcKs1oVcRL0+awM1xTX8HD0/0odOL2Vnf8nd9aQrQFJuNzLYvq//NExAkR0TpQAZgwAGAcNtBfFdNSIXJbzfnEiSvEflUWt8z0zZBxxIFau29++VeehzM0////1hEolLbXcqklJvR7s3YpCv3+h7m66pmt84En7pfscv9UW1v2dDXy6lv3//NExBQWeyaoAYNQAGjweEhMWPFxON/5IP3EQDYNC4WRcFwKoEJMIT/jwxDJhjPJhoxEarN/+ZM9ufPIzmmHjwlQ3///nvMuyGanDclRTyx9TC//+v//7byKdGgILuIM//NExA0VWoq4AcEoAcJmY54mUPOR6RpBAXIRRFlocSAYGcWEYdOyDxBhosLsR3MQWuqLtNmO2z23s9rqr970UtEHzvRxJUUSNiolURUE0bidlvfLB0rz+iAlAGaJNTQI//NExAoT6WasAEoMlFHX8VeMlfvZuLG0Y1yFiDBBUJTKYsUnNuBahrLaf59b2/je1az+ZR/gkFA6wNCsqSCRWlr26vK8q5Yx5VYaigMhriWEl0Xdmtk+yL5yc31eNR9e//NExA0R8YqoAMPKlEKJRKz01rx5JrdqL6F0trbcoGOttpAJGrosKGn0+g4u5IQfAhRIyjiuxjIX9vv9/t8TeIBwjr8gQHh9buJWCy00dIxF0AxmFiXhiwLsRfDrkQT4//NExBgQqc6wAKQalKEJMyfDcECOstEV0FsrtTIGGRHk83VzB26be7/f7emf8qKLef9jzcrNn0JugRUKcQRWfGfBGpas4IEBRj/8wRUX3+pjGp/y7C0x9/DeSg449JWs//NExCgSMdK0AJvalB0lqDLOibF1N5wkizzH6l+p/W3qfqJI6n2SQ7op6y6YIs/+pHio0SLQTMZsohCtQnWYCHLpCp/4NGbfrWC981hJRa3sTAkB5e+YmPM1d1loyPvE//NExDIRAOqgAMPYcEDQMySBWz/xEG4lcKg0PGA0HG5M9YXTGqsFZBgFXsbS+EYo8jE0fZiIyHeVrtWpKrWOpw5Jt+m0/r/Oa5w6fIMnJxsXh1y3r5M/860Z7/quwoFH//NExEEReS5UAVkwAJFV1ahLRkBgwRaASDsALnuU0mQV5RLXt7O46lhx7McomEwXhr18gIRbDep9F8cBrH5MLFPRq4UhckMt2r/vly47zn7jH+7tNf/+r6EBycLAtZC3//NExE4RsWpIAZlQAGwFWBTCbJKCzjU4iTC+MZRdLR/GDLhIDvHcO4LWxTHgCQjHG8hj0WJSPAcpJF0zGk8gfNUmW7VOrZrbUK+9271v/7WXrZCuyazdjR7f+pmd/fNj//NExFoZ+kqQAYloAAZMk/+SUVMioJ7LmnooEZy4I01M9FeJBYaPUvp5fVUpfBybeXSkLiFmnUS6iucDLogMAYMyPjOl5bLcDVcDYMdIlEcJBjE+xi6PIEXiLEcVjFSk//NExEUhYq5QAZiYAJ99syLJoTJFUVJKfr/nSKmRTD4SGiyRuEzXq6H9UuzYsCyiiiOSkYl0xstl9f2/5wtpHTQwIsPmmXUTIpUr2iyKXVjVwH+Pr/3CsDY/xoD4c/bE//NExBIWUkqAAY+YAGoBoQsX9BaaYDxgSOFwgH9v6aeGMgbmBmwyILB/+QAqk+Ym6H/+VzBkEU0f//y+muyiYJwr////mBoQBxoAGf/+cLhcPh+GKm3kCciFJGKiGBK0//NExAsTSN6oAYlgAIghAJNMNlM6qe2jLp4Iqc5FBWsjIA5hcJAku/P0iWVstMX2osfQg+ozu+phwzGqOGXxO8gAyCTDvXpQlrmvuf/QldVVWCqwYjOKVzJCYfVQQhrB//NExBATANacAcl4ADYXPECcV+bz87GNxejkMQtrx9d54U8KFChuo/jrEwoEXLiPM3NC0WUHsySYEngm8Xrch6mrSG3nP2eWkJmmvTTKT/tNCA6T3+MBmOSqdj1JAIGo//NExBcXIZacAMPKlBnwhZKCeJxmsXcDOnlpYRSUfMLNWK/Z9/e3jxdTDkOhGkVzvUzAOBx63I0/bqYnRbi5gEA482aTW184ycDIIBi9n////pXn71NkEcM5d3UHSHt///NExA0QIZawAMzKlJJUG2YzRoiZjpBBAOlWfSIqHsEzmpYFTMXVKb+cNfdvJ9fhy3HeR/EG4gBHtUd2bt9RKUVq0DMCEgs5o7moC6jhdtTYsjGf/cEGInNz+NVfRTC2//NExB8REZawAJZKlJVy/1v0XP1Hbff/5u94ifoJn8W8YI7xi+Mfzk2GA9UqLvuq1vpVbY+GXAex5Ni+BBRvqftIFSoe/tzwCozbKzSsDCY2ozudSVuhZsfqbpO//K8m//NExC0SSX6wAJZOlPktXKvqOCluPip+eIz6HjZ9DBqyo4+GTyA9mcyqQ1lAEEiBLUolQv0W+4vgOTTY5UIVCiLO0PWiFmZ+zhkyBgst/925bj+qkP0vKgOHn0EQMbhM//NExDYRCXa4AJ4KlFjaL6L0Y3VPi5Tqz1H0VW5HgB5LIURSYYV5rd1H+E3M4DBo21s50CaAOE06f03BFAm0mWAbiGxdZY30ttQ4yt18a0+jTQd/8lhsLCwNO/F0f/////NExEQRsOa8AIYecP//pdfMAPsNaPLtMAJqp+TsAhl/Z7rpTp9Z9uJoM/kW6d91RwL3JuChTJb2dO4d78ZuRNNE6ijdn////p80ijlcn5JH/////+lkXW2BDII1PKL4//NExFAR8YK4AH4ElA4g7T6gALKdHtrJwQUKD+PAmIs6mry9ebSoPhgOAeADkhrgoD5N5VQE4yj0qHUSWFG//+2WCgmEv6go///////VUse8l4UvYreiE4ArrUNpzipi//NExFsSaNK0AJYecO7GLjWBEQMVPSiGULqWXrnR5LVK+qiEIFAbrBDJWLsP588dHFp8fjKXKNJU1///AIMgk/6DoLWznHBkmcWYiCp5aZh5pgAKA1coWu8sSl7oJvNR//NExGQR6M6oAM4ecJ6xHkHnOlsVADUNpfMK7ZssKGBQFWyGZ+kU4kTBMKziKX//9A5FtWmYuULVBwtOSCUmXiBpKYMOIEncCwMHgy+pt4s8Kj6P1ldjlNLvhtujTpXB//NExG8RQM6UANYScGEy/Ug+Hy99YfR3fd5zYAp//9ZkBEjgaJvJtDTD6IZeJD0z+3NkGVPAkBMXwTGANvwKSmigTFYGWgCFGLMnGNxoiCEqGWfeE4nT+TysSowhKCwH//NExH0SAM6MAN5YcDoTFTja2t7e1SBBh59m+l0KR3///1mQKzjZaHlsqS8zv//8RfbVEw82FcMHwYgaDYAqFS4MUDNQsATQCBjDGlwIZgI6zIDR7RTpGsLCMkm3cZRO//NExIgWeXqAANvKlcv04cssU6o2cPvEmotbiUOsPYJZVXAHYALBjvoLPVjUcZOKCZTnWhDCTsnZc2I6FY4ZT7PZgeafv5rw49qUiZiRKTQKQ1ezxMx4EqXPD4//3bfK//NExIEgIZaQANYelefXMaQfN+QuRDhsNEgQyRsMAqNEMoeY2B06usYggMe7Boi1bEfZjS1msPNaiDu0td47OPXW7QNVcJ3l1ssh55wEtXsMJFtRia7Nu7cesKGh6xHT//NExFMhQfKgANYemOeZKVSUIxW8W8yoeS/5hOaxt/Gllf+tHCE7aoN1fB1CQyG3v5rSOtx5IOWOF9vL+HqZ/vCYM5fLmyuXDiGvT4o47DTxcxmx4ZsOHXlbSQ9X10RC//NExCEaWeKwAMPSmdwL/Cst4kbdXKNIyssylZsl9LEhMgYA02CByQojcxJCYYGkQBxTMF1GicYSwbnq+bNi8bTubprk6sCNOR2bSkXQVySuxpwlBhX/ZC92Hst2JkEj//NExAoToabAAHmSlYw5gFebiif4vWBlMcrWuGq9761Pvra1iSzdYQnCg2KJvQmo5rlYNvQgqXURjjMis5RnK3R97K4Z4zym2orKDlgtopxTFf/aPFjiynHyrgly1KFA//NExA4Uyaa4AMGSlU1EKFfmkkGHIYcn3ItmVb5vbYZr8rlEzq4hMEaIAQyGwVVUZJVmFjZIkIiuoTD4JQu6yUs+7C7heU+OtpTnFEWAbCXhuCr97TWaj2YBUpbAJAUT//NExA0R+a6wAMFMlW2qrWRWgCklDtUXEWsVq9W0SWfOTPNK2TWLCRxEqg7HFBUolkca0WfPPn/afzn5uZNPkpPOihbhfF8VtRZcJiQpMoThYpIl5YOFBwh1QKAmvAxo//NExBgRUaaEAMmKlSkjZKfZ7ZVPn/zP9y9h9zv31LMpSsAoKJB5Q6ODwsowWLM+v//mmUrB54s2XFUCjwg6UCjPNj/gFsF7pSDiyqxhwi5WWvUurB3o1Gblq5Lpbrcq//NExCUSOM5IAVowAMtHJjsSYlTgSwCYSIoyaix6BXUSVx25v9GSh1Ni3Unf////0i6kmDJgBsiOIVmahnhE/5uAnkg5ucNATADigbT+Thmbk+AE0HXA4KAws+YFQiBm//NExC8dMlJsAY+YAOFSAeYgKxA3hD9PzdTNhhYOkFBi5RtCyP7/j8Q0ZMgY/DsJz//8gaRJkUIuQUcZMEl///+QRZqbgkAxYAf/+HzQeCw8LmpsjQhZwNMZASA/U8R4//NExA0SUNqQAc9gAGYoEHFTseJEpGZtPWuLLN1yCoLrjr68U9qOARjkDzIIhUZvE6YUUJUaBAk8Z9trXUpW9LT4fpAjB40kiqqrZkq+TVTEUlysNBBgQnGdoBVaDylm//NExBYU8NaUANYecIx/3fAoW/jUeWyteLztlkkoottYdt9McgfAQRZM8uQAoHQuypPc67qFkcoemB2tO/+rvh8ywIUhosCAmNhy5hdfQyTBbCnm0JxoajRdySoTT2Cf//NExBUWWcqgAM4UlM5LXRHnxvWbgp90fx5hy1JymiS5lqTEteFKFg8zLUtS2DJItDTKgxEOinNov////+i2VCornns6d9nHhIwMn//////9Nef91JUXpuJ1SoIPnU+D//NExA4SKYqsAMPOlQEmIZrTWCxMePiVDTzv5HZwRPhvIQj4R/BVEDMeIkjjDDQuMEQAREnQ1DP////6XmmoPk3GLIfxKwIK/9TaqgazTTu15GfEPCPIqYDmNWfDCISd//NExBgSWNqoAMvecM4YywoiNrTU3qz6bkkZcBdEqEKFzIIlUidI+jdR7MzRpQXEpc//9VbQ0FUMWhzTwCI13e+YFFgXulVTx1MQKVkxiV8Y31SzZkfiwv9bw7fxb2Xb//NExCESAOacAMvecIbpIuW5h1NxXVE4IpgJQn30C98vo0cPtDDwp9+LJPAFCiSa61lSKK0xL0PDh0OtZO1TzlgUYMHBwIsMjJssrfZUkpVWfOfy31rOrbu9WpWEZseg//NExCwQ8N6AAMsYcGpZDoBz+fVbYOgqCoit1nZUFeo8dyr4lQSEiRC0wwEKM0jx4QGhxc5d1H4ECYGJXgi0Rhmpaytb5u93fv8hqfkZXDClaDXIg1wOda4p8iVRu/W3//NExDsRSLY4AVsYAP1dSVf/o/uxWsyqd1uokB5nGHI9jzuIQwk5//5mHCQj/G0ARgBef4CCA+wCwAaB/4NzBoDcAIALeP/wbUACAPcA0IGzhCf/4HCBbwOeAFAjQg4B//NExEgiEypgAZmQAHH//4e2IPDYAv+IPIaFjYYLBtn///+LEI8DshYeSQNj4tQgAOaMkHqB0n////+mTgasEYhfcBhyMPEHMicNjQ3qAZhFmlD1eVehhu2xlL9vo5ff//NExBIXEsrIAYUoAJiZaqS9FdO6q1ZZ0dkfZbq0pCMxqOEIiYNIdjILihWKyMNRyIw5FccMGnHGHDDGHCVZBJWMpSw5kDgsrkIT4kG2CKgqWUBaq1WFaszHbP+zVthu//NExAgSCbakAcZAAPWp4CWHQPd+3W45b/7+q2HBYP0x9iLUV/GnU9xckziVjXFYPuYuHqP+tkqJUaiWWSROwaURrOiJWkCpzvlg5dRVzfdHgZ4pdvuU51XujJmvrZ4q//NExBISGUqsAHsQlIJkZCLFm70arf6QxbelNvMMUR2PB8Hx46HLO7JdEndn5xg/ipOIExjKDGGFh5UWBgMOXX9qgwpWw5QQJCBGukEAAeDrNriIwh9qsJwEEX40r160//NExBwWIb6wAKPQlNPaEq72+7K+NqWCfBkPHXBt0pIoDY34LPmZUOzFskUCcLnCwsWHY5dqG3y2YzdM8XGxlTSDXQs1n6hj1KrrQBOB2E1KRDL4wX4WVCltEbgHIpbl//NExBYSAcK4AIwKlDE5I8ojmIdQ02ZZNDCEkH0MAwYnC38c/Ya7mdQEKjDRIVehhJeZycwiP8RH9RjlifTo9iDBQeo6FtSJqWosgUskDVSJeAz5TZiI1Q1oDMr1GYyS//NExCERoca4AISOlHmZAQusmpgtfQqX8o/Qo/NFZbU4Jm8l8j8kuii5fLacn/////66utRRAX0FBSyMC4QSamgZg0AT6kyjUACRJa1pCyj+mkLKvWWRYVTqycGVbVDz//NExC0SUa6wAJSOlLRb6nP1OO6EWqeNAhIJob8k+0atq41OPDNepWSqQ5NAcgjIoLZBYdj7+jMXd26QCCpGYibnKU2nyzyReE0QVEKLaHgybKM+g6swBh8ZozCLSQYO//NExDYSWL6sAJsMTPR+QlDh/hijpSQrBAEOoMFw+oB1PqwBG1pf/bJ7CU5/8JRQ/PkUP//zvZP/vr0PnZjs7/e3sV2WSpimPkoxTFMhUUQrHGOlCBUKYryB0VWocEgg//NExD8SKw64AChEuVkZlOkcGcWoYHpcjX//WfL//cv/jP///r//Xav+/Vf9Fu9M7o2aGMh0K71QIGRFKATnMDYiGKwopgogQosCAGMpQoUoCrHQMUOrkh///62Qy/////NExEkQMwa0AAhEuf////////j////n+Pf+f/juf7mor9e/SLZtKGKNcrTHLtaWNFVtj8oqO1kOssk0QzKHCiiqhKSKsYxc0MIavdVf//83gwFZwnaK85kiAhVLP/////NExFsRyxKwAAhQuf//6enZdH0/prMZ1RLulWZFdImhjsYyirHUSQAQ6NAooqFPYUFjnZBQWVUCRmZ1YPGHsUSKhaH5JAme+5XYtCHHIjAybTpuhJaIc4hPe1//f7ft//NExGYR+x6oAAhKvPr/27onPv7f+6/pYz0HP/WGlXbZQlGeFP1NN9iQUlBqxpoiuoIQseWtaRwWEQmGoyba7kwHEm3QAOB9CHsfx7LQACK8J23UNvNIcwFh0sDRbOs///NExHEPYl6gAAiEuVYfdpT3QDKlHIV6eT9T2f9FvbaIYS7mRswQwdawQCrnLoCipUjcDhSQJEWIrEUC8QEwUwbZhsw0SyUzUcZbKhQQXZv//////2dD5k/172QqwZmA//NExIYQ6IKYAMYYSB624q4638YV1tJwaOlUYDuXhWDOB9XqHc1aQdYg4ACSmT2FYnXVOoTBCAAVKlihwSwZgvSXwHTRS5lSa33euaw553o1P///keEBpyuzl2322eLq//NExJUSUcKYAMwEleEHOMKiiy6VVZVtOqSUDAGpzZedoNMx3GNpqSVPhCeDkiM4CUh0SwSagtTdlrnrwTqBvioBbBLA6QIYNQcYFEJInmCJgtSalLSWlSa7W/9VS6mQ//NExJ4Vqc6cAM4KlUUjpueHoYk5bmLs6d1LQoJrOMkapsbzA7jTuHc4S1olAj6osBCO28AYNP+Wv45TkJNuCwUHRR4YgB7hH29ctc6VKm65FmFk40lQHDbimKkK9y64//NExJoZgb6oAVhoAbSxTeRQ5I5RLIJnatn5dLH/p9ZWN2Ls//5ay3T0+eGd+clcnnKenu5XaXK1j8sr37HPpKfKnn+52+Z41dY4/vH6TCWWOWAgESJvwm/lABUDuASk//NExIcgmdaoAZjAAATuNAG2DlFuS7MfAuQJoNtPKcNwAVgYeBY8IiOSXCfBRIGMYwg5ILghWwtSUyUG/h0AnAG6gXPG5NEWJ5FSnUJILLIKRMnEVGRiRUufcvGhfLpb//NExFchMlKoAY+YACCCtSdOGJdNan+NMhhoXDpuXzpAVl0uusupV/zhOHComal9RusuqR///zA0QNEnycSZbyNqR1FRyHj1KlIItVtxMixhYkG9CkSXHMRATg5ER4Rp//NExCUaScqsAY+IABEcooEgTZ8kxAUcwZoPSFzFZJaJcPGi3HWWiZPGS2rRUnuhpJpOYmLGSnWs0Td1WJkuGxk6NjJFXRX/0TBgqFVgL/8KqjZBzHaB+P0BGo2F5LaM//NExA4ViV6kAY94ABNN+1IYIWXkpkJQpWELAyCvk+CQkmWY+MHabhfz5Mo5ZDSp9fqZlYZLmjPCzj///Ot71f//F7a3//GeX3/uUV/Qb493/+oHSFVXBZlWAPihPBGq//NExAoScMqcAY9gAKG+S40ruo52m5Ab15KAyeBEHpkVThKhWfBqShzJ7NkNWsVf0lxXatlJ1ybhE0zxUsKLAwjcpFZThEFG4r62eJlhLaPSGpLiaKGq1W7YVayxewoa//NExBMXQZJEAc94AGizZevXr2r2C+Yn24KdLaLaLitF9ISXFUwk8hyeexfaE+jWt////////i1a11iE+Vyui4fPn1vWtrW36wXr2xUFQ0W/wVKgrEQcCyYpUTESM40J//NExAkRMJoAAEjGTAJagE1RbD7BTYWgKiajuCDwSIjBzZktc4UU06IlEp0GREsRHglcvyolAQVOnkpkRZ6g7yxISpR3z3//pQFGBWSGzJMQlji8BgGAyIwNMIjwiCVB//NExBcRSQW0AEhGcAMGEHEsoYKCBOMatZahqyyggTmQWCQuGXegCigsLIfVNdAV/xZn///8WFTLhYmqTEFNRTMuMTAwqqqqqqqqqqqqqqqqqqqqqqqqqqqqNI0S5EtH//NExCQAAANIAAAAAJDaF+MQf5YzgUYUGyyFphhGgXWZew3OFyjqOkuRyxVMYWjysZOjxWIYcQ4SspjjC0DwGUDCwMqsGVC1AyoWq+rav///tV3/umyyqOmRdGRkWVI0//NExHcAAANIAAAAAKy6MjIs6myy9dn4LYSw9wbYKscajYXC4bWCgYJEArR7zwcLJ3jk7iCwcBhBAgQQjLJkIhgTg4CBc+D4YggCAZBBeHyjj6gQdUHxBgmD7/+sHwws//NExKwAAANIAAAAAPyhyJ3xOH6Kwf/uLh8MSCqaZUXWMIjKItcya3j6REzUUKHFWUgsCRNaHIxySJE1JZChZ4VBUJPlQVh2p7wVOg0dYSLBzg0oGsTA0DR6Wf+CuIg7//NExP8YWTkMAHpGcf6wWPSwNeITq3ZYO5YGqgsFREMh4bEAjGBoZEQyHhsYEYwNDJYZDw2MEZQ4VLFTh0oXKJJrKpJqLqJCwsLA4KirP+LcVZxb/+sWFhYWFxUVFRUW//NExPAWSL3wAHpMTBYWFhcVZ/+sVFRQWFhYWkxBTUUzLjEwMKqqqqqqqqqqqqqqqqqqqqqqqqqqqqqqqqqqqqqqqqqqqqqqqqqqqqqqqqqqqqqqqqqqqqqqqqqqqqqq//NExOkUUKHsAMJSTKqqqqqqqqqqqqqqqqqqqqqqqqqqqqqqqqqqqqqqqqqqqqqqqqqqqqqqqqqqqqqqqqqqqqqqqqqqqqqqqqqqqqqqqqqqqqqqqqqqqqqqqqqqqqqq//NExOoUsLj8AEpSTKqqqqqqqqqqqqqqqqqqqqqqqqqqqqqqqqqqqqqqqqqqqqqqqqqqqqqqqqqqqqqqqqqqqqqqqqqqqqqqqqqqqqqqqqqqqqqqqqqqqqqqqqqqqqqq//NExAAP8DYYAUMQAOIEAAAQTgAAIQEHA4CAY/KBjE4IBjKHO7owfB8McoCDpcEAQOSgIcEP85/JggGPrB8EAQBAEATB8HwfD4IAgGHVI1qkUZNyL0Ud2AVQrVr229am//NExBMVak6EAZhoAZDI4J6BeWKIsB09tILmSA9w41MhpGLl1Q9QnYKWTRg/1slU5adJc3RJf+pJfmJTNBsNy4UP//3LhoYMnv//q/7Ob5ptVfO2QXRxQ1nY4hlG8hMJ//NExBAWMWbIAY94AQzZaDpFLOhVMSgCh7J2wMbBAfRMaYEowP35yGYjXeoTJeO+XbOwTxpp7Vnz//5PrOoU7I/g4zXwMf/4jwCW6QYQWs+//dET/u7+0IkQUt8wkSQk//NExAoVCaK8Ac9gANfW8BLTgi1VriDzmi5XQtwR0rU5OMs1RVFVk5YO0pkJRbAg0ua+FFu1x+Z39nq5/Vz62z46lJf3W2nbnZSfrTf3LMaJB5wrtx70VdaAz4Aciuty//NExAgTUcq0AJwalMAOgT1aQa0KBqxwjQcnUFymMJuQXrHya9IbSVawWRgmgzFjtpL6n892LvSNyG3LvmLbKLVVqLyk1InDy+fpDm+n////+tXn8vuQdQMLAItg1waV//NExA0UYbaoANPalK06azfGCGC8ptcC5bz9JFRf5kZt6/Ycf4bW7eZDBCcmiWkj1o+r6+okj6KKx2ksvUk/W335iaaRwuvFTNbpX/////yoxZqOw0vEwCNDZ8HiS8ai//NExA4VydKEAOROlKcw4cSsg09XAjRkq2TDUWTRUP5uz1Ey2sf2aUCIAXJ1IyhZ31+nlC+p4ldT2///qPbnjcOLoKBEAKOOMICIX2bJd3//+nZnaMkqpr2TgmRvJ5s8//NExAkSYcqIANrElBg2uCCDBRUxdODj51cpgKyzZB0PS+mblsfJs79Z3LyIPZYkbpKif/603LkMX///25SlZgxiFKGUTPdf////FtKapb+4bOWTQNis++hdVSNTPVrL//NExBISQwKYAMCEufeZX1WdESv606gi5/0n0VPaRe///RZ6//sn+qn0bXnJ+x2PWeTt6od+eyiCNkQkhMhJ3OHPhqfdBcGDvSn9Ahb//8soB2UcEYP9etP7Sf/fOr0u//NExBwRkuawADhEuIRwki06E3JfSRa1d0c6MpAhEV3NcWtIt0Ikivs6lcWcEyoQICCTgbSQhyr0/P/9Ep///Qnouf///W//6f9LVnKxWen1ZGPRWIyJuynMo1FE1Z1D//NExCgR8wa4AAhKuaYdGI4iInE5XOKoYTFkjRpYkPEQ4hBEo0YEh7MRRySW+ZTZnD////6///r///7Loj/07F8zLYxVYpylFUMcUswwROKzCrHDqCIgCCQmHIMKoHhE//NExDMRwxq0AABKvKKB1BlDCIeERooIsw8cKnKYSKMoH///+mv//3////l/X///z6PZH0/q9kVRaRiKdRRhdjsLodhhxIhxMw5zi4fGiwg7nE3ERVCsggMQKOJOQaPY//NExD8SmxqwAAhKvEBMIiwgHzK4ScUdFf/xv/y///yIHy///+vJ////R6Pr/RUKTcWWZDldhcUKUVI5hAOiqh8UoHjAwm4mUQcYoeZRIOqKOKHFFMOcw0csg8XUwqes//NExEcR8wK0AAhKuSkKGAQwVlYSJFEcON3o5jGrX9/3BgTo7ft3//o+ZS/mon/fVHm/5WmN9cpcpjalR1MpahWKWFYxlKgEUuVHQMTFcG9NxJNAuyhLaJ8pnJUq5hyT//NExFIRwq6oABiEueVbQOMK+NYxwCMof/dddpSuVnW60XL//lqzhSOdbApFbmTrz1ZkYu48C0Sh2pqgKx+WuOw3i2/J6kQ6GKhYBkbaRdj8il9q3j+d+3n3le7jUycx//NExF4ReT5QAHjEcID4TDYWHDHjUGzbCAlnHzuhcSlLEKBrLUFFGls6W/6vKZepFFf1aFVlqlWXzElVXBQMZlrhgysmCHfMnJd/6g8wJGgcQfDkCPC5gGwF4Jvl9Avl//NExGsQUF4wAVkYANGAKJ0L58e5LkYqHIJWCPgVlkr+R2NzpLoGqReYdo1/z7JrUxoZERh3EwyLv/Mz59BaL0BymjG12ZX/+gggbqQUXFs5ubGRXmKS0F//+nQaYGiZ//NExHwhAtp0AZpoAdcAv7MXHvXasymW1XRYqdDwCqTGd19kekdT0+B2a1XpiqQ5kxhB1WrLYinutZCrRYLee6FNsXNFAeKOexGuEwgCQI/PGNBCDsVNmBrLeaaie3xf//NExEshigagAdl4AEi1E9iQzTIWYhJ0q5nYQQyHHxM7jYg/FLzvnus3nbU+qI9HkTOL0+HktqUpe02PfxIFZ9nA+3////6VVfMxIA48yWdPieAlRJSaqe5BwmRxXzHo//NExBcXebK8AIvYlU/ca31RrhRvm8F9/eHaKxMN1eSxwVhSY3Oy0Psatv1j6qN+7F0VKK0himPvYPIX67tOyZme/d7q3r7TGNO0mZyk7vVyUaUa/+F8R5VX21GQGkqp//NExAwUkb7IAHvQlNOH4PFRajMCRTyqjPHlI1t3tWtcUzrP1WTVOWYcIoVDkcGwaqLjzSIZC1u6VmQcTiDJ2ztVTL19RVcW8x3TzUk2SUfl7ULq//upbrVvatIMO9Fq//NExAwUgabEAMPQlRWmELCMuOD/Pg6nLcFm9rx5rb1n2ze2a6zbO541M2eMFR4WADKQMFOaSWVRiDoQxThLJ0061O8/PHazUxeUmNZl573UX1v/wBUf4ZBiyQQYYkBN//NExA0ROaLEAHoMlJXDCmyHYdHZZTfLNbtDIsNzFQkscU7ZUBJKsMumurd2LKQRrEG2bnPOfcv47/93f6aWEww8xEvX1iEK8awC2LIfAPjIihKZO5TNtZaXWXn0v4/2//NExBsRWTbAAGyQcb0v3FmbcVUs4ORFNGAutw7GHOPMFZLEZY8scJUV8ioqTIwk4lZKyVrvQsr/2z5UeWTGUNLU6m8RhwrFyPEh8Qm4pXQtqW5fUu+UK4KWcDtf0KYJ//NExCgRycK4AMnWlKxhqNb2kGQjIaIJ8yZVyz+f5/Uj5pmxd/Lo9cmLJTVV/vI2Tat7dADhi+UqADt/E3A5sQvj52i8f7PlXzBHMzVlF8lk0jwLE1mRKFKYj+QTByKz//NExDMSCcqwAMHalbIH2z/R6+hzBbUzJKgUmqPP0O7N8qrPdxP1E67mrMJva5bfQK3kNvEbFd45nKtZSpjPSLP0p/re/T/wNPxp7jwdM+DreA6m3EEPGSTH4O04vhp9//NExD0SobaoAMJQla//2/JHeMp8J2N0KvF61+b1gZtzCjXa7Nimm8P7jSujWEPL/+0ZpgJhHlsuaLVGKW/v/+mzU6Wa7ETa/Srz8jZH+k5CEI1Gn0IT5CEIQhBbnBwY//NExEUSWrasAMBEuAc8EMP11Chjq1M38+avZr/5GZCckr4c//zX////38+PxvtueRz18ipEfrMjPKmjlLjoYW5iNzChliEQc5jBY4I3IKVQlGQ3bakhawGyACI8w/3///NExE4Sax60ABBGvOU+T//6/////////2yZnb6X0XVHY2zOadHvHuwwNFDTC7Kjh5iiCFOwmMow9A+PK50aIhMEYw8XmFXKMEQ4cRX//G//5l/+v////7Ijf/+r/6vo//NExFcQ2xawAAhKud936uio9lQp6qZGFsLmHEChwc1RQGIdQxAcBcjjCxhDiTsyhotijipFca4WAzjElQMRJMMPQuPiX74+c2ZUQz8z/5UQwp7f//6dHK1G/Tq1Shhz//NExGYQkxKwAAhEuSlypoYMBPf+hjd1ARJSlcrGMGNFm/xX8KgoK2KhQjooKif0FdUd8qpaKi5UJjTGg4imNaMDsIzSA1IbaWmGqdp8bAsTlDewdVIFIjT5i+sqxWJb//NExHYSijqgADCEuT+vq7lzxZb/9vO4NFVf/s/rAoETLAoENHwI4xLzQSLMVAQy6ITOArMHhYKgEIApgUEF4la20LTL2h61SxGc+tEX1FkRRJPA0OtArtTZ1ki+gj9f//NExH4PAG5UAN4SKFpd9Sf7dmWivo6v1RACzfxgMgkA4ygTSAHMNqowkI04W7CwNMEghkSULNas1F5QD448+1DwTjBQRC2HiAfQmY2ypJsYQZEsbMyPGrXCmsNJVENm//NExJUTeIZEAVwwAHu6KOjkdKWysPSrS+zMZUbLUJGrJYxBkzL67jerVTuph5qJdlmqxlNMQsTLXFmcVlS1a/dpC32iS1V6tL2VLoFWXfANAaixgQFOOVnHnBo3MbCT//NExJoiAwosAZxAAQJmMaX905jISuM3LaNBEyodNwMyFBoCAYCAFrgOiXAys8ihoygMcEEEQvuOWBunQHmAAYo0DYPQoIMO9zpukHLiNxHhobP1Tdki+tBRwyUPouvp//NExGUhklKEAZugAPOoUGoDbL5TPFlMiH/My+/bHYQwbZ9MwQRS//0G/fQMTBXmDpCMoONfmDCAxPqI3kljYFWK0wEQG9KbA6m5r9mX8TFiMk3+wEkWaL1nTCe4CCGA//NExDEd6ZagAdnAADk4EpCIoADUokItdQMt/u1G4tDO9zc1blcbqW4xOX8KTHL7Gt4VL1/DDnO563v+fl3u+91nvm8Lm87FaluWw+Rb0rQhaBRK1+rhUXgBtKiBkFGy//NExAwUmY60AH4OlO9Fp3ZzyJ2u7ElZTdbKjUfT3l1lVJLuLUqqSWcVnlktK5m8Lv29tgpFUDDKiO9Bu9Be2GGcfEhmQns+jadu+hM5YYuv1V111+XcRHdWktIGxJTb//NExAwVOaK0AH4WlJnw0l3qmw3dulqARcmzoi7V/VtEa/zJa1nKhXreyrsUrXmePG5YVDRNFK8Wy4s0nonv2kv5S+Y+J+H/FerXBje21rAdUTUSltDhpFDEeLRCDw93//NExAoQyRLAAG4WcDQJQxTGOscgfVxuU/y44NvKrFbbpOnG8snMaYVADEyUiBP+bHNy7NJnopHBEfDVtMjEkJBEMTvztFX95LAjzMbT8jyKCqOiCV5QyjyGJk/siTCn//NExBkSkQqwAMYYcH5Iy6ix9/LcxDD6bZIK2u0gtdCIpqz4gnFmz1re9F8pXPxdcqv64liVodGiVjOls6ZVq6wC4sIo0kyGCxJi+yjRgrh9iQ3OsiblCo+l+XxfmYEI//NExCESCN6UANZScGj62rKgMU15/naX9DtTsVKujaFCwCSjRChZleK6JRFV//1AV34CDqqrGm4iOZGphlSNph1WWneogHHRFGGELPaaIhcZrKymSCFAVpheYP01+y/k//NExCsSYMJ4AN6wTDLQbV2khOcpqz2HaK1nHbG8rmRga42fvV0uRR/q/oq1Zcsxn87gRcrOzFUQiUYECNdMUUTjlQWKU63YGAJbjMC9wsWsWagCihaA9RncpfzWFK/n//NExDQSiLp4ANbwTDcVj8bo79WX53rG3kDxp3/p/6jy/rRV5hQtZJ3i7JteJnLJ1ByfMdC6U81ABSIbWGGiDc2hl5jPgDgSRYdYUVHFjnLVuWAUdQfc+AILn4xIKCZf//NExDwSAL6MANayTPo6CljcUvA4r///l72txw0uHkZ5tlCmWpXndT2OXRbbkNiBiwj6p5W+oIOEPo2miEBNdDS7XZ0GOEbZ1pTqRky+fqR1h6uHrngYCZ8Th///VCIg//NExEcSIM6oAMYecHEFapYtIKjLLo6gwuf3JC+wZ9+7MdCxwIhNTUrdgFLh9xHZQEo2LoliGkDMS71WuXvzL7FLPQ5TK01/Zaq/0LO/8yKAoTAa1/mAEBd1+2AseXL7//NExFERKQK8AIYYcLqsUUlEM0ggWpe79GmSAkk0X7lkoacpqONC21PIU6f2xCvi+oOr/Wa5tj2vT+Wu3k002yBCpz7u/t3Sl1qNVW5SBCDvQeZBxVnms24oooiWcnpB//NExF8SiR68AH4ecQUwIbLNT6aRhECRv1dpmUgZg3fgXLofnbPVfvWvfe9a5uZbrb7T209e3vWq/Zqpf+241tPuRW7CkgFRldqx1AosutuURpNNXmr9hLY08ioHlSy9//NExGcSYUK8AIYYcZCACS0mXNvq4S6m0sfurS0ete8pIf/CQRnmUUP5IqXmORAgdrmcRD7yJwDBU4FCAMKWZ0/Uhb2Gq9cGqmPlP4UkAMQNhu5n9qWiIsBWzWMqeEdQ//NExHAUoUqwAJ5MlDvsJj/pJEw1qDfWOYRuHUI1QS3CppfL98sfnVdnmWe6UJxFiEYq/lyQqXrBoAp1NTFhwPjnKGXOhQLp9YASF0bkYJ6+aJiPqzXjlghEbYWf//////NExHAckg6UAM5QmPUHFY1FcYZUVNiE3C2cPf2AlVi0T90W66TryfW8RtH88coNGKOrYsFiVRIS8sU8j6+8/4hMUbGvZysVDF9ShhRSlDCgpeVn/y6+t1oZH//yspQy//NExFAUGgaAAMvEmcpB9riugoFBQA1NBAUYkMpc+Scy6nGpq9SLdq0tnn91YyuFGyYSK72BoIGjJiulBiMehaE2toqvzvrc0lQ6l3vX+n9/3a5VmaUMOhUbBJNjanAE//NExFIRMHo4AVoQADIG/+eARup3pg3gMxBT01MwGkIWjht4cz66ajQUIF1AagGqQAn/mizdN4AgQPNw2oCggOmgFOf932Ebh+gXMB9yVFxnv/b+LMJYTgOWbEoIKDwK//NExGAgMxpkAZiYAd////xcZ8ghdIOSJF0h3lAghW/////zRNzA0Jg85moiPohWo8BEEa0hwKBgk40haJkohxdPE87FJ9e/nVp93as51CXud7/fjvikpKojeIs65wIB//NExDIbedqYAdlIAJZAUUigOpkZGjBMCzaMUJECDwtu5Sn4Ozxzz2c4ZC5QttGvOEoIFIfYd7zBEJBckXUfopv4qK0+Vsv/0dZd1AY1eJCyyVTimh2LDwVzRXI62bJD//NExBcYEd6wAMsSmQNbWper0zSlZn5vnzTr21eZxqVWUKhFFwhLgOKwQDY884SE5KbFbyMgRo3wuUty5Tv5fyGXB9waUk5BFuhWtkoTglk8Ux1VkYMV/zDEXDdiSPBd//NExAkR4T7AAHpScANkMkgVAGDDUJICclualsyhGU/WVVfxlX2RhhcoMomksfGCKSeJRjlXCclWlZupWi1vmkLi54Sgg8FV0PWuhZILQ/JKnT+NISY5BMidC5Fyc2Vi//NExBQRSTagAHvQcHz2RmhRoOrWrh9beV+duSTcoFIiiw8QgAw9flfi1/2ZpJUqw5NyQVvlvPKCoKhoOQ6qYCLQTJmjPtD91m5iICY4EY0MAhKVCGwXR3D6J00vFa9h//NExCESMMpAANPGcFt0xWlqa3vw7kt8HTBCzDMnCQ555CUCosKuq/RZWxTFP//f////fFJvhAFZcZd+AuxtpBtIhyEBCfOEwCGCN4c5NgUgagNAnb90z0kTjJrEJgiQ//NExCsQKNJcANPScDV5kZOnMjRAgCBidsIEyeqQHP2ghM1uK2TBQJEZHODkcxiFi3wjDxoYoLnLgmDAGYkFxWAGXLYsLS/bz8yxQl9R7xCVEtazxITK1KBiaWU58Yhp//NExD0TyYZ0AOPElPqiBPf+vCV2//6+mEcrRIf0yirCOwEFapu0CKcKCw437cNQBRrWMrUe3KcRsEvldGzCkO42Yl8LVO5IHjr44EUsHh2PRSTviYMATHUUgmDjWf9A//NExEAReLaIANYYTAwy/t/6Fe41CU4tGkhpg6qiDrqkkAQNgUPjQAVLZYRY/KpFPrKTWt4a1uum1GW3hYfS0TjU3rw2gnwPAEhZs/QOeqfupHf2yGU+Nk++K3xXyfmJ//NExE0WUZqsAMPWlCsv6TuH5Bb1n7FvhhXUECC40TUKRRiCWJj2s2qLV1hBahXcMmh9+rDnPq3K5RvhW/RqIEFLEALvY4nVEH/2foc2QN8on4aUHFAwsFxcRwXsnYbl//NExEYSETq8AG4WcC2G1eLsNNzEQKkiZA9OxUDPtzPMitEmor9qRs3wldfC1v5ct/LNTyAiWVwAC7igFpahEzLrl9hY9REdY5yvP44+U5rsxBbP+v0bmbmq4+gRDLOC//NExFASSaa8AIvOlYm6Q+ilS4bhaq9hDpn7aeLniRbiaxHYynI9tlvbQu6RoxeAKQI2iJOeyueRrPGvsk9hSuqDHnNnMXcamO2/7cty7M//LUN23oazlhtBQnnvJMSw//NExFkSOT7AAGvScU+DeKabtxpTeqlea9Yu8e2fmttWYocDAVCODQcNIPv7TuYhrq2NalFSJlbS7b+K4tYhlmlGShlD0SzLnYgcJy6Ke6DHzGEh2dZ8rFDk6lFdQd9n//NExGMSeaLAAHvQlOnDe8BmvPmtf/jX9rf5g79wFFairI4iHW7/oZ8SFlQ1v/qVqGc05RQWCr4m5N2tNwEOAELQkwuFXKggKBcy+J3RxuQGPBEyRLqAe08fhMzdFaBv//NExGwRqaakAMvKla1evpLeYnia7//zmP////0nrID4rCo0PYHol/////+v1sO4zYUrh6eTz7EBHNByOFXb7MhIZmColvcDkbb0b/MXZ09/PTJ3pAECI2CCHdM8mgWT//NExHgReaqMAONOlCZO295+93v8f9z037nk7wCDCAT+vEfP/W5ISZg9qB4oyURTkI0bypZgU9QgbQ/x5u79PHSb6E+EITm80FRJY+SUO0+xgfSIb7SSSGRwTTe+UP81//NExIUSOZqcANHMlT79pQmfeiNg7zet5x9w5b6Ra/1QQknHWMqGEziKgV/7zwhLtBz/Bc3Hy3VujeX9/NJ+MBQL3LAAQ+qg6AGCO+CgVG8kgqm/afjavhq+UP4YQiKR//NExI8UceqkAMnWmIQj49Y+GsxJZMkqy39uQnSOt4/0jT0N2mgvmVgK5/AFR3cmdZuFIH3UMEsvUgzKpwGtjlkRNPw0rVdndKoKREAtJvK3VvNLRrNlb3fIKlqucN4Q//NExJARydKsAMnQlBQhXNadOpmdClZtefOFI/wKaAgg5MD+kwQOxIHcECIKmiYINBhYfCDbjgWcGCm5qjLh1DrlLHv3alvvilUp9OU7fXVKKEArabNb+WVgEpjA6Rk3//NExJsQ8dagANJEmDZtCZlGmqNyCuD9K363i12PLYTrTzpf+nr/4+0Ferj+/f5P0bxyIz7d/X473+RzeS7/m/134nIjAQFazpb9Vox+X596V+adlVVdcw/I3j0iOtMQ//NExKoRmOKkAHjGcMDgIaPLizc/SsVVdwT5XOuibeS8e/9f/Lb99/XfqPjfb081/+HbyO3Z3ZqzeebNepn64YTPnWOZLfMrHmyCyhSjhsZk8ArYXQEaGZeY/SRSEFCQ//NExLYReMqYADhGcRxjYUxgTRxI1OMfGPFxkPL7mBu6K0zpqZIoOVzBjCZl8xQTRM0TYvJnTXIoYm50vub5mdVmrImSReMkUDZJ0DdtepW1TKQZN9Sa0VX7Ju39SbG4//NExMMR4OaMAUIYAdi2PLfMrV8+VbRkJUMNJSQ9LjC4GjpzpojXl8A55IYf2SUDVAGUDMDBA4jElC7wJxDowWUaDYLiBNDRGWHwGplUW0fQ7CGEkYILD2Doy6j4sogY//NExM4g2oKUAZmQAaMWFKqmhqqtA7MU0zIuF1lLqTIuozdGomC4QpRTLRxU2X9Z43N7vZR86fMjdBj1//Utlf61m4zn1YiPACRUWytjRrrWqy0zVCXU70PKrgNKD3+e//NExJ0gQk6wAZiYARMWNRp760YICvT0J+I1ekpfxLZk6eHChMIb4A/IbvUNSRtZb4Ft0eXt6PN1tI31q1JxUsTlJRxfWYIkaubzRt4873UOl3uaw8XrAqF9WwRmh6tq//NExG8cAbqsAdl4AZvmtxwVxEM/g0mvIt6Kh29xmcS5CcU7k9QfSzWUz0gDR5djkghYvRfBooF3PU8UCy36yQq4i3NgKtZCY0HfKlncEvjocu8dxCxEjckzQN/2l3yU//NExFIZaaasAMZWlDvyzvaXQoNPEz1joClja/////9SbRBHxavMAVw09eFCiQZ30ZoHyqvgAjF6Ire0FRMEsamCHU/MEfio1gmNvhFF6UETtzn/215E14ON+saJT0j///NExD8T2TK8AG4ecdXsBkV40A4RPJAGSqYsQ/9V50JWRN0HE7DeewWJ2cOyoSV+Wb6AYuNLXkilv863VvOa3Xczmrq8ZBr8QIizURSGg/zRdsKiuoqJvnFuPe7ce6F2//NExEISUZ64AJYOlKIXqOxHvsqV1+2ASI/nW9iQlZvLehCCi1axbXDdTuDVLeqwCFH0srXe9mDZ9KEpn3rTFz5+/fO9abVittmnjoiPUuER5a5asNxK5X8GpZU1Yo0Z//NExEsRkRq0AU9gAAIixUnlDExEYKny3BiwqA8MXpJkINCxTGUuq5cqjMcidm0km5F27YrY3f/isbgRRr9OFBrbTVnKa5dpfbotSQRJllzdapLojj3W94y+OPxRU0OX//NExFchGeJUAZrAAGzS61Vx/eP6/byX5ZAlPqWfW/Pn7/H/////+vbw3bv453wkSfq/Mhb9qb1f/SqxlNKLRwHkWIGBk5HvqRnQzftqncEeoGi0tonpe7M4nKaxwaoq//NExCUa+eKcAYl4AJfW5IEYeb5xdxK2yus/X0lnT2Z96yXzqP87+74sr9M8Vds6Q1fevj/sGoDJX4/bWbc9NZ839hQgJ5gAhITnzX//kjwsxygvfm9ECpgK5Qo173/3//NExAwUio6cAY9QAF3jXR2/qr/5EREChS9H+RjVzjhhqhyfnkoXQlhckgBGqCqSDJv4xGRAaOD1TlKiJ1InN//Y5Gc1jnb/53/6nXNYu4TK+osqG5Ty4Psp/7H///tz//NExAwUGybAAYE4AB1/2V27HmdLmKeeULFEj44KhYBcSVP/iwoo9srGCx1IE0Y3/85jlnFnQseec7nKxo6YNHJf/+zvRnbnvxwcmGHk1qjjlf//9XRX8iFOpzqNcw4q//NExA4Q0nLIAcAoARxj+0UFxhhMMQ6B0IjxQeRzqVhMimarSo70TunS7P629UedcikazDDvkqGN8qmHWb2P///fFf/IL/+f/1ksYADANsbtLDFlTTWtJFaB0cysu33U//NExB0R2Xa8AAhQlDUcVMHYweSg1gMuLPAdT1pBq/uJRJi410BEklgdLA6AiLi08SPGEkmUqWrO4ClEPVzIpCcIUZBPwNnCw8dv6yK93/yj/0WU4897J0zuFo0FDkJY//NExCgQsOasAHsMcBkkpcjJ0iAnA0eUFTskkqWRjQ1XWn/////4auYyoGOKSh2OgV19XBVkNa0HucI7AK6XuTBnjYDbF/eGP9epBAd0LoGOIGXuICkVzqIMsx7NYYDy//NExDgRgM6gAMvecFbnVkPR//9Y0Pu8+hQA5ugFUSfGOi9CnMfmjTxIE/A7itdjw8e3cYSoVP6IByCkp1AGLTjYxKkNRt4kg6etKVCr9d+oTZYM+jf/////01BCgcso//NExEUR2YakANYElBhpVefwvsTILccJTUcml8iO2u2NREANeeWYIOT+dCJAvU7YRZdukZ8Hzp4YJSIV1ZOnbTZ32sxe3jcpBExCVO9T/////9awe7/oXYSqatAF4yIr//NExFASScqkANYElMMisrgOIKI8WYuwJZGMDEZJx4Yi+kvh7URoNSmQomCcCQigzK7JNA2WzMsCIcHCckHjCHBeFoNlg3//XEI4CO9RMsNq/9zQhHIsZoZImfTPCFIg//NExFkSUOa0AIvYcG5Oz7MSYMmzlSwVepWml72LOnhi+cJVD8MtfMkgxLE6nT2ZI6HH+wPH0tGhL//61gMw1/aYJed5fCmncx9R4HGlt9lIMhZZG8GBJgsn7NLma3L7//NExGIRONawAMYecG6LzOphdfWCJqF2OAX8RhN0K0edEOLiX48HToJf//7jAhJj+4eHBirf7mBHIThvTVAB+D7FZDibioKLpuCTKdntCT171bm+BrCec1Y+bSCo1RyH//NExHARCMqsAMZecOianQThxRQFwxGBZKn+f////+7muhMrIrdW6OVow/slU5Do1qstYbVpb96sszQsC4WqXR6iSUur57ok0seSgw4REoilOfLS6izn9ryW//op3dCH//NExH4SAcaoAMPUlAggIvMBc2ODBfouf271ny5cLOydZpUAaNDs6if2LYgNW3d+391CjCDHcrOu9itrVLzL+3/8/znqWy8fpNKGC1l64MyaEfVpkH0PfjfxCiEgObkb//NExIkSaZqoAMIElJxAkGMAOYQpgAiSwnFvBZJWp7cnMEaVYloR1+y2EX1KximDiTSDmOjX/0ugo0+2rO63vLvVYZ7PM7b56f6Z/Z/ZrS3suw/Z5dLNI9dv27FL3v7G//NExJIVUtqwAFCGudb3N1jvZOw1ZDuu5cwiVE1tCpQkCOwgan9XY6PCkZFczNSGvOFiA00JEmBJUj2HkKk+jFWSRToG66CPn9UMkJc94fnoZGAQhCqX6kwv56ss08rP//NExI8eIx6gABiYvKAMNdPTM5MzM7aXfrT8n/vOTTVtP3M/tnq3drA29ZMrZPtQoFbRsdoox4WIBwtPC3BDG2arVsCkSLrVKWGiY8L5r5YTIyqjXrjazACkh6HrJilG//NExGkcsx6cAAhYvCVROPoWDY6eQ40YEwOYUzxM6O2W7HcQ6iDzKcG/353UQwG8OBvZK533f1UqI1GZ/21Z2dvTpns6l/pdv7Vl9NChRdv3mF9a3HW1rtwGCVxji008//NExEkgsxqYACiYvctNGa0lLKE0XHhWsSSM/Z4iFo7EhEPzj5iXFhsT1jdzw9PyY2giQoRk5KsJolOlQS7PLWvjS0fYXClwAIFA2c1VGGlWu1/IRCEJmLxCf8MxCcmf//NExBkVmu6YAEBGuf4vFrz/1L78Zv4zMx3VvUKq7FxhTeuvqAiSgUBI+N6rtqvsq7ARxl6FGZgzLAIUq1S7GCkBCtSbgYxWxvzKESHsUVDlOGAtML61BMiRWE3rUaKm//NExBUOuD5AAMPSBI8dYTripKgjF4l+v6+gj0khFR+8OLGHhELK3UtrcocHMaMIhLVRONJAkjC67lpXSqUYyWdoKDDeFbXMc/zudq+Fgo08FwgKpOImHOSSaLrD5hJ8//NExC0SeG4sAVkYADL7QFJKPIa4dYOphxp3Uy1nQheq+1jV6vZXJdQqg6uiMgnDAkFDNvqg1c4NDV1z3FhkxEvBR2ybpF4coBQQC3L6eyJdKJuAw4rggAJsMzd0GNBu//NExDYeAkqIAZuQACRiSI0A1WF/AuAGh3VLxsXqzEOUJUZMZ8ZMijfppGyaLMLnHGYDTIYRAdH/U9tJ5BDFPZZuZ//os3Ralk/Bd//669ZZZQCFXXItWxT8G3Nad6/G//NExBEViaq0AdhoAAOBPcu1VHVx5fqsJ50kizUZFetE1HU6iimG8SJomsWA2JvRHotOiTSlqUPqaS1kUpq1mHd20jJeixMajTHuphZ0nnKx1VXqKIEGkTQqJ4C4yuhI//NExA0Uua68AJtYlYCtBfFKmImxZpGJKNrMX1GRvqSJI+1kJR8vbWjsDh526tP3J9pt/8aiP385h9ik176TtcymWv1/tW1V/y1oXFh6FK/rQvTX/jEgRhi07lWfUwYg//NExA0VKeawAMNamFv4rLgIypOsYokHVWSbeXPOq6hp8qCpHrrE+AT5QRrGkPKdisT0jrScuheHrWeHRl5iadZWrqJzdMhHlrMSSL9p0mn+iaVA1f7+dIYYKgn+YoFG//NExAsTOeKwAMKamMrFM9KFYL8x6BVFHUWT+hD6lug9J/ChP4TRGCBuDdHgbZiLil1j8OMeb2JztzFus1X3LqfJGerccRgg1EyQbMhPLN/vTZQTSx2pu8753lS7nZwB//NExBESmbqwAMnalN4rFviYv5z+b6ktRgeKVboibkGtM+E6SagSBSnTAmHiWpmZuTm6i62hNupRtZSJWUWaZkkYgnUWw9XPW7lk6Dn/k1qfFZRJEDLm+2eETVb5bXw2//NExBkR+TqoAMrQcX5j/jVuYGRvCg8HwwcwlBSC0+mlYSRW8ezh7nwNFe625nJk1m4pbEFGO95rLZNCbTGCAvVGKBqP48VOh6Wozv///hwhBgosSx0Op2vk2+tldP/9//NExCQRQr60AGiEub++p66oqnevn1Psnp9LfSQ7/QnOQivkEK3qHYgAZgHDJH1AUfr/7Jmev//z1dt//7G+//+3u1WvZURTK7/ojbTKm7s7kqlToqVKdTkOJMPY7qsQ//NExDIReva8ABBKuZTHcXQRMJmIwQFBIc1BiCA+F1K3Lwz/v//N///xf//////+/336dqr/pWtFP+al9DTVMPUx2H0cccuxxxxUqKHHijqcGUHSLDxVzzDSZ5w8Y0kT//NExD8RIxa0ABBOuR8fKFyRBX/5f+XnL//l/v8v/////+/ymNX7fvd0zFRHRiqQw93ZFfGh09IoczmBWdhE4OKgwiPFSoIGQgfHDA8HhJBSrB4cLg4cXUOsAAxQxiwj//NExE0RMw6sAAhKuZkyfqjKjWSz+ZduzGEVqm7Mdf//9zf///+j3/5a8tlR5S5VZeUpmeUqTGM4jNM9jVFXqKAKhUDxhERIYYLFKOM7YMqWArxJABOSRPErCGD2bRIw//NExFsSmwasABiKuVkCIOoAsAKF85C4HQkzSA60VAwYbIyeaCCB5Awgij25aw59xQz+i8EDiP+zLprX0DuZsG4HS6a0eFaS1rBwDfLihYdZwiOFKdR7IQc7pD10oYbt//NExGMPYMKoAHvSTFjuIAtknkuH4sLgYAQFbjDRH0TmK7TThK0Tkvz7cP//W5VF+ICh1dH157vYMc4XBEE9Ja+COB1G4IQrkg2nFAECp5CTkJdYs8nt6xKMCBED51RV//NExHgR6Tq8AHvQcIJMdLFoevvyNXO5+MZtLgYLED7XO2XonV0qLAEPUXE9SwBIFSaG632DhC03y0i+lhGlLPR4Cjl3grxIYtct4HjL5IAFLCIUAtCgR/5TThD2fKWN//NExIMSWTLIAU9IAEntcROlXNLKH2jHZ5LxTR/lAGmTtmXZTzk/f53HUadyxDE5bi3IdvWbW8fy/v+1yKZxTGns5XLVbHDe9/zn9/L/p7d2ntg+Pa3zHzcuwDYf5KA+//NExIwhOdKkAZjAAMIawqw5DLExTxynCo2ctwDsIkm4KDrI0e1riJKZiVT1tdlEpcSWdhxkKxWsxqUMCaTFdQxKGv37ENWl5Lqi2+SrVNDUPy+3SWN7ymqsMw7y5Tay//NExFofseKsAY/AAP1DlJh+uZ0tLKa1rLf46/H94/n3DfcMP/61Wl5vGrpHww/wqHVpMywAQjYFTW6ZnSkpmGa1KgoyN4FjFEgpMAjAWvh74dEJ+EJSypahQY+hwDmF//NExC4c6iKgAZiIABIqUlMUjhk4/ixhjcYYlBxyTo5JBU6FaY4hwE2REc82MTyUzIqnvyDlIqGCJutaKrr/9I0MjRM8nTZVSWiuu/+ggYII6lI9xMxyjUbEONeUQobu//NExA0VIUacAY9gAOh1uR0DihThWwgDUA4TbTeBY4sJS85+e2XOPE6Nk5GsNgq7WYJP7d9KNE5emPz2Z3JlZvzv3ZZEIC+OGVFgKVG+sDt6BQOeqlxhQhx2aBDjDzMT//NExAsTASZIAdhAAAprUEdVmdeEtxUBXaiisV3quNyV2cdeVaxzIqKsdKssWuK8AqFwWoUbKwzMzKvOwsLCywaeIg189biL0I3ofF0JBbwfFIUZAc4Fo0hWWs5m52JW//NExBIREEYwAVgYAKmqynQWBsEnCQUD48CPNmwCDSDo5l6mEDNq3onEt2qFW7xyEkV3L5xLZPYjZ/r/cW7KamTZGRM1Mp/yxrIjoLL9PqsDSHFw1YGRBAAmhCYLQn4W//NExCAaIRp8AY+IAMxxl8TeH6g2qAYwtC+FoYgGGKA+QZACMAFQm0WEgv4zZvTTdMqmNvh84UGiZ/3FDM+FZIN/h84UDCgGsRHokMf5/+s8GCiiwgqKEI3WJ6dG7BPu//NExAoRANKgAcYwAO7d+3z+nxsSlzltcqFoWRPOc8QLYIzYsEV6peXkfyfz4fdwuabaT9E5JuUrVLpKGj4nOOIFxwAmG5O5wwUK2rOxpfbz5ikfX2sMXVnqd9/s96U9//NExBkQ6xKoABBEuf//S9uzulv769qfXaS1kIjsQlHtVpURHDhxdBjilMJfdDi1ORisc4IQLgXDIuej/6mIydf/kbuEPs/P+n1bt7ZPT/+vbbq1L62K90yB7TmuZgao//NExCgRYxakAAhEuXOxE1bI5HQgk4QrBSiWUULYwsBCjAwyOKAjQMISdcv+X/bZMGD7/076/l//Z6jX/b/910O729e7dD36UKgxkU48pyEIJo2IHGjDDRggIOqSDGE6//NExDUSWxqkAAhKvYuSRBcSIJlBYaYBRABwiNHsKwUzCin/mZF/OVy36dfudl7rf/+2ml/////b9/+qPSXpc1LOVKFOx7KhjUQqj2KNEogY4DojEHEZXURnFUEBgiUV//NExD4Qyx6sAUEoAGYisRBr1cb08+xeLT1lYUkKW5TURXZImaL1Mx0q9kL3VvqVVU01UbdPqUhJnS+3W36uiOcWYYYJkVnUp6q5WIxlLq1nMQSUgiRhWwu4s2c5px8S//NExE0VOtaoAYIoAVmM/6yQqioa//RzSlMpSloGAmQ0pSzLoZ1CgLlKxjOFATKUrf6G1TUpWm/Qxv5jZjf+rf//qV//mMZQoCZStlCgLlARLIYCAiQUdiDBX9BRtREG//NExEsSGq5UAcIQAZpNDDY57jR4TnrNNRlE5J/Mslu1Y1QCNRKAJMx3WBROoGRh5QdEQNB0FYNQ6Sp2rDSh57BV28q3/KnSvrVUDT4NclK+hQEMHILZ/cmChgYIEDCO//NExFURoOH4AEmGcDGs/I1DBQQMGCDoOTLPyZQwMECBhHI1l/NWUEDBggcNBVlQsLCojMhJuKiosSNf///9bPzIsLiqTEFNRTMuMTAwqqqqqqqqqqqqqqqqTEFNRTMu//NExGERaSksABDGcDEwMKqqqqqqqqqqqqqqqqqqqqqqqqqqqqqqqqqqqqqqqqqqqqqqqqqqqqqqqqqqqqqqqqqqqqqqqqqqqqqqqqqqqqqqqqqqqqqqqqqqTEFNRTMu//NExG4AAANIAAAAADEwMKqqqqqqqqqqqqqqqqqqqqqqqqqqqqqqqqqqqqqqqqqqqqqqqqqqqqqqqqqqqqqqqqqqqqqqqqqqqqqqqqqqqqqqqqqqqqqqqqqqTEFNRTMu//NExKwAAANIAAAAADEwMKqqqqqqqqqqqqqqqqqqqqqqqqqqqqqqqqqqqqqqqqqqqqqqqqqqqqqqqqqqqqqqqqqqqqqqqqqqqqqqqqqqqqqqqqqqqqqqqqqqTEFNRTMu//NExKwAAANIAAAAADEwMKqqqqqqqqqqqqqqqqqqqqqqqqqqqqqqqqqqqqqqqqqqqqqqqqqqqqqqqqqqqqqqqqqqqqqqqqqqqqqqqqqqqqqqqqqqqqqqqqqqTEFNRTMu//NExKwAAANIAAAAADEwMKqqqqqqqqqqqqqqqqqqqqqqqqqqqqqqqqqqqqqqqqqqqqqqqqqqqqqqqqqqqqqqqqqqqqqqqqqqqqqqqqqqqqqqqqqqqqqqqqqqTEFNRTMu//NExKwAAANIAAAAADEwMKqqqqqqqqqqqqqqqqqqqqqqqqqqqqqqqqqqqqqqqqqqqqqqqqqqqqqqqqqqqqqqqqqqqqqqqqqqqqqqqqqqqqqqqqqqqqqqqqqqTEFNRTMu//NExKwAAANIAAAAADEwMKqqqqqqqqqqqqqqqqqqqqqqqqqqqqqqqqqqqqqqqqqqqqqqqqqqqqqqqqqqqqqqqqqqqqqqqqqqqqqqqqqqqqqqqqqqqqqqqqqqTEFNRTMu//NExKwAAANIAAAAADEwMKqqqqqqqqqqqqqqqqqqqqqqqqqqqqqqqqqqqqqqqqqqqqqqqqqqqqqqqqqqqqqqqqqqqqqqqqqqqqqqqqqqqqqqqqqqqqqqqqqqTEFNRTMu//NExKwAAANIAAAAADEwMKqqqqqqqqqqqqqqqqqqqqqqqqqqqqqqqqqqqqqqqqqqqqqqqqqqqqqqqqqqqqqqqqqqqqqqqqqqqqqqqqqqqqqqqqqqqqqqqqqqTEFNRTMu//NExKwAAANIAAAAADEwMKqqqqqqqqqqqqqqqqqqqqqqqqqqqqqqqqqqqqqqqqqqqqqqqqqqqqqqqqqqqqqqqqqqqqqqqqqqqqqqqqqqqqqqqqqqqqqqqqqqTEFNRTMu//NExKwAAANIAAAAADEwMKqqqqqqqqqqqqqqqqqqqqqqqqqqqqqqqqqqqqqqqqqqqqqqqqqqqqqqqqqqqqqqqqqqqqqqqqqqqqqqqqqqqqqqqqqqqqqqqqqqTEFNRTMu//NExKwAAANIAAAAADEwMKqqqqqqqqqqqqqqqqqqqqqqqqqqqqqqqqqqqqqqqqqqqqqqqqqqqqqqqqqqqqqqqqqqqqqqqqqqqqqqqqqqqqqqqqqqqqqqqqqqqqqqqqqq//NExKwAAANIAAAAAKqqqqqqqqqqqqqqqqqqqqqqqqqqqqqqqqqqqqqqqqqqqqqqqqqqqqqqqqqqqqqqqqqqqqqqqqqqqqqqqqqqqqqqqqqqqqqqqqqqqqqqqqqqqqqq//NExKwAAANIAAAAAKqqqqqqqqqqqqqqqqqqqqqqqqqqqqqqqqqqqqqqqqqqqqqqqqqqqqqqqqqqqqqqqqqqqqqqqqqqqqqqqqqqqqqqqqqqqqqqqqqqqqqqqqqqqqqq//NExAASmMYcAUUQAIgHAAAgop3O5CEJ+31//U5zgYAACCAgGPSCHicHwfP+UOcEDkTg4CAIHP+XBDpxOD4IAgCDkrB8HwfBAEAQBAEwfB8HwfBAEAQDCqllVYgPPtIl//NExAgT4dKMAZgoAPmqKRvPZz7el1+6c8DCoM4qp84MdFFwQXfowkVDCoiYoarfZXcUipkORf5N/Mrsb/0FFnvqiDnDgg/s8LJDQgA///1AnW9JOkGGt0AlENPKHnO///NExAsVOc58AcsYAa4v6jfmySqi1QmpFUQ8UMCKxA+r6P082zdCWvKS8O6Swttum7+IU5D+oXRs3/RTajoLvx9vLpOCeiek9IRuztYMtGL1hwz/u0vPCAKp4CiuUzpL//NExAkUYq58ACjGufyz+ctIJz6Vvk1M2XwxvVcrlnwp/lJcjvlrGJ2I/psxcq7IUORbmtMmSHlDsf5Z98/8jxO3m504biOKZ6pgu/TWIV7aWYVGXkUM2JS87/Pz70QW//NExAoTyqaAAAjGuWjyQ7DM5FcQ9leItevq4uNfJzSGXH64zlWGIFnZTO9Mv2LhEZx+rwk+fr881eEd73k9lc9/p/fJx7gPL1UCi1bk0O3R7CoPJ7u+HNK/Tsc9NuZj//NExA0VynqMABmGueMCDE4uIvf3LJ092Te4EI3O53pDGb2zzN+4M6cSOWWX0mSPQi090uZechl5ltpBv4Xkd8tzkjZD/yV2CFbZfPcghgW/v/fnWXD9VaSMUkYlAWIc//NExAgSSL6YAMPSTCQKYugXMvwOQPkARnGn1HGJWeacYAoCBCBvF0ZpeOb6qfz3HaQ4AzIMuCh21J57nik9UPloaXMFTO/Z+3y3np31Kta3NKHGGjBwq+sV0IYR6JgM//NExBEVUYqQAN0ElMMpxrbcg6PwsgJOQRmx1DLDiUGLQBDBECWJZAixDiQfUpH0Th/oGEehPq/oIUz2CDP0a/f2FgBg2PP79Omxb/////16qr3P3UQ9MlOgGtljABon//NExA4QkZ6YANUKlINvm9JcZAT6A5aBoDQsk2RSMQhJm8ntRa+bfM39F+Zvv8X+476/K3iIE9RTX3/I/////+Qqw/eE2o8Ywxxy/ah1QIlpg6Cd0lBCckwsgA0AIyHE//NExB4SkaKUAN1OlBy4WjILmA4IpllJZgVfmPzE/8e+rfM9Vf2Fvon3bqPiFPKLo19//////mHmKufzs4FxZzzi4qKy+y4TG+olI7MBJjmWnDTaBvjCZZhSYlCmtV6e//NExCYSIIKcANa0SBuLOgg+oNwQEsHwLEAlGhcLHo7Q/ygkA5QTJiv//////9qKZqh1gJWk8Qh+49ICTPxVcNqbgoqFuS811pbjgX4ypWqYcd9HJrfhhheslAQAri5E//NExDASQJaoAKZwTEAImxAAwSB9ICPf+1yguDUL27f//////Srn/uADkSflncEEYP68tq42MVUpdypKx0ZtMl1KaVpYCYClSK3DC5BK+lRvIavTc2JuT1V0cPVCX//q//NExDoR6OKwAMYWcBKYF3fNhb/////+taiN5+rqjxhLcleqcc+vXnaoJyLBsXMkOYKdCudiBfB7b+NgkABipXegzzG37Ig2q/EEukZ6j3//9YJHi7rMy///////mAyG//NExEURUMawAMYecNXn9wXmJnPO/FlR8wTHXw9Ro4Ca9FhEgoS29766TzUK2W1ZC9MI7x6SKS9z8Vr3ct4qVu7qC+/////7dCs1hZu69y6hEf/////8YsfuzBCuBEn3//NExFISacqsAM5ElJfKWSH4+hfTUqDR/0mfjuCi5wlp5NVY4hzlsnkqdwKG2kWAzDlNWHJGYV5vrCRKcW9HV///oLAUGh7uVt//////+Rp/IunuYKImS75zQCOgBcot//NExFsSoMqgAM4ecNGIhgEBAwSTpmBGHgIJhMfktHTo2pqzEbZE0Ivx9taSLMDClHNWyxX2ZN4fXtZ9GDTSf//7JWoEhObKPCQhoYZ0cNBaZkoSZjhoZEAiBheEINmU//NExGMRkMZ8AVt4AMFZjKDA4DY8Hy1ggFyoBA8A4WA7wqQXIxDgEOTxKQiRwJHxCjSS5wwGUPQoOdZ0mRSVL5sevpLSQXW61Eon0/Vb2ymxuPMuMjT/U9l9ajI0KDoK//NExG8hYeJcAZ1oAKZvayLlaX1zj7QiH7Yx0Z3v8uDkocl6h9B28OEpEl5fEpbK4zD1LlKL9auw3ZL2pvVq6k/9sbLUz54sN4NRuIUdjBUOC2Ze/fk1z6RuUpdLGJsZ//NExDwhkyqgAZhYALJg3XOrFo2rwlTzIvuZv9kBuTlUGIFz2BqIIEiBDJMggT0z/v/TTfLX1vlj6L1D5yJzSTR83v5vn//4l56K2O2RPsUv7mVnNNXnqtYFQE8oUL6///NExAgT2r6wAcooAamvb902b+5Ss3/9vbur/v29E3mqIopgoePW6O5XzJEBlEZnUTKIRrzkceJi6iaCCmKYhB1DMKCb9HIVbtOWwg4RXzNfCBg7VbYr9L//89f/lD////NExAsRiwq4ABBGuf///////5f/zuhcbMOQtScs8pndYRo6htIwNXaCBD8CkKrHQBGMHnZAAFRDMIRBQO3kpVjCbvrDeDMKKvP+svm5ZEX//nbX///7+qf/+lHLREOa//NExBcRErq0AAhEueW6Xel0lRJkQVCxxByhHMOwUSquVwrIOkCKrOAvgRBziVDCuR9CoowMiJgw9mpCyHf52A3U1UZSDXrItuzu/vHBIYNWZyK1BnZ/X+h3Pdk91ZH6//NExCUSmbaoABFElbFe6LucIGBQafWv/eVcorXBtF/uN8Gl3/qEjnqGu/hQb3yVvGzVzrTaBABga/LOwGri7ySOJVKF0cHsCQ4DEGmHKQ2ul7Ynv2cksOPDaIkdrk8T//NExC0SAU6kAMJMlM/rG/7eMbu0Yn9OjDEFOXpWQXUtlwqtuUz9q8e3pUH7gb+uA1HfH4V61W4QAf+H4YgHxCE8VYk48Js6j3ssG5DNI+8uBeYDYzgrbOJMtI/6rSRt//NExDgSgUasAMPQcEIxbKPYSH6Ta0uVQ4inb10xy9Q+QFBc4CQRXWWzaj9u48OGuPAALQ/jUeASo6kmpGNznKA8LJ28dnTYoF3DAEIvRBn85bd7efJfMmzk1E4h8yBT//NExEESETK0AIYScEscx0V6v/qVr8pAW2nqSdmxkQdBe42FHDVE3MDze3GUiM5EWpqXolb1XaVb+qzOi7zjVu8p1/lw8OxNNSc2gx8oYawLqM32rP0ye++y2hXYnAQM//NExEsRkUq4AH4KlP3DIb0mSSLl0KjWrlHCo15qty2hDDvcWcS79CzHiioioLlQnpqsvB4NmUTzVq+6Pb/NWzc8UeUYtq6kKdPydCrW7i2y5Xca4kumtQaZxYTsBgBc//NExFcQyTa8AG4acCatAqi6mGcGND59Azq9vokjiIQhS4uAHE0VAFjzXUytum6Pzee2SD6EzzUd1lkk8DHjDZKm1CKguJrFPGYs8Z6GNnb/3d75HYFzplAVspU+cVlA//NExGYR8T6sAMYUcNSX/1Hrv/2K/V/8H34RB9KT77y4HeXD58o4o6sgitMQoeXWO01WtlG1vPnyP///L////T//96/32k/9amS8a6vOSYci0FhVBiS1HmDpo05XKLMY//NExHEO4LKsAJYKTExQwgKsPFBRA6gYZgOHg4w8UHkE1HhE4lPPiZw2jgVFtPI/xT/GfwvTi//+y6///////1X+3r0S2lHerVkZhEzoUwac00x1EuAhUGGcBjIV0MpR//NExIgTuw6wAGhKuSEEK5iORxzscgokKAjmqwmxJbwMFvAlUa4v06+3R9G3/kTiFw///N/X//////mf/pVraVL6P+pW5WUrI9plVpqslQFmoYUzmZStMgpSsYEKNsZV//NExIwSow6wAHhEuSHKv2QMVX5lTYzF0WA3aXUsIxmcO93jzbPJmjzi//CaFNCF/////2O////D///pTL2qw12h/DVV6sbX/5VmusMmcKvVJnIMzOAx1jU12dQzgLLG//NExJQRox6cAHhEvDWCgpgg03oR4FERnhIJUskBDjOTHody3cwuU2VrLP9f3/1DsVOQ2TLE7Vh+xaRenSRvY2llDphI543f1/dY1C9iDaepy0JVc236SNWKP6matgAK//NExKAU+vpgAMBGuTMfDrQIoulNH/u21dt05LqNAV4D0GL5cRTTC2hcwWgLx97oMJgS4yQ3xKP0FumpgbAmIWYTsYYWn9C98LQJKJWEjFgMgLx/0LLpqZAd5uMOTB6B//NExJ8RCHowAVkQAMwT8YcTP/+7/8TwKoJwSw8DI1JcSs0TGX/////jsKBGNiUPGRKFB0DTBYtGYoFDVkNqSMoQIAwhh8VGttvqJYpk54/+IaPTE6bjpuzFm7WanBnM//NExK0g4yJkAZhoAbEC6Y2lIlxu5LVX9vO+eOb8/lbZ7bvUzvz19J2n/9H37y5RB68cwxMHXVm0PwUeoSHRgf3dM2H7Hj0RWieY1bRLEuXZaZyZmd7ZulXHi+Bzc76X//NExHwh+t6wAZhgAJlVVtmt6NTi4lKnVtY0tmWil7J7VdaQFQOXFw4XhnNQbRZ/VqO/b/+wz5386f0+LS3v5IrSrILWoTeKVP7Y1CxOL+9Ykz++40rZBjvcP1A1rb7W//NExEcZIdKsAdl4ASlc/1+tZxvHzq3m3PLM1yQHrm4N+HmptgBBgHb5uv//rLJaNZz1aQZOhHUvcFQEIbn/koKz/onT1foofta44fTNQagYHrh0CoPRCEEXu2tEpVYb//NExDUUCbq8AMLQlQQMJQ8PLEYWkwze/////7iNUm7PqFqWa7sn3dX3JgDgsraZUAfAMSn6luAoNddQuIK65RJMfwkfr5SDyNRxZAEIBIa1uHS13xufXtg+bVMGw7hq//NExDcUocqwAJrWlDK4iI//n/9n8Oura5xseWkmHA4+FYTT/////oX0QYAAuITVlRFLh9klwIVapSv3TsieUSBMcZEM/Sl///f0f/2/+edK9//v/s6Mq1roVPWjKer9//NExDcQusq0AGiEuZEafCCHV+rDN/4CNl8CFf/9hNPf/+RC2Yf9f//v//+3SitQ05EvmLkoiMzynRZV2VHO692NdlIdDnZ1QrkIdVHUU1WO4QiFxntRBBd+f//dMMn///NExEcQAt68ABBEuf46AX////////9NVdXtZvqVZjlQs1Gdxc7nQqGEInExQUGHEBQc4vmUiCrjhF3ONFhyj3HhQsV5xFokKlixUEjB9SB///9v3U+/djuLc5Nnr/t///NExFoSGxa0AAhKuUX//+l//on3VmTzGoR6IchmM2ssoUpjVNaWGAnUScxgICdgYCFMOJChhSHIoICqoZgFmfC0Kh4BoS53zf6tnHHHfyh0xg8Hh4iKiIAi3MYzlN/p//NExGQRiw60AAiEuf0//6t/06Pt/KVL9StR9JWRjP5WNVrqVJSl2EnmeuuVjKyKIuUqGUOkDzDfxhU3FUBxXGXLMqpp7TXppaf5JDM9Eak9kdZYMMPTWOan24kEkaA2//NExHASqvqUAUcoAb9OGwkzKU7Sc5lnMrwjSmS8DVgmbIKf8+1uSvd+mF5zzIQl8SrzazJRzb9XLVoX9mlKuyhzbqUM3J1TWqQAP0/Or1DMgZkGW9xwAxp3/k+hZXgy//NExHgdMjIsAZlIAbgUFj4kLCgDcnExwqj6yhpm5+UiRCrB2Eg4bouHaXMlzDc+OwbCZuOksEmdjSkd471w9jvPoAjABFJk95akxc6cZT/pVKy+qkpoqjiv//Px1M7D//NExFYegrqYAYxYAGJUxy22ffcV//uPwebDbvjl175qpb77ff///9JAIPCM2TI1ad44TS+hZOFNWHQoAnjb2fXmn3hukfSW5a+pj61Tn2RshNRMPpGh8HeSCI8acrRA//NExC8RwT68AdgoAEy0AcSVTiaLBA+IDKwtB9hQMlAA22vFa/8QQz1TbMQWy3we4YxNsdJCViYqMNX4y1tM/9XePlXw/8s+tZP+dpGBUWvQQw9rhV/a+yG5g2Llh3CE//NExDsRIUrEAHvQlKVGFgZ4ERGW+PX79wLqX134y6ex6gea4ai5jpxpEAtDG9XANyfyJw8s3RBDHLcMn46s/DKcTqoBF3EnyP0NqbU4G8V1NoQbkEBepw+PoQRaF63S//NExEkSiaa8AHvKlFQq1lgJUTC54MZJ4+Q2jV2oP1V453A32mm4YFCJuQP44Psog1aX1KrC97+D+o0RHcpObo/X0O8aBQ+RREgpQxDzCZzqMD4YBoMfK//tkumjDf5a//NExFESOY68AJPKlBZuvzbgRZcG+rCCXt2IDIY0KMpABffUEO4JS6yxHYInvxkRG18Ks/Qv1bv7e3Uu9xEKurCdcojooVPdFJrEde2rPULW7kGjmLX7nKoOak37T+Ll//NExFsSqZawAMPOlJsYorB+dZgA+GhjLwbgb7LGsF7ipURYLqj2Pon1bBvTy+3Rud2wGY6gMIFWg/QItqBBdaimmv17qP7VgYIwIp3XwggJRJhW+hlDkAijHVtFwOJn//NExGMSQZqsAMxKlJvKswvRPO/iGQVK2wuxCVm2UwWKPvDEJSp+d5vOXiKS1BaMKg8NXKPHjss+uIc7LYS/UcEgQ3u+NrHnHf4UGzFQovk384rctbVPYoJ7PXzMZvWj//NExG0SeUqgAMvOlIbL3VjUHjzTTQWkTjXzD//+dVlOfVtP/7tTmjpE03E03FXEcEsXEwRVcfDZAk+TJY78sJZPUcr/qk+D/Lf/4qTc/Pj0f//ab5+GPTbLY//0Djx8//NExHYREaKAAVs4AVT6p48elLNf//z7B1njgeB8yYUkw1BEMSKIAeAF////ysnjoJlMNDhPP2cBJHWNQIY6FCgdhNI6I2//////m95ocx2GjK/5NS8THG0Wtkipxc/w//NExIQggyKsAYtYAYTsaz266ANzGe2P9V/+BN9e+/5+nk531O9xABB2l//9Lu///pYqmKhjGdVETIqveyiIaTlWLBUGgMHalgq7ErgVb/5F/93AsiLcroIDGB7tXx0s//NExFURcd7AAc8oACsfAiblQ0+Ih2OEW3I6EOI5Z8Sg2BSOkOBWvS/4/g2psG475b4pr919JXSouXRtx6xBBJow0ffqz7ppCD7qz8Ag2AsXG42F0oVjnMv1390E9/4o//NExGIRqbq4AMHQlfsPfoGtcXXKBNqTYDoJtQjf7v9v9tqYSLtomk3KhtOPnbQk6RSo3xuPmbEoeYhsDQVeYisIsPyhgB4Y/qG5klY4RZwsGDUG07iLJzCcfiJHpnc1//NExG4QuSqwAVhYAcw4VBYNYVAXwX/ydCQnQwRLkbEBb+5jUMJxYBfG5owJzP+jTDBYW4WiwqD8CuAJFQYEP/+9j/oFGFsGwKQL8hEoKQ040Kf//zP/+QEhIRjw8084//NExH4gQyKUAZlQAZFLkZdWbAZhHQ48RVx4ESBT01fH+/jW6U//ro+JBJDjREPoQjn7pVTJOKGEBGdFPZio2yJtQxkR2KtDKzb/ESh3pasWPIuQgQxQGgKDR46s789S//NExFAT+fKwAc8oAMrtJDxk6wuzXaMLL1IZj7E8DMoIJGFxMwq0XQqt6m96/1BoUWpoQiyF52dEQY+ekvi5qh0PMixkdN1XX8r/y41b49NsdlfZvSrNNcfqyQxMpfjX//NExFMSmaqgAMlQlUpAU09kqlJAdM/LHB6YXvHT93+ZTFjf5c/5SH+//4hk0cMaygMHg2AvYeDav2mVEEOeMBtodLLyahOOKkyzX2+oqTXv/MhJ5ZlXVkE8yHrcAQVm//NExFsSoTaoAM4McNOHwCYumDUnXCBHrg0PfBe3g4e4QM2wIgSC5lH2OVfZDnPPMOoOORno9kXVNv9q0q0vlXZ8zc/qKvx1MgbyQ90FnhpG1VQIAcJ7jsBkQ/qA1fA9//NExGMSCbKwAMLOlZ7yo/fBFj0l7pxFqygNsayHf53V6mCVRShfOfnf6f7vjpF3Ui1T1snpGqlj4AtycTQAfBRdyWHEnoGVVOFfcz6rzaRLvOv/7ZH/+1Ys0O/0SYOD//NExG0Q4cKoAMrOlJETpKANg0aJgQWaB8KqCAgJqMw+LAN59QYXRxAICSoIjC3L/////3/////////6/fT39eWqMVTKrzIVj71IPEqjijXKqjHGXjBBSAMKKEh7CpGH//NExHwQuL6wAItETArHiRRgfTQTVhJkKkggICMx45Fev/L///r+f//7///0/9dvo/+1E961ogImzG3RY7KVQFZHZRQEFYxVCKYWQWPcKCFLOEOIEHacIDVqh7nO8fCf//NExIwRCxqsAChKvFS7KASIup7E4YYWfndZ6ZxH19H2a50/uTA9xAHHFqEo2JYFgRSv/0pioi/4l3rDR4623BUsVLOBVwaU9RXjw0yPbG2WBDCGZkCmoxGnONjZE8xE//NExJoQExKsABBEuaDsANoiIHDM0mvsuBJIwSguievjVDQoxqh4vWj69c4XajL6SsAr22xi/m7rX1fgCAiHM4HpxmUP8uTtBrdrX/+wCwhhoMico2Loii5NcNmpj6+7//NExKwRwMqkAU8YAOPp5FVh0PFU8cI9mZks5OL3cT/f////ePHd8f//97LjOv81CjHnPRhMc8NzokpUL8GyRVe/Bea011ccwnH/zDzDooyzRUMkCcRTyrUnMiac4txU//NExLghYk6UAZl4AWjxeB4ynXTmOLf01iksaAjiO1Pu/O/SFf82F1F0ex6G6C1PvXbhHR5CmgOM3qSOmlJJ0Opb1OtOtTkIpI2kgYGAzFIz8f/G78tj3k60LQExqJmV//NExIUSWZrAAc9AAepOP2cDk0PdQ/driv3+4iarw1SfBBUUNPlmHFABhpZFlIhVw4xOfNN/iF6/KHVMlgseQ5BUH4iOsWt38PGzKPokVHBYUuZVl9US+GVtlgQ1FVOL//NExI4RmUrAAHwMlRl4o0Llba1Vx7hmkoZnZCwje+AjASI0EHR9gXzEuhzC4bTodTR6zFktSl9RijWoRxIOoaCk0PnjJpv3m/ivVbdfsORzfK/7Rfta15QhjihaDAU2//NExJoTiba0AMLQlbjxc2kip2mcoJYxgw5AN0mQ5Jb52C04iJDLwpt8JfUjshw/eEu7+eD73/5pQFwksca7r//nIjU//9v9Fc442PHFDgqZ7/Mf///kVWUHOktVIFyg//NExJ4Ugc6UANtQlK2zKMNQi6OAOXvl7rtLoqW+KcFhggAk6r8XwaoKhFKlJflkZsZ8MjiAf7fGwLPFxjYHPIPWpbK9uFv4Nxhy4n0G64YLAkil+tv/DkxB5LD8IIA3//NExJ8Q0bKMAVs4ADxky+AGH///4jwiBcPJkUKJByLm8if////+Rg4At7D9BOAyB03ImQwiBEDpXSXdKQMi4umDPg27n/qP/n/1HX6lV+k1SLZU7GJEQo0mMHaZmzUb//NExK4h8yqEAZiQAB2AmDtc5huTCEIBVrClJbDQfAJx6LCETG1pPJLwTUrHcO7D84+9LRa0dkzK5w1g4bGhMaypm1DaCxpa1XiKiW8lRsobE81ncxyL5v7WNjzHJMPH//NExHkgsxa8AYNYAVRvXviEWstSWcXqQiGAcRy2XBEEsntRFd//nJ3Pmm3cjfseeyoQSUhkC2NVJr6CB2LuiqW1bbI9WM7lHHIYVNB0Vc/JGRjv2lvp1yLq+oNK1WtL//NExEkRWYawAcwoAOQNMrqJCAgtqpsqkYEwDzM3IrLqaPsDoKaINYp5mNu5nMw2/dgQAACIYBABAgJyhUnYFBknmjRs4wNBpYCT/+uODIg9ouTq1uSAw5T9WJAkGQPQ//NExFYSUNakAM4ScAyAyDYomgZEPNb0/EihhlEB0tyAYahx2HVf5yGWF7mMAP4XE0VeTgty8mD9PNVK/UcSN///2nV1URJJVef4set1PQWNjEyf7vO0QcGw5QWva97p//NExF8RyMqoAM4ecF7KA1Ypdg0+K1oIYtWtJaIpO6qoJFtx8tu7NIqouaRQAppLLsN38FvPlP//sT3ABYnJKv8kIzIHxGimyNzbCAlg8PFareHmfQzabEScIEcsLe0+//NExGoSSNqsAMYwcOsUwoLVwLFuAUC8iNAcgWICONGG5epPM//tv+nfKqDCWaXAsIL+RE451OFUmRPH4BmjRULNLa0B6c6TTyYRlg9r3mLfJtQRR22SB+sexkbFZs1p//NExHMRMYK8AHsOlLneDWtD5X3xcm/ye+n38XwOjYXj/JnLA/XK/wWLORk53UJiZJA8kIsijH1hDnDKlx2J5rF4n+51s9qQk22RC4YMnCO0OsRdtSjvuqleEqiiKYET//NExIER4SrEAHxWcW7e7//KwU9JjHrdshrf7Bg4XcSlYZWgxFtvZKIGj1aamvRW7Vdn9vrOZaz5jVs6ivs9JKiCHQRB6EIqa4qsx+vy3s01V2UDbltf/loNDwMkiVkX//NExIwRgSbAAHvScdf62GctUSJYac5XV2Flx8SRdAJIgf+5TGAokCY5v//tfz///zvQlToRkZvk29GVPV0Y7+up+fV5M6MhCEQQ+TI89lcjVF5pFcLXzUReRwaRFMVY//NExJkRuSqsAMYQcH/IglY9///+Sf///0cjVP/Wj95WorI61KhVUg7scSoFRiinVRCOhpbAzsFODBigisZlFTnBCIIUpB2AzB0S8P+X9WZc0f/8tT/n///o///6IvnR//NExKURkwK0AHhEuda8n91mteYiPO8t3MsUHh9zKYQHiLjHFB5jB0pBNgkPBhGHRkTEQsaHlGDVUYOKYFKotFJ6zJf//wr///8///////ddvLX//zGo+VDPdjB1UM7R//NExLESOxq8AAhEvCORqB4RSYRdDjoSAIDKIsHRgeeweCQuMAwRDqB4WEhcAQUJD2VkModKgeoLJRoEUTJo+hZTo/X/////////////+yP/9OpUe/iIqYRCRFRUdFK5//NExLsSYxa4AAhKuVHERViiRA8ItKKmFjTKyoYWGCyiQGdQ60qPoYyHQeHWi1HiOYHMfcIY165PGSmKn47RrAeOmr/Ig8mZDJHpb/5Yb2OxPvSNq/8mlxMhOIuOL//3//NExMQSIxKoAAhKuEwXGmO9xtTe3///qUcUJg7x1uLiaVOVLTUmnz3///50nlkm5WeJhDkgmB7On3GxQsHo2NTUEklf////4CYJ60UA/H9h+K334ejYgi4rNikkvOsa//NExM4SOw5YAVAoAdRVSGZuwF+w5YHAw6+0Xb8mKAmj+2JuLgvwMTRRRPrNwL4CAhL23Z3FsakgSlVNBTOYEoUxyEYlwJnSdKs0UaMpgA4gOIFQJyOIetalUZ50DS0K//NExNghkyqMAYxYAPA0B5DmkkamelOJGxNR+3LiYw49xzlFJNajFaJkZOqktf/9Mehqbsgh7GRkbGOYkq//9YMKdgu45UPLZQ7MkL2LmU7dsZgkI6hyS5JGVeRlufP9//NExKQhWpJsAZloAJVCji9J1jZ49XmZZ0/BfMD+PFT7P3rYqghzUwq9CSTyMDIq7UUqphv3qhFWoVxDVRvmmaarVkTwFwdSqxiNk9ScIe3PYFXkSf6u/jvMQnqdYbW+//NExHEhylKoAZh4ACE3s7i7ZodK0pv////2hZ1////G093VxpXZKoA2Ct75TBBi3pESYchKMSkNrDZa/NACRaSUannrKB0urVkyjW+jNXFrdGMsWiYVMHUot7FGV5+B//NExDwhUfqUAdp4AHSqZxlCLj1HVOejla0JLZ+VzvVWEyIKGq0szFdWbFiaDpge51l/u2NOVsw4297hq6dzSZt5vAVMb2RbNfwGu2Oxvmiv////6UqV/el5nBDL/pIm//NExAkUCeagANROmDDdlbjxCMmlGQOaQHdNcXZAKkBTyXXH2PPIMq4/Mo8MeUFuSAaqLdjInmzuqcx+NeA0hnea1Efkub3G2QEQZeUJamPlCTUVKrHc3ZOcKEPmdLWM//NExAsR+bqQANvElTDgmIV7L6UKEgqUvm4qk05WXJWxLRlM7tvLRr4PF/WZJqiErn80ObAW9/X279U0f///pOhRYsGMJcZRhk3Hu4NOzTUDZi2MtgGXI1jAYGCaP4KI//NExBYQccaMANvKlMTfqX+bGarX8pb8fJUMX8py79aOXw7P3//G+bdX///0JMoCgxkh9mYY22yhw3EnFP6OG400AGAVRlwPDm1lh+m+paywDa7qWWaY5OAmJA2N9Dmx//NExCcQqMaEAN4WcOylUA41q2j9fJdNaAd/lcGYJPDH/mmC0aHf3UK9clI6MG/qYcBQaoYYDJHaLMzQjRAgzu52FvQ7q4IwXDqw2oMPQcb5hIaY39W7nz6bUBtI/+nw//NExDcR0KaIAN5wTG2jX/jyhwaHgoJ6njnBk+Yqzw4sEbVKKhsQ8CWg6EJg+VCgCYgSr/Y6FqQubJ4mwwiAPhFCZGViNz+ZpZin19afV/////lf3//T2pC3A2ssmA2B//NExEIScbqEANyElLBI9/////ga5ZvyE89FPmFugIoxViF0W2g4qiiYOhF1aA5QY8QB6BhoU9nLY2Ki+XkS/x//rX/v9P////5T5SN/975iNCkEYo9E9gLPFL3m7EBm//NExEsRqcaMANPElZMlAU5kroztViZ8EJISO5eGQXeX7nqsHlQU/YpUjyJchqUM/GYf1Xi+ffww5/4f3////6SKHFvPusw+oEDjRwYILdbehd/jNDmI1jp2RGqEd6zE//NExFcSIVakAM4ElH8RojiO0CScdsJPQrHtVKCxFrtpOgPIb/zBPyJ8Wl38bFP///+YjShMXEoNywngNIsAlsCs5ZTelf/dQZcPAzuVhCNoNrccAyhRC+eJkASy2qgF//NExGERoU60AMPKlIFJKL0O8WsVkPSPKNTIneor84h0/6+vtx42yhCSbHU7E9SJPOJmSO6KVnIj/8ryxiKtrdgYTR8zlY41oOGpWMkbPhQrnLTZYvozgujjKLOSON64//NExG0RgaK0AMSOlPo4kK7hSWLW883bp//tqR6EAByYcBbcuk2jDlgAv9X/+0OXbXLBwAw0nqQwX8T6hx0yBhMmG3BCzxRq5LGI2TU3wbYZQN0vMx6D1a8Z5P/eD/t///NExHoRYZK0AMYElf/+ayghYMo5kcSYMKiwAArv/oQqx1HRGCeozU+iIYEAvNK0EAXVThoGlgQwKc2iRgG4axKIoTw5ZoCW9LNgJY9ljSsBgEnemK7LOHphmhl8slVB//NExIcRyUq0AMPElI2ZVcmKvZl/q/9FVFIQYwlGxrCE7BxwgLAOLBgTAYhZ0U01uS1/jNBBrNAslM6SeyCBGZOLGDFUuBhg/lVW1gYsZBK4GtCA0ywH/KhYGmM85gYh//NExJIYWY6gAM4KlDz1BOBUOBLZqPF3muqngiHphrkixtu5D2VSnnd58x33Pka2Ea1uXqsWShIqMruZJZszatZRZUoByoqQlBdMwlNKV0vUZTv3CoX6nCCrACqpNsIC//NExIMfmfaQANZSmf8VWja8AkqxyIAWyLgbDdTNiUgY0reOlwj4wDzoGsEt6AVy31Na4rBxSrRYgGlZCza9i1+d+C3+s6diXduUX/nz+Pgd5cX3P3WWMOPLFmglaloQ//NExFcbOd6QANZQmYHwQFAXB9AnNxpTb1xV6SqD1J0J2RHG1DJntqhnmxGeHarklo9pfmwAG5/IyXqxypig/JUqo59PeIR0E3GRpnK6nWXPiHPu3OfWHZ+359Sa8mqa//NExD0TqbKgAM4KlLXM2+gphNFKLsiHuMZDpwpVSsdQGYDY8HSVxAZO9ECYPghFZQ4X910HCq98fThQlR1uoR3HHuE0nBzePNWfLRHq9i3yFeqf/7dKKRisfvZK+xys//NExEESiZ6kAMvElWEWcJYDPMe9y9XXJcBOBcds0XBObtYI6nE+t6dlRRjq8O3apFtcKyBzTyrWaj5QqgVnVxKi1cbdKKaN/9tKNan//5VoUomRwsWhCYR5NcKsBDE4//NExEkQ4aqYAMsKlQoWflyzEDcIX1U5IFUxwpbPEwvXlxj7gFPfFkJ/lkpnSNl2iWCJmqxSqlpWT/14U9H2L3///LuCFHcIqxQA0q+cYMDtgSCxJsUPg7zZy6oNHiY5//NExFgQ6bqMANvElb+z+JpqymQfyXVOTQ1M5/MGbMhdjo1KiTac/aWmWEQf//ckpmUKHIiO3///RQQoMLCJlROFsVKQL/AuaXwA7oBAZy1lHZa97OtS8xedDQUmPw3V//NExGcSKaqEANvElfw9pTg8r8TfCaShj3kGFv/vOv72/e/PX/8PUKz+9XnU0251JAgFBsgYQeGbkLUyc9QIJpEiBVGjkgbXRo9goxBIgMVc7IxPuek3/Kl4TnMVrEmo//NExHEf+vKQAMoSuer816ymFBQ5dG3L5EsASL3sK81XgRo14ObWvv5zUIZlBgwtGW6fBiRQGJIODN9CddFt5iISY87HTszmT+3np19vPPoexyBxbDEfuwMPxn/O1iqf//NExEQiAyKcAHiYvIlsPQq1kRNfPjBIXR3bQhJZL6CfE9tDjhVqXTo05kijvVw/H1PCkJJ+OA1M1HhVjShjbn5fP06qh+qJkaI9TQm9Im38XX//1X//8REfn///+3////NExA8S4wK0AAhKuZFn9NKM10UOVdlY6kIZKCJTB0SMV0dzOJGdSFKKjDodDlChQRFxExRBRcs5CDhEfEQMJrVGExQ7lWPwuKoYyQwf/////5tRf///9/9JujqRbKoI//NExBYSGr6oAAhEueR5aMKLQCmK/wrBit0NKZ0dHYwNRnKgUZxICJKFAQTgwE4CVlYzozGAQRootFBjtgsrFQbATKiwRiJMVG+n////cqs/v///6fqjsnVjKRwqKoId//NExCARQlpsAUoQAbMVkVHZDP10MqFlbUpkVvMahlQVMmW2Sm/4iwQE0yknbNmKP+ZPt3B4l6QmxQPP6PS/xYD//Sx7lk6oFgMmLI1b4E4LGIIBbx/1DNkwKgRIXB2///NExC4dsyJMAZmIAcLWBpBtgIgNINs//w0AVsFlAYUJ4XAQv//5UJ8NDGgJ3DjyIiPxH////5YPGxFDxQI0ZMWNifGn/////lxNIskTMzY0LiJubx0WxecXXIf5D/qi//NExAoUArrMAYIoAK/+hF69GdZ1S329KMV2JXvv7yPI8jkCAgJiJRdhQcIipjoR1I1XaQXfQWi6xNxMkQQcU51RFQeZXnyf8cUBExlmdFgsexfdzdUxxQ2cm0noLLSI//NExA0UWdKsAdhAAHDly5GmZ6wldveVJSY62ZTVxXon8cUKGUIChk9m3iaib+brgibaI6e/4/3nVdpmB5VCxR6+kKqVwdYMhPlur4K8OprDqv19s8GfmTdHLDaWa5tj//NExA4Toa6oAMPKlQagm403di14tAL+5Zwu3Tv4eq/+VWQ/3iTj7lVbRysAz6s2id0ZDhwkSCIvUp22WrL2LKRB9h4wzTjsuucc/d86/l1gAfZza9gRoBzaLJ4UVV60//NExBIQuZqgAMJElLik6JWhqyVh9kRM3WxqtLCrcWlLwTxd4MXZZe63l6LFI5rs16b/zodkKJZph277JJPXai/C2qndWKb5KXR2wQPCAmRyOZpma1UBOIVisFDDsRWi//NExCISkSqcAHiEcKXv8yDJgmJiNKkg4oLAwULHmtrNEMs3WQNuLU2UGC5mVa++9kzZt3LVqokAQs1q/8rZphESVZe6MNQwx3Khwi4EUBQEhgeA4qHoXE5RoeJLUGQu//NExCoRcNKUAChKcLWVhcDA8fNnvE4Jw69ViG7qWdp1nVRYhhVDiSlTA4Uv//2YQscAiv/zTL0uzGzEbQs4np6/FbYlBlz5gcYSDoAQ+QDQSKhpQpVmKtaLAaedkkKl//NExDcQ0T6MABBGcJ5BTTrxcN6yNlbBplUYAM3zPcH0hjYCR9DMs2BxyNwQdOwt6/b+aITqHqQxDOH48awt6LSQLKeLsaaJlLTXei2MsGqmA4+2I3x7w0LCVtCW70GF//NExEYRYXaQAAhGlKP8VjAwAlB/tznAHwCoQJc10aBbBc1EaCZMtgXJl4gZY0Pc9y9kCnA4HwFz+3EAFg6/kzv4Su+Er9BcXtyz6O3WUiBz//oV9YOIZaVaIxj9hZe6//NExFMRkS60AHvQcDuBEuNH3jABIjcTv283HnrpgaEn/TBRqo2kFyR39laz+mmPvpdBDP0KJBm+KQJ0s9IrAp+LJo+l+ZA7N1VlJPaBP7unS2lOv3JEJwHMqCMWeVoD//NExF8Q8ULEAGvScMJ/kIBQCGL6wJADdDUxSKVsu0IpKGM8pVPcqVoM2KFlTIoBK06QxInBKMvq+ZgcC1tcGM11/9iQhEYpjrUlLyiYE3a3dlLSX1/uDU7VvecpEbyE//NExG4RwTrAAIYScM/+YKtc9f/b2P/iz6Dv/EZuia+H0eI94V1Nxd4iAp+wym6ZQAfQ0E1oIODnXq/jdTsGgcM8M26BewmOk97udCzmf73623ow3lnTLBNubooihltD//NExHoR6UK8AG5ecIQN0LgnnOgHBxr0OGz2rb5p3Vyi4k79mur5TAXo86nHOYmZLdtBdO42t3RACuL6m6X5pOX8sNRoTr7iHOLseVs4xKnps3zedl/zfc0/xSBCl18U//NExIUSkZq0AJZOlKXizAmfJnXCAEjwgE3O7KjFzH/OwTUC8j6Yod4Kk4cfcxulxeb8rAQZTv9bYD76/Ge5tYLsAWAaTXNouMnvmuHUeblsu7lce2CgeDrlAIGnwWe4//NExI0SqUa4AIvecKjAE/bo4lOw0jQSY1XcASivgSTTATUzcKCgsFgBAELNqaZdZTKEQA0qZEBbnKtlmjhFwxF2YHsskze/3FcCDLpRNcdIu1qM9axb1E0NVMYbrY3b//NExJUSqSaoAU9gAOMNEKBHzvW4WPnFPutMaxTOtaxqSv3Pb4+N4r/8a1qu8xd/XrCP1S0NqzDxvcCpd5KdzqnOu1bIchPx5CFGSLkWTGpCnL4Y28zFU547WGISBkTv//NExJ0gsfJEAZt4ACguPKZ3IYhxg7utal7vZbq02UMA4662nseKqGKo9sQqySpJXdlsbtyixg5U5Esvm6tnH94y/POWV5fLItVvUstmJbvHn/+t9fyWWKfKx8umZA5N//NExG0hedJwAY/AAIvZR3PKtqmpip27ORc6VILFurv/lxcZs9UPAOVQyzB0YeLLAj9vFF5tdr5QS/sR1U+v21zK1Kr9XdhSzFJpwlsVEQWBIAQGSWCyIEgSDQqj4eN3//NExDobYX4sAdlIAFC8zP92lXZGMY+o3KvdNNK5UmhERYsG3Cwo8OlTzBKNZmS0UDpsDcNX11kmAE3nx5aktrVDscYaYCQqRcP4yueCmA7K6mopo0DNe0MKrBskpYGU//NExB8R8H4sAMmGSBc3U+Ejz2tLIc4eVWyERbbHMEda0vsvMRyWJuIOtMorW/rWfQItzY2lN7w1EndSAiagsN2bEfzu/h3G5ux//nhznoIrnblRehH2/6xEohN3/T/6//NExCoQmUY0AVkYAO+BuaJQ4vE6uipXl7HL5n09fZZ+ns03ckp+DHP+TBiPYntbjMZWiSZnOGjHpW13/eyXw8xJK21VOTjKf1My4nF1U8dpOOm5ufNzd+6Q/AgmxQP6//NExDoeYxa0AYZYAeczEmguTvfFP99jsGszo2e4+BEH1qqSzjzv2f/7HNt9Nc9xxp7Y56tyavh8/////52FoZaBxzK6n42Q6nKOboquIQD4RMQnidZl0SAOSrzXeMka//NExBMQ0X6wAc8oAaxx6ff5zxofed1PqLnUPhwVBAIjCgoi3bkNdzSlYv26tVpbVKKipiJD+Vm9f2KNtqr+Qb+tBRSRx7AxTx8Gvu3pVB2rjyc996uNBJ8soprR3tUN//NExCIRMQK4AH4YcB+0PjDQLq2YiftS5TXK1OK9WPmdhy/XTctonHigE9CxAYB+/7rKt4OPB08rM2+UfBCqSynTVGptxlQb66S/kQ+fLDPFNlny2D/cpU47hrkpy4WA//NExDASkY64AMPOlSSpAFysPDLzVrzte2nfX6nUEVVHk4/V7MD6qv+6XVo8UZU+L7MgVZzc1vAeEIgFarTKjAoDkbpNfymow78rybZnByDeLyMUNEhwtg+CXHgriTIN//NExDgSoNKsAMYecFCIcniHLVv//1jB4HDjL4lS4Wr91iBSa5HQYOzeOpagNRyGuxEihSTUytSMRpW6TSlnLNH8lLWXqhEYp2aM6SNTBXvFIUtFxnadqGJD0oh3f/////NExEASEYqoAM4ElP///QFc3rWBaud4IXGm3n2dce3h15ALUODjFQLgRXkcy+yxZ+YYEgHgd9nBZK/dI/y20PVQMID4U5cQUoZAGmwkJQAcjAzO3hw9///GRh9/iAOK//NExEoSgMqcAM4ecMe8VSEk7eURLwQ5JkyjboDGHUmIKZPd9rSseXxlnk68aifJqO1sJ5qwlQN4ONDieBxFcBkLAkS+nmrHlGTRQ5//+sOpbIKRBGNqgsqAmlpUwhJV//NExFMSUNaoAVl4AD6IDysJizyNgjFHSKlgIYUWsUwwpuMRTGXy2Jdy6nRf6HGbr5epWCSyaGmsyB/5iHljBEp1CqvcVVVCSX1MIN9IypmXnQrYhJrGtZbm53HXfVG///NExFwhQcqYAZrIAJjZ7h3f819b///x1rf95nuZllrPlDDXd1q+WWXyq/llYyAYmCH7///rBoAY2jejI8DoMeGBi4xBIy5nwjCgw40XkJgntaZDL/QC4rpV8aSVSfC3//NExCocgbqAAZnAACmJUcNc7h2DEAq1GYlxX+UfGVlnE19wS3WTSBPVUM1hnpc0Myyrhl3euf/fx/D8dZby3zH////8efr8d5cvSemzxq4Xzzf+JNsaZNJ4Ohq2oxIl//NExAsT8R60AY9gAAGB34cJehME4/lGD5DEe9KT9+dgo3f9nqNvtQnwNQ3ve69Dj6954GxiVHDd1YeOP3McNAY0GgfGgTygfCSQCGD5cPnPqsEvwODh1rzwzFQVBDCB//NExA4UiYbIAY9IAL8U5tF3mHzCYdNpjyFfIXlp3j6nvi42MXbJLPzeWeLu2ZhDKUf/H5/jE6r7qt7n3Er9f/6nhg+FBYNC6CyA0aFH+r6U1ebjK8Tcsm1LqNP8xVeO//NExA4Vmb6oAdhAAFLwhQ4OFHPlCNsNUVWlaVY7oOQmM8Oiz8lBe5oWBYOGgKgHHEADCcq+Li//7779mFrKQVN2jr5Xjv71qLhaccOZhvCSVuHkYsrfeSoZiDVyFdjK//NExAoT4bKQANvQlMQCpkq4BlCdh5410kFunV2F6qdwXiqYJqzPpfjdbb+6nW/bWVW2QprBabfTL1t9/y8rUwq1Ks3z////9e09SrEMBmhH8Ur70vfgw0oP1IRoPaQ5//NExA0R6bqQANsElMFxAz83Fgf+9AtF8yPKv5qlipOYTz/9Sju2/ocg0r22Tbyp7f8zZXbVn///lZVVnZDBANAKhz////9Fr5VawyLMN6GhD+5uUW1NqLBpxKsheS51//NExBgRKMqYANPScIDWeqOZIfgmQ9f2emYBCs12QNm4dYjRu8msOSH6uJw4LHD/pYlgVB8AwCS/Qudx67IJlUja1qCTIQhrLlxORHG6m7BLguJrfKEueq2yLg4evTyx//NExCYSgaawAMvElP5q9j/dvV/t8ntzHCCzqw4Qm7L3IzvYDFsEoP0Nr0r/////6/1vUfFLq1Xu9pQwa3LfNqUAGst9aRQf+NfS0I3j7kc0BEt8Pq//2j9E9W//8x68//NExC8QUbK0AMPElFvykfMboZj3MGAhB4o6BNLiperWOVWAihwmClN+mEBB9Dqw5bYnQC8RE+iPgT4FixXQMC2GMBHyecJk1vU/sk+pvVP//+qXkYcrJ/qZCKhwEpyi//NExEASObqoAMxElaYil+lsFnbQM/5u4lOddcwaT08cKtgWaxbmVR9nvz5JAogIM9+M1LkTWa2hYEnr0nZD//PUg0XEWnvaHS5YDOaGXiIKixVKxypYaXADxlvV/Tgy//NExEoPaHqYANawSAJoJiRHsuxphIz7x0ACcHHs5qRwZZdqZ816//Wj7f///+ro7Nv9LVLchyuQ6FIh0KeiurAoxhLDv////9XnMbQIsC9mLNFXQYOuP52WyivBYKUS//NExF8SOgqUANyEmOkXgQQH7kCmQXwC4ilMQMrL0/+m/Z/////rrM7vXTan0XQ4YoI2LW4AB9Q7/////QrD94DrifmcpgQsfBZoFo6UGrADeQqiwA5wYwOugDQgZkk3//NExGkRmb6MANSElGGuGqyu6i4aOn+h5/b///534Qinp5/O2ghlnHyO6ir/////0d//FUiMjU3CRxUaHsdsijYP892GhVxTCdz4yoaRv6BJQSs61y2lI5kvt/Btv/+v//NExHURebqoAMTElP/zH6N09fX0bUcMWJgVEvNImceM1KnzDhiCx+I6zixJUTXn/pZBPByrISqaULb7MFVdA6n1NlRQYmtjbWAH0/lUfoo/n2wz4Mfeyzqv5zncYH/8//NExIIUIaaoAM4OlHfN9fT07n84W6OoZFjmlX4rvZhILZEOtJPWG4icoO1f////1oX+dsJ1B+taCZaMNlB2OqYqXvPDF1uIhigiT0iiYs9B1NtbQGUYlusvgswilGaj//NExIQVYa6oAM4UlFxibu2c4Yf+m7ynsd/+5ZftdfDqrVPNbBQTT3kAGl0wrM1R0nU15tyC1RmC0tYOza2mbo38OtkbWMiUYbBR+7NMJMnVDGsqlL6mQYJNZ0gqBC5x//NExIEa8fqgAM5WmTioJKFhDgPWbgwsyWQiF1Jao2DSF2zrK1bwhdS2o7aaZhgM23cpWdS67K4vFcf/Oz/5o3vC8sKrLnA2OaA8CIaDcFYcjDxdjWHuadUuQLg1ExQo//NExGgdcgKcANZQmf7stX1H9RPVrNo5x6wx5liz4/BXXvbCpoKpnK8jLDqA2cj4JKXFeSNxcVm5shbGBVmpqBtOmQLJOImrx+VqQYNuMTr/T1evS/tlM/X03KVfbFWI//NExEUWwYqgAM4KlHBSFEA+Cox2MahWZ2EjwJAZ36IMnpnHV19hsqXbeAmFfKfZgYACSVGmQG8UDyCFWDIECfBwAsVYuAzAVgCMMZbJ+ki5VY31pIFfelbO7////Zlj//NExD0SiUqsAMvElJ0AhcQiljWhw+G6P/Qq3jfZIRmsyhD5fkcfwY1SydsAgG7MtjgydAa11OcdAnUocCDAaUmh5oSNCPzvTsjf6VWbVXeWOs8sUIX////NMopBQrHc//NExEUScVKkAMYElRnjan+a58QHKlRZIyA5V5aVV4OxfheYhMldcgAuM37AwSFAawkKhCJM5iiqiJq1ZY+gUcQBrTWRt4XhZ2AN3/6GtO3jB5UuAZLW2eI2w5E0Cd6k//NExE4RAMakAM4McEJ4ZF7FFAiLTeJzrpnlHVAoWzNiC6mUERC6Lqr4ZzBzXK9LTy3Lud78MeZcyIru//61/bVZ73Sm9QkfPjOdxAF0DfV5fwPDpdgDJ4vQY6Nfkofc//NExF0R6XqoAMYElbYdWyVlxcSQI5FBsCCg7RHg/FZSHgYG5cOMmjQUtBJk7//9f+mkmzfrUpalJLTUfQC9W6ogSA55AscLJA4aKZ7EnE6Nwi3I9qNKD6w9YAtwEgDk//NExGgSGY6sAU9oAdWw0BBzi3iuEF0GGtP26AZU7lAVHCSeQ4xaD2xO9T33jfSOSu5IaO1hnzufPuW6TCX0n6y/9f///0kNxiVUMxHtbvc7+v5rf/71y954pL7uFe7X//NExHIgSfKMAZnAAIZz5nn+981z///+596/9NURTGruSUCl5DYZQpqJGdIYoRpjAtsx5xk9B4gKUrCA0FAUomCEHXa97uq3L8UzR7HCJALUelkqypYtVB95lju3EI1O//NExEMgodaMAZnAANvG3d1x+n4l0Y33me6mPP/eOr2eF+kwsz9JWxzz/fP/eOGOeOesqSnkEvwtcz72t3uPP/8MZZYzsCdRVvhR/pUVaN65kRqXDpoGVRnLWGYkAkxI//NExBMWaaqMAZloAMS8as7TO76qmyUMh1THmUy1M+OwfQR0cRIF4yL5MJwmwzkqXEUEnNmXJpNMjZ9GymQ/UtExSS//Ul9RkpJJ36jMzFuDQlySLCkyUsZPpcDBUzMQ//NExAwVqdaIAZo4AMQpBxYQgnsApUIFtjhy3L0KJEKQWjVR8wHogEdAfAuOUghw8I4PAKjYRhqbOMbB8KSpB9FNb9Kqzsb/+Njf1t/bb1KigqoZ2f+s1UeCi9iZovlR//NExAgTGdKAAZk4ALPZ0yhWlgodegVONo17HSYfbUei6HOQZ2CEtYeMMMYHkdEUKnsplT58HIjCkx/+yv1NKL+e/yJ39SP8xZ/rFpyn0f/EygAOBXBEYD0hmQ2SUDmC//NExA4UweJwAZk4AB9OGMgZ8gKFadHErZlcFw86GTixpMZSaZqRRUGh00yeYcYyDQ9jP/qX2sc/1f9c926P+qJ9lS+Qo/d3GkQQAf//h+UukHichCS0ZnHUG0//rjf5//NExA4VayKkAY8oAVTXWnVXRHdPpRKIzf09bL/+9v/9V6FudEd0e2R9+ynOynU6kYp48YZjFOYOBpAw4nka92VyHfPMofJUjTEbYWEmUCiRDsMdDQSqx0//69eQn//+//NExAsQwxqkAcIQAf///t9qaf//r+X17e+m79j2VmUGUjyhARkoLOeCIQJIQqmDh3KRQgJjmIcWY6GKwQYggKFAHDGmzv85/6OH/w/2l78pq/n6///0/emhHkp1Tnet//NExBsRuxaoAAhKuXIch0MiIQ7GV4mZVEyh8jVqTFxKRSuQw8sHFnOJncQGOLj0GFMJtOxB0RUWJB/n/+A1zs9rJ31kbQn25P210///61q3dXv02qf6M5pjmdREh2Ii//NExCcR0w6sAUEoAbChlWYxiFFZClIjRFyjmZCjEEUEnCBZXcVllVyWLHGC6hnR/85mflFcvZmYpUX5A4wuRZfym01L/0pNSVP/6GdSS92aZ/+cUEgiZxJHQrkAYpUK//NExDIR0rqkAYIoAYaYyf/nHIAoGOIuFiQ1DjOLJWH9+apAkAwwBojMh9Okkm1DStudVwVhNy9KXEymCUXg44FDh4XK1poDiwAKZ2rUKHstKHlXVLdLIYztUj6pVn/3//NExD0PeJYMAckYANEegJA2BsIz0siCTjIyucmISRKn+iWzM1/vp5mvMy1b2rb5MezHVErFVc2P/+Hqp6qWwo9mPqr9VVXgYFSwNPBaV4KnYMu/5L+GuSU3PAnMj0R0//NExFISobHsAGGGlIneRnjbK9FzCDAYIYDm8V+m7lwgOCHPNK+7uiIEEPEqeEIocE7BBcs/KED/U7PuZieu79F/Wrifya7N/ifgEcFKCNqTkWsjJyRQVpyUnI+cNRYK//NExFoRARH4AGDGcCYBUEKUM5LGYVY2sPDMIh4KgI0IhKsNcNQ1HHiwMuDUq+Is6iRDsY+S1ZLK/3xK5wdVQgCjRdAukVGhkZGEbE4ThacNzYrKnEk0rpUsVGhoupOk//NExGkSKPH0ABmGcNYqcLF1Jwuk0kl4O3/0Vf//p//qiqnQqA1RUoqAwaA4oWFyP////qFqTEFNRTMuMTAwqqqqqqqqqqqqqqqqqqqqqqqqqqqqqqqqqqqqTEFNRTMu//NExHMSIgFkAEpEmDEwMKqqqqqqqqqqqqqqqqqqqqqqqqqqqqqqqqqqqqqqqqqqqqqqqqqqqqqqqqqqqqqqqqqqqqqqqqqqqqqqqqqqqqqqqqqqqqqqqqqqTEFNRTMu//NExH0AAANIAAAAADEwMKqqqqqqqqqqqqqqqqqqqqqqqqqqqqqqqqqqqqqqqqqqqqqqqqqqqqqqqqqqqqqqqqqqqqqqqqqqqqqqqqqqqqqqqqqqqqqqqqqqTEFNRTMu//NExKwAAANIAAAAADEwMKqqqqqqqqqqqqqqqqqqqqqqqqqqqqqqqqqqqqqqqqqqqqqqqqqqqqqqqqqqqqqqqqqqqqqqqqqqqqqqqqqqqqqqqqqqqqqqqqqqTEFNRTMu//NExKwAAANIAAAAADEwMKqqqqqqqqqqqqqqqqqqqqqqqqqqqqqqqqqqqqqqqqqqqqqqqqqqqqqqqqqqqqqqqqqqqqqqqqqqqqqqqqqqqqqqqqqqqqqqqqqqTEFNRTMu//NExKwAAANIAAAAADEwMKqqqqqqqqqqqqqqqqqqqqqqqqqqqqqqqqqqqqqqqqqqqqqqqqqqqqqqqqqqqqqqqqqqqqqqqqqqqqqqqqqqqqqqqqqqqqqqqqqqTEFNRTMu//NExKwAAANIAAAAADEwMKqqqqqqqqqqqqqqqqqqqqqqqqqqqqqqqqqqqqqqqqqqqqqqqqqqqqqqqqqqqqqqqqqqqqqqqqqqqqqqqqqqqqqqqqqqqqqqqqqqTEFNRTMu//NExKwAAANIAAAAADEwMKqqqqqqqqqqqqqqqqqqqqqqqqqqqqqqqqqqqqqqqqqqqqqqqqqqqqqqqqqqqqqqqqqqqqqqqqqqqqqqqqqqqqqqqqqqqqqqqqqqTEFNRTMu//NExKwAAANIAAAAADEwMKqqqqqqqqqqqqqqqqqqqqqqqqqqqqqqqqqqqqqqqqqqqqqqqqqqqqqqqqqqqqqqqqqqqqqqqqqqqqqqqqqqqqqqqqqqqqqqqqqqTEFNRTMu//NExKwAAANIAAAAADEwMKqqqqqqqqqqqqqqqqqqqqqqqqqqqqqqqqqqqqqqqqqqqqqqqqqqqqqqqqqqqqqqqqqqqqqqqqqqqqqqqqqqqqqqqqqqqqqqqqqqTEFNRTMu//NExKwAAANIAAAAADEwMKqqqqqqqqqqqqqqqqqqqqqqqqqqqqqqqqqqqqqqqqqqqqqqqqqqqqqqqqqqqqqqqqqqqqqqqqqqqqqqqqqqqqqqqqqqqqqqqqqqTEFNRTMu//NExKwAAANIAAAAADEwMKqqqqqqqqqqqqqqqqqqqqqqqqqqqqqqqqqqqqqqqqqqqqqqqqqqqqqqqqqqqqqqqqqqqqqqqqqqqqqqqqqqqqqqqqqqqqqqqqqqTEFNRTMu//NExKwAAANIAAAAADEwMKqqqqqqqqqqqqqqqqqqqqqqqqqqqqqqqqqqqqqqqqqqqqqqqqqqqqqqqqqqqqqqqqqqqqqqqqqqqqqqqqqqqqqqqqqqqqqqqqqqTEFNRTMu//NExKwAAANIAAAAADEwMKqqqqqqqqqqqqqqqqqqqqqqqqqqqqqqqqqqqqqqqqqqqqqqqqqqqqqqqqqqqqqqqqqqqqqqqqqqqqqqqqqqqqqqqqqqqqqqqqqqTEFNRTMu//NExKwAAANIAAAAADEwMKqqqqqqqqqqqqqqqqqqqqqqqqqqqqqqqqqqqqqqqqqqqqqqqqqqqqqqqqqqqqqqqqqqqqqqqqqqqqqqqqqqqqqqqqqqqqqqqqqqTEFNRTMu//NExKwAAANIAAAAADEwMKqqqqqqqqqqqqqqqqqqqqqqqqqqqqqqqqqqqqqqqqqqqqqqqqqqqqqqqqqqqqqqqqqqqqqqqqqqqqqqqqqqqqqqqqqqqqqqqqqqTEFNRTMu//NExKwAAANIAAAAADEwMKqqqqqqqqqqqqqqqqqqqqqqqqqqqqqqqqqqqqqqqqqqqqqqqqqqqqqqqqqqqqqqqqqqqqqqqqqqqqqqqqqqqqqqqqqqqqqqqqqqTEFNRTMu//NExKwAAANIAAAAADEwMKqqqqqqqqqqqqqqqqqqqqqqqqqqqqqqqqqqqqqqqqqqqqqqqqqqqqqqqqqqqqqqqqqqqqqqqqqqqqqqqqqqqqqqqqqqqqqqqqqqTEFNRTMu//NExKwAAANIAAAAADEwMKqqqqqqqqqqqqqqqqqqqqqqqqqqqqqqqqqqqqqqqqqqqqqqqqqqqqqqqqqqqqqqqqqqqqqqqqqqqqqqqqqqqqqqqqqqqqqqqqqqTEFNRTMu//NExKwAAANIAAAAADEwMKqqqqqqqqqqqqqqqqqqqqqqqqqqqqqqqqqqqqqqqqqqqqqqqqqqqqqqqqqqqqqqqqqqqqqqqqqqqqqqqqqqqqqqqqqqqqqqqqqqTEFNRTMu//NExKwAAANIAAAAADEwMKqqqqqqqqqqqqqqOpqS07v3bjyUVbPR8tA9WhLD1FRFPNBwQ7k5qzhuscMDaco01GvTdnPuOCoc04WwsThMKYOAtBk3clTDYPXtNrTWszjT//NExKwAAANIAAAAAO09DAY1MNRggDjFuDIYzELWOYpWWfAwwEQsCLELBziHmW+Thpmmo54Dx5T/N739KUv/83v6P37/cBgVjJEw8ePInvf/4gPHkTL8KAgKHEYJgDBM//NExKwAAANIAAAAAJ1QuAcEyeRAFAwT6ogQMZ/5z2CBAgYpAKCRi1yMnQZNGjb3wnP//////+c4e5o251BGjb6iBAgylEEM89/9QhDLRoEDFoxWKyduPW0lINkA1AOQ//NExOsPwEgAAPe8JIylBvAXgUoYJwooSYHMIcS5zBKAGACAmLiSCCA9DybSampq3//a1tf/7WtuWmp1u5Jrahznfy1u42NjaWJAIKSciAQYlppEAkUWkijPav/3mc9H//NExP8o6xnAAMPSvUzlHEkq9VVd5mf/////////Vb5mZ7zM56qZ7VX///9VVdjiSWuaRGpMQU1FMy4xMDCqqqqqqqqqqqqqqqqqqqqqqqqqqqqqqqqqqqqqqqqqqqqq//NExK4gqxnIAHrMvaqqqqqqqqqqqqqqqqqqqqqqqqqqqqqqqqqqqqqqqqqqqqqqqqqqqqqqqqqqqqqqqqqqqqqqqqqqqqqqqqqqqqqqqqqqqqqqqqqqqqqqqqqqqqqq//NExH4AAANIAAAAAKqqqqqqqqqqqqqqqqqqqqqqqqqqqqqqqqqqqqqqqqqqqqqqqqqqqqqqqqqqqqqqqqqqqqqqqqqqqqqqqqqqqqqqqqqqqqqqqqqqqqqqqqqqqqqq//NExAAP4KYwAGJGTCSTh9G4BA7GoSSiBYIJlFUTm3MThnMyJ5ZWUcWAOCU0HwwgLBsABZxfd8PynlHLnDhxZ85/+7/lDn4IADcfSXVuCRBeQCBnWmZBhl3nXCdNp0qR//NExBMRWMJkAM6STMA8NAI+XvVHGJMztyGIWc9LhtLEYXBtMVo2k0nzx7qjs6YUDB9kevS4EP/3GVvu/+cE6p5lQNAwBABiyHG3SCFQIjeCAiYRPRoYFLEWtFiQDAq2//NExCAaIZp0AOPKlCdwT2AsTZoe4H97AVYuhfUYyyJE83mdsKrj27ccd7R4cbcnv1dbHAQUT//76HAACM5UFHBV6Qg76IhDjP//7oXUsPsIKE5NIYqtZkbumKnB+Zuk//NExAoUcaKMANxElBS9awhFgSPuVQ5ZAvyfVTDCY77LAoBYKJHBfIPcRokyOzWYn9RiXm7evs+VgPg1f//5UaY4kW2UXDofSp32////XtqrELgqOscrsACg88bJXkVa//NExAsT+MKgANZeTPpoAGYzAleUjgA4hMC9cjKlbBhwTNgyB0HHJBOcmaQWJ2A03N5m7fPT+sQn+yk+NFAGD4fiAByAYFJMVIf/l/////6n0efjWg0JBfK1XhoQlLEc//NExA4UwZa0AM4Glah6GlbhEWB6e1WCshLECZuEsMLHf+euL6TPVxS1pl6oLi+vyp88MdoHf8n/p58rvx49WBw4dmFAAgiNPNWCAiEjgA7xJ2qWPgAWEaH2RHUFjZJo//NExA4WEaa4AIYMlGs4QK+9uq7YkswiEtvzCaKVjz6ziKtqfF+7lGn+Z3L/3S25Zz9qQxqou/MtEf+o71RadzgMRCFPObDV6f6+U0kW0smDsQOkHxfFFfWGEDg+slQV//NExAgTmZ68AG4MlWhwrpUKQu/XcEEZUnP4YRJYzqc/T7MXh/L/xfaKYf+NKn//KH/9R+1Te+qkhDmqDgitkichHfNv+ty+0sfsWVA72vtb6bVqbplQFUNE1qMwuaKq//NExAwUSbK4AJYQlV/FpAAbF8N2lklEUD7n16sAuJj+31Uya3P/v6aIyPf6soz+Brf8pf8C/tyY+oqDUFAtU/V/917NdpqsOQnko/9ks3JXvdX1i6AiySbKYDuV3x3S//NExA0TYbK0AI4MlK+iJV7LOoiECpUuePcYBgTnMq1M/05r8OwFKL39qN39yKr/81v/eW79jlxGFAoYmZH8s2dq3L75MX/Jpo+w96qVQbYg4BsDDQpNIyPbOP1Uckhh//NExBIRSMKsAJJQTMYEwpdWkwqR1TKVsDUdLQYW3dsq1B0F1grq+Xiogm/XvrevODq8QKBCs+sH4g8+cz4ISCq24RApHV3MZDaziqjASRT5FImU3UUrv87+3tMlmnya//NExB8WKxawAChKuO60d+xEswsMbo6dSNOcogQshLEJOqog88QFBJTkECpsyh5kElFVU6kMKxgiYccooRxzC4fgIiKJjzX4oj/6/o17///6f1///1nWppXXZvslK3Jd//NExBkPuwK8AABEuU1XeUgUjLUOZWY7BQwOLUUglFRzZGCMCYMLHhAQdjGEOYcGsjM0H/91/7v/Q3yZyDy/9f//ZP+37/9G+1dTTO6HPksgadzCpGBOdTEUUO5zAnVB//NExC0Quva4AAhEuYDVlKAlQwFUEolgE5GcxpygIY9fizcJh4V19rf+jtZDlRzKAhxAoqhlQ4pSlo5elpW//8s3v//91oYpSzcvq2XsbVC1KVjGMhnUqGeoUSyKUMbq//NExD0R2oaoAUUQAAaEo87xKMeJX8NqKQKZOCPLdV0zalo6ZdBtv2fxunG6JJzp5LICAaLAONl1iAk3NjAqgawwDdoCgsDdHjRNaC1os0LIQFA4GSDCSi46K+v4N4Bc//NExEgiCypMAZmgAAVDRA06nS7dZByum6bqUpbXS6q/Wt6cgh03NEkk2cvLegkjVUktm9b9BlUEE2es1uijWtl/q/X9k03rTNKy4eXVqhRr+iLTrFHEpL40VIjlugdA//NExBIUsvqoAYYoAVHB2LkHQ6NYFYVLExcCncPBZgYv7XU9Bm6/9W///tSdnuY+NFDD//6nbbI1DqU4sxLCb///I1bLfP4sITJgqC/Jn/mL9XMxy5GpZenFjMZa37/+//NExBIWgxqsAcEoALr+z7ra/tV11RVkUYSIUno3Ijs9yjEUzkCYg4u5ZCiAqNcokNDjCQ0pxNDGOQUDimdlVBwiPEXA52EBjjxxEOMFBR1YYc5Rd/kdz//9////2/////NExAsSuw64AABKue56nZzuzPZnKQ5GIKNNQjqJCAQFHZhxyDFRjGVGUcisiDSDIwxRgiwmPSIiRxAripRrnAsjMpBNFM7q10ElDB7/8evuKv3312eM78EAAEpA2hnO//NExBMTcl64AAhMuc//7Rufs2mIoWY50GnVUCh5cm5NMz/f/P9VVfJxmb1Xc2Pfanqu+HbCQUUhKvEaLzBnbDP+LFGhU0wudnZkGhyAADTf/86RLeu9IopbQjlUSwMs//NExBgR6W6oADDGlNN1N4cwYUTS2PY4u3+a0woklWhlcFRgUOh0BMFSPU/yzA1LSzxmqp+GnxEWAz7/TeZxKWGZrkAeCZIo0KilQy4kngJzBCfrVWqwnLb6wWFu1luM//NExCMQqQKIANMQcKIQQ7MyiYYyo0qseVa3tZJvAz1OWGjxYk1IlJUOfbi6hiNuAlWZhJmxgrDAuBpVmNW5nI2y161uGhi4QTsgXKSDbAWR0ycoBsO64IckcuUSeFt5//NExDMSGMKAAN7yTGWsKS9hcyqY4U8rp/uZn1ZGZ//+8ZWxrlMDHCkqxBcAgTIXip9R8h3Pclz8ZWYw6zoEr7NlVdsOWX2KDUu6e3muvLuc1K+/8dnv3mcAzE0b//////NExD0SeYqgAM5KlP36vxN9vh///////y5HOAngUKYlcCvCPjT7giKP6bfCoQ2OYaCc2WZBw3nf+XA2jvOxesUBpuN7KaJTVVbEp9rzTn+FWflD/7g+yrSXCxOUE4f0//NExEYRyOqwAJYecEtVbQFJAjstmBtBSZ9v7jplrH61g/wXo29nJ+mAHspfiGbiVSIbL8sniY7F+8rW7HMtZ0hnB7of9MdVHbGT8e479HfkzFADMm5ZApEsjWGoif+///NExFERgMK4AJYwTYJ7Bi4v/GZGOwkCQYxtYU1LQP1UjSAoPYgQgBgA578k3/I5/WSE5VjK1oXe4FlDwUY6oROjPJbZ3QNUy6rqHyATE1Z1Csh8D22ODs2u7xrEWS4a//NExF4R2TK4AIYQcd8GrGBYT+5XY8QhOPY3+D5Wv/d2R8+gU/YL8YI+UWoaExTlHaRny/FOYY1L69WbrJ3DD+RM1Ab/n5qLoQxPpjJ8l4b1qKkTE4bNrKpmdliRYoEw//NExGkRqZ60AJ5KlF8UJzQoBs5+VO6Heh3ztUO6ER7JceuUBc7hqsNP/bvUJA6qfqZnU3TNULDLdP/FX2HAhycvjVp2pdh8qp2VifW3aVWuKmZrMQ+gbISE4asL17Tf//NExHURCT6wAMPUcIR6nLREpCjw0FSJ3VnudqR9t0SnhKDVYibSDARVgiUaFGaqkU7S7zhuDGL8qlLk0la/zmOOP6LcTk9YEKow0eFgooSuaok9zxEpdBj3akI263u9//NExIMRqL6AAMYeTF7v26v6dFbutXB2ZExjkzp6xaD0/v6DsLnzItF8PaEIQbqeRcvE4QQUKFwQf0cfyiRMXGPgZAMih+QggDaQNhfxGg55gTBqT4CLg0IDZYYWDEoo//NExI8RIJ48AVgYAG/k+kaFxZubl4ZogJfHaRYpf9TILc3QZisVUy0WCkRMtEV//Xf/pTJbF1JNSM9//6SxgJBYFCZcFsNwAsC4J+WMdhDAJABMLwTATBtc48R/HiXj//NExJ0gOnaAAY+YAMakepkxqtUr009dLV0PxIEouYjB4LhBIUAYJgnLocNCPPLNZ4+X4T+E+bdp3mI5eP0vjla+/ioIRxVgGUlP1/b/rvv4qSNYVNVW0RlGAaXqTSMK//NExG8XcfaUAc9AAFD8yIQtIBYjLges5m0/ydopvT51sLxsUEOJJEnjQ567f2lurK0kUDW/XkqJoaBOC6hHQUJS1p+ODq0rCAeDoyvhVxQ7bqY3lJux3c/bufg5+Yak//NExGQdefagAMvYmfjisv6OGCsZ29zhxX+QnfHNSf/1gbGqdfstqjhAwUNF7FykbD3ZNCoRS0x5lc5D1WVtxTVMoJniETiEQCEDRCMpL4Yto4yHuI0ico+E2rkp5wyo//NExEEUsaLAAMGSld+829q4fYujSc4dAPjJcdhWLd0bDKj3ISyN4upEOYsROW6E+vmk+sxbYff1vnO2T//nzLUaKClhINgMAgqyKMnZ2pziRKigrvP+///1/O+Z7Uz1//NExEESia64AU8wAa7JUWj023wuBSoxvaMEbTGkww0aMALDAAYUSzDh4xcTBQ+mqZAHmlEZMLmChjLk+ZALchZok5TqpXENnKsxVMw5p8o+j+6MHKQY/BarsStT0+d6//NExEkh6cpIAZt4APEgOZ+p5nJFasHEtXC0Smbv3GBGtatdY+/uP91tEiYpY5m6r2O+1611i3rnccbMCoLJ23bVX9zCx4b6/b+8nW5A4kZX648BJjrlZDFo3WcZ5JfY//NExBQXcZKEAZhYAOdMh/Dw64/H4sx/vUb8fYO1GqAWBYHRK0ovVdR0+xvDUTv/6DV7YmianTpq1L//yfDmn80AAkCUt8EEFz4fKCLBX/gRCGJdWSapHWsyUeMLUznj//NExAkTSMZIAZswAFFAEw8lEYqPEpUDIstWHX6ftb0Rs1U8fUqKz3bQzdDKfsDKf/cVQnCIrrDaeqOV2PUmL3Xo69du5TIQnHz1n/QpKf/GKoPMpBYGv4AmFgJ/DbaI//NExA4VYRqgAYloAFXNEI/k0YXxyDCFA3LxLiWjDfUaBVymaCbDBFoFCHl+Ocvu2ZFRkdBXlAwfLnBMDTfD5woGAuFQVCgC/n/Cg5Df//xRCoZSmsDREs/PuxhkZvW2//NExAsQmOKkAclIAJmN35GpxaahmyjK0pRTXohK1SIWE0BNKUIvAJQXdgJoTcJGiYWopjmrwycFc62yPUaFPp2/9v11g3egB8YRqZFfFjG0gCAAZboj1sBAAGIjkZRQ//NExBsRoL6kAHpSTCDZLK9nAdR2gH4I1InSUKgseDRkClhahrJnM62Vm65o0eWshiz0IKBg2TFV/V0d6w29pLV7tt3Q3OHUcIW64+xRMMIRwvrLI+GsypAIYs7Cbg5y//NExCcSKTKsAMPacGEmC1i2JJJBOgS71Nt1aq+qpq680Gg/rD+J3sABZy/+zIr/Y9JrayO6fDCIxmxbBLXbylcpSRgvn2DACCvoJ/ElofgbpLGYlgRjZBEZVaRtMzbQ//NExDEQ0UK8AHvacUdDv30Pat0VoGuUVb2nLNAaOmrW5IOamuNIFovw+5bsejQQSZUIPRGxGouQ4T+etg0xmRH4AltGBZHm+sLqRL5uLdPWCqfVh7//fX6XlAW205Xq//NExEAR4YasAMPElEdA4gHDNt6qpcnJPN8HirtHQD1tTBccYjdJU0PqwD+SydLarWqMLCssR7ho9cAyhnKWIN5pYamTTMD70xa/Aurf/1TLo///lQeC2ubS7r+VjubY//NExEsR2XqQAMvKlc1K9BRu0gEjpiacz+AwIZpePlmFwjEOUk2MnsywoBUtEBcEfRrO02sdmcf4ev4ua4Krf/9nkcv///VjghS3gKprLDTADIzWKNvBh0HMaKzRjEMA//NExFYQwY6AANvElBtCULMQA2rNxQCwju5mW/VrZ4Wqr4Ogtgk1mDkPa2vgqijgVOnvrAR5Qx+LdbwKUBoOJI/9HkUxLIXfA4AIhRg2KzSY/CWgSMICJLY91iowpulW//NExGYScMJsAVtAAILggQQsnV6fEmAmA2CX/uvC9l4EjHYWf/g2BrHmJmThyf/5OIBfLC+p///zBh4GZuShpKH///5mbremty+Xx///lAYABwH1GQDTU0TYpHtHyL3A//NExG8YompgAZpoAKSGNQmAGGgHmAXM9ZOb48Bj5/iJnAlWZnxEhSLIAE9YEt7K/wo0eIMWYlCsdBOk+oF+Wu4tye2cnMAENeKRDiSbev///LlfKntUFSXxCCNf/cf+//NExF8geeaYAZrAAJ939by5F+3K/L1P+/5/7/+5bzz/n4Smpyxhnyzb8u3oV6wA1lDSRyXMrlRABt3IegBTFmurGFFWa0vXdl34OzZ5gPR56poelo7XcpXJiaDuMh2A//NExDASkTK0AdhYAHyEXKDeofX9fH819rew+oNrZdPDWLEKljq66qXJ2TJvCSZSoCZO7VVKhYIzQgjLAph5q2RcN0eqQpBq5axuLTd5Kt+yL4RBYRiI0qqWEv7WBIAk//NExDgQSMqYAMvScE6e/ZItCYMmTNWGYko6FLkCg6ynbDHAWY0E4gBTLENIJpjlhalREVxp7inclGTRdbxKMThr41TM2O2nI8gG7IwChECGDcWHoWg0eg23jLYcNKHG//NExEkYUcaIANvQlBdpN829/x//olJIgWODkBrWhhj5tovM+hXWEnMJpCT7Nm7mEuGlELpTOOJuHmyxYdHWakVchiMHkFXBrYl3yvLu+rON+1P76hRPBUijlcXMeKIM//NExDogQe6MANPemaHcXFDEcN0bbguyABhjjUZCFIqEJLVUyGSL9kbW5rV88Vnfv27V/Hfv4bc87Ai386kJmzxj/XETq9ktO4u6OoUZ5NJl+nh71usgWNWzuDLC6cdj//NExAwT+aasAMISlUDVRu1sHRDvgO7yREvU0/Zq4p/j432ld+4as90yEMoiRdgXFCTSEjKiohRkLK17KE7+/duf+5u3jT03MwpblKKV4zb21usQAg4il1Dx1iUGUcAR//NExA8R8bakAMnQlVReosL4pD8eF+o279H0fVPnfA6/GeoNxPZsAjTCCAo6EghfjPkm/x/qZ8jPk14KBVL5R7jaT+i/ktY238CSaTBjJsDwzO04IHlvYRF3sM6C7Ya8//NExBoR+a6gAMnQlNbR+dsbjXiCjIU8yw5BSJ1umXUaC6Sg6Eaahu+f/+P/9rnxaQEbabooxf//dyn1ZMGd9FoPgKp5n+/JajPT/9Ciitd76EvP3/bSf//pvoRrGWRy//NExCUSMs6wAEiEuRF2/teySfb3clyThBLnIRU54xzo4AShwM4GgAM7OwCcPYZ8AeFG/0/////smUP5///2//2r1/1Uzo1PVLO7z4u9koc7Nd3oUQkEWcUdDK7nEGO5//NExC8ROw64ABBKuZwmUxjCaDzGHjlMNHh0UGMaJiso67B2f///Ddf/9f/////X//7/aiu1d3tVTJ1fPYhyMKMIsKRcaqnIBBhjC40wo4oJi7FsNVSjVIzkcKcReQWI//NExD0R+xawAAhKuY4eDgmJCyoHg8cXCXd3c6X07/1qmz36p/uHMjUVP//z3s+7fWhP13I9LzIZF/6hFzTO0xmKqPKZSuxSqVlUOJKJsBMdyimUSFuhP4NWijWUOTX6//NExEgSAqKwABiEuTuFyFyVzliC9ggMAQBAZ/8pWQ3Vv/RQFcOirHK/EQNBUKgIGgqdOqKhI7EQ8JmSTKCPlQSbOyQUUJZEWPSx3KkSxJAVCYz/6gudMpVFZCxn8drk//NExFMSAMKIAHlKTAtxwnWz7X6Do0Dk3mgGSQMDTjJWCTxV406iQacK3V3km1hfpOOe8hr1nc9O5Y3avilgySXW49F1JTPC4o5KLtNnEgpa50x0iDVs52FPpWXv/Bn6//NExF4SKEIwAVgYALGbOgkZHQIGJQFXm2mghA8w5BAJqdF6fjuC4BwDyEop1vahwsB7oDkH8ZbVO9mdk+UiRDniVmhLjL/vdXVzBFM4XD1Bvd90fU3qXU60lm59EzKa//NExGgfkyo4AZtoAAblNta+3r/U71rUrzBaajQ86B5bus3qLlw+mIlip0FXB165jIaZcKCoucaUZ1BIBBwOMmIY7GBNpDHjvL4GKgbMFvKk2PEiM24yYamR40xGCTIn//NExDwhKkqUAZuYABEdAuAZstk4LMGCAlorAoNaCdFy8TDFAcwnByBvDoKYnJz6KSXSbZM8LhMC2Xi+xIp9m6ZuVFuvWPhZmxg5uamP/dVPTf+om03/+JOuTFjMy+zB//NExAoVKaa4AdhYAUoFLuvSKceKmv1k3Yf/XXBl/8E458HmfK1uc8hTjUTAD5yMlGAIhZNWzm2fD0DjDVRZ/Tjnd09/dPZ1bGN3prulRkige2YvSfkysvJkFkRTYsAX//NExAgTOa7AAJHWlTK6CIdEEL0FIRNSIzZo1fUiZocZoNSb6I6Te3QTwcEyskpHIpJr7Y457iUmffucxktcxm5r39te9kLsNGJPzHDNy77+9f/V1qhempKeeFpN53Gg//NExA4Twcq8AMNSlQU5tY7RKG0Si2oybooN0U9E5n6rBO6KSMCIdCApOgySxokgsVMk++4Ph/cZ/7G9uNTrxvEc5LstxqT3N6NQAu3c//5LxduBoIqzponos0fOlG0g//NExBISYcqwAMnalE24WLdD/Ktzi/QpN0R0aw7gj1nUQ6m9cfii60joyPJqfRLjazB+Yko1zEemo6J6WVZa4cDksH6F3rdZhJuEUMl3fMqWX2P8YO8EfhTdTdC9GfxW//NExBsSAc6wAMlQlb4MN9AnCE2hguEM8lhMIzUKBwFo4gm+ZZfuim43X9DmvGCCc1I5tOCTbonkZeb5MCAQ9jaLkkXWbMCbIYhRYnEQ6/L5v3dfLX/IixlniqWcDQEh//NExCYQOT6kAMlQcOjEPM9q04wWDlLJskyRTf/wA89O1ZBn///10vsSArIO0UzaL+e9e///8IUOwpgZVY+yMyL/9P///S6Lzk27K9e16urk7ed2RdCSUISr2I6iyC/i//NExDgQupq4AECEuXQ/iJO2GEJsAAfPTcQvX/y1hz3//iCgDIUVb//7///p9uXV1sj3TVaOrv5bVrfO7JYzXdbhqRRQyIOCyAlFBXYeYAM5xlGVzughhJMuIX//xLoS//NExEgQQwq4ABBEuX//q/////L///9d+x0Lq5/q1nRkqVVMRHMyoQ4uogERcUZHEBswcHlupUGkEiFLBCFHRFhAeESjzkDo0UFBwmZBE48+f/+X3a5//y//9//y/0////NExFoSgxqwAAhKvdv7u2TajJ9OUtjXGKVGItkFnQTECKIGpKw1YqcGVhQo0SILDREaEjDgcgmLPDwDB8KNCZxIaPaFyCh4jFbSBIgZFazFz5sCsDljX/8gtA/yeL/6//NExGMRwyKsAAhKvKU9f//v96f/07/zejuZzKQVorVLRduqPKGARKEUFDMrytAoruT1qGmOFlJmGUrVMJwA4uUXPAT5hui6MX7duL3pqln5ZDc/ytjfIEJmi6CDJpA1//NExG8QOrawAEhEuSCIUDp32jL3vb5f93dIaniRAcchX+D4WLpeQZVV9UIVADwubYMx6ve0QwKM5vG5+cTe7KVv3PXIco8qS84kexi0BULqkSwzHXTvrt26lcpW2d2z//NExIESiS60AH4McNnuW9PRdr2LcBYxT+dg8WRsVWVe/qrygE2sG7gFzrnBCXoWLcqjgq23Yv4wDF90Evy1I+/Hs9V731r2rjsY2QKOaaEPpHYhO91as7yxjia+SUzU//NExIkSyTbEAF4Ycb9aob7/n5/qt3qHCMwVtvTV+m4X++JS+i+resDVrEiaV+OgVMC3k3oE62Vj1WhX9f09n/L575uQ71C8r7D7NKH7HkygNJJRXeUEpHoymtZQKrHR//NExJATSaLEAF4WlMTGJDzWUDZSaOZPXrfNaKedRWpHNp9R5q3o1hfLFeAL/ORoQvsSjwqR1SmeASIyANFAZUJTxDtORwakfTn68ouWSJVRUbDYVjALKyTHshbO8Wnm//NExJUXAbK4AH4glBW3hvH8R7PEXUNzXbhCq4Q++92u9szZzb7pfGJry21WT7h6/nFzy5C9av+NqmSQnnGMJj3AGW0wwbLnV8S1zbScx7q1xvBUMeCtzWtvMOVWsWJR//NExIwYmbK4AHvelNxkkKUdKOtpXb67Hm1uy6/DFfVoDDWJXGNDjAVBQ1YuqzVVzdSAflCxGgHNHMAAyfxxzC+knTrXMbxled7jbczZt7SpNtw5qrSoPBqHqCUFoq1q//NExHwSySq8AHvYcFWqqu0qKqSoqzzxV2S18laOgqRslVJu4hDGTbCCCawSZQSXKYCnKCQBgQCKy9i8yB0OuFD2NL+OW5qeyBM1h5gJrBVJUOAVgUIKVWYGJ/2hqRrL//NExIMRaSaoAHvQcIZxPq/3VuYEn7OqMIQuYNIlCpbcSMhM9LJAZ547DrduwEVApzmxiRMLWAMOBAxA7xxlw0GQAw5QDHDQNufAz8fXkXSHsnC+Bl1QHMSAORAYQSAw//NExJAR8TJcAVoYAG/1ugaWEbhlgQnE6juJD/u/IQcZACHFU3K//2/IoXydNicLhfOFb///88bqJhjNI0JhnMP////9nUgmeegtRXh1GFSTkdPuKqypZQPyyDC2Y3WS//NExJsiGyJYAZmgATPiOb+Io1PAUpI02i37pGIjUBGMEBDE49b4z2JNJrMkSn+P75zv//X17/NtUxj4173vffzfV72eRNX+Nb3TWaUve98UpTUPeKUiUpTEB5EpSG/v//NExGUh4wqUAcl4AU1l/vFb+HH/183xD3D970zeJeO/3SmqUgZve+qZ8sd+/SCFV3CWCpS5U0lI4bZNjuruwkYylOhlIHhrB4AWFyirB0pClFV5rIiXcnKuXf5q7nnj//NExDAcoxqgAEFQvZqHv+fr2m5tOEGXQ3sZVuXA4aowy7Tt3Q1S9SDDDB1qod2WLdkCxAcGOXZYhlCguQQSXRh81HAuWPFRKCtAaC0jZXV1LFf/+XPwmnh/pU1L3/y///NExBAVUyKkABBQvPr1/6//vn+9rprmG4+ZiOHWtuvg9fbc0emSafMEFqHyO5ZR2wurbjiiLEEmA6OLkXGlaGkCorDlECpIeOQD4sCwwPxMMdU2X/j/B0fMvr/T8/X///NExA0RCxKsAAhKuf/7t///+miX/267VdFRkISzq51ZFEi+RxBGGCgm440YUw0gwROgigwUFQEKw4aUVUWFThk4AqyqD/kRqBWdMTOJMrq5Ndf1QRBykqr6MmT9/+Zv//NExBsRwsKsAAlEuUf/1pXs7bqiunp+r1R3Qy2o6GKzSoBGM5dyo62YylmooErBhR3wwXLbwUFYBiRCC4nXnTeMqrwWUjoqgDCBQzea041yPGfOMDwPQuEBQsJDYQ1H//NExCcRwUaYABpQcJdZqO7rrtIeqfNUNQO2PxLMFhBER2b2sFM8pHTp/9Xr13bxGhSnu7iDr9/GN32KHZ5p8jXkp4GBiSMWVX529eX6Q3vjahtPgiPlx4gogQMIX7vv//NExDMSKaKkAMMMlG7HlIeu2lW2N2zvnnc1sZ2w0993/KX8PmzHHWGmeKfy1lFJ+WCmpjssYUrRpdHNGZlOqnIT2k/al//7wnRIe2rfddLp0ZPtvnef8Yt/mo2FXLYn//NExD0RwUqwAMMMlJw+BDwgMf6EPemuUQMkjOoJEEXZzEOmPW5hJ+/cxfYSTPYSEUsiXeqyVHO1jWZXFN2aCi5UtSCV1p4FJ89D6qSPop6nKS+w81gQz0iT82zTt0RS//NExEkSkUqsAJ4QlJrVbgJqsLwEz6AWDr+jL3U1dhgbvIqWYLzLj5lJVcYqcKEgLRiumtgYBbqUVj06Lak+rqbm73Omy3WaPVviSVcUCzj8nKVOh5X/+4AHWN6JCKFZ//NExFERkUa0AI4acG33GtY8zER2m7qU6VE/rGwr7m8XTov+C4j+G3dntcgh2v8dHS2/T5nKc0XNHwNKPOLPjz1nkEpWInzRMWofbQr/29ANS5naohA07lMB1NWlty13//NExF0SWVqwAMYOlK7bTObRte8X4VErQHxdjgiGrPN6/9u/Q3jV3/opGCFJWtnfDCwfOeIO4nQitRyIDgfq/oug1UvbUNjxbVe6/7HELSJ0mv+iOn/////Zvn//+f/P//NExGYRETasAMPOcP//tn/btv+5/kbrPveMvL3GuHl8+wtADoYQghkatBRhoIWeUjFuleXh0g47oBsLSQPLvrCzDajxBoGgT3iEJkouGs6q9v/xryP/9iVf////d/p1//NExHQYIxasAHhMuff/t//a/25/Jt5hPSbTkrQawmlCeSxFG1mlUS7a0mC6ylwRSm3pRy+kKNUVAzUS70VLA20YSuEjqcCcl1JlQSinA+yoiWe3DxWl5yWRSapRuqkR//NExGYY4w6wABBSufQEWUkFkxSVA0fr/////////l//0laoiXRysYxpjTGMY0xnQwkHnoY0z0KUodLURDpjXUpSlEhZQFDrfGGxRQVCOFeb8U3//IqDVRUIHhVaRqyA//NExFUTCn6wAGhKuW13RuIqYIDGUS41QrzIABLsxInHhhqb8GBhRg4E8sScaLVcN1cQx0lIKuv6qFIMAqGHKLh1a35HBUNEXVVK/UeESbluq705H+t3zytDFoD8yXHT//NExFsVeMpIAVsYANOCKX/KqZdxVFxlfH1Q+k5E17p3/oSZmRnqOPLf35OOnmHgJETc2Omk39/nx3AGG5DAmLFT0wCg/gmlH//6SyK9JvPsD8UlhAPfOt////TIl6x+//NExFgewyqsAYlYAAvQo0PIIoyeOlCxekUf////5zOJ2/3/X+kQhLamT2uUPtvRppmQDMAEweJTJgK2BRyGgsvvvv79o76Yh3a7ueUf5P+Flu2U6qrybsx/rb5bf3nJ//NExDAVgW60Ac0wALIgqt5ssaCsSsOqsEIBZCk6j4K7C0iHToKnhLFg4sJVqIywVQjosZVawNTCZSMRplBiIpvQ7P3FkLSTWFzpZiQiLQN5ndU6ZxIKamWWsdt5cOYR//NExC0UQNaYANYecFBjkMbYqmLg0MLCwGWl7SQml3zDma+o1bLHwVFQEwu9tXSLmrGOo6SMBeYw+r8lQJ6hLKOpKzIgceMYU4KGORRPF+/LzAZhi0sl4gDASaOcutxU//NExC8WyYqkAMZElJhIcpOSp2Xft4Qy1SdcjBigbO5Aghjf/b/23JnCi3YHe8OSzFgJ3//////IVW5HAqzdKiM8G+Xu3E9iJUCUlmGRwZwQnxdpIfL5JWUtOyllAuaP//NExCYSEP68AI4ecIz5RLmPvfhQ4lHz6W2t2ewHlPuLH5AyCCUaviMTC5gir2KVbUdACiEufyoYdpmP5shLoo4SbOGbJgeBrsXpHBTRDiLHk9SMvB+Zv8zz1KTjLHbW//NExDAR4Ra8AG4Ycb33vb62pVauhYq3ckOX0kMWa935XR3dtfSGkAeCAnUSKCGB7e+y6XDwLl6tDYAGAcAcC96KCkei+TNQjYQQEgAwTt8Wqvs1071TPCQ1stscLXR9//NExDsSCUK4AG4QcdlMSxiZX9/8sxWjquyq9I8AmwfHmCUGpMt/qt2ojcBry/O5H3lYsJusWcsYkA6ATJ9RaI7S/+HGxz/0T/8W1/y1rmcucucKiJLufhITiYOgP/9N//NExEURKTK0AG4WcLtavneT7OzwM2GJyHmkqPGWARo/WyVvEdFpbo+aL4mIPkD7R7iVdE6UUWL7Q06y6z/gxrrUrP5i+pZVaZ17Ib9fhgIxWj/qfh1CcW8bE4IEKnMc//NExFMSQY6cAMPElK/DLinmXylQjVKUESXVLJZ2VMhexczzSmW6lRitgOhCEZ9SHRN7PZitZqooDS/0kmRESoCj95LI4aUeRGDjljMRgLkKZOrLUMwcS7zOv2LBqkl8//NExF0Q4LpQAVpgALD7QwAnoA/kkMMRUVGhoI2CmCBgZpWgVj2W6aEJYAoAgAqoJGbCXHB3H2s2HLFwlREiViME08J9MR+e/jiHqPMe5MRLC6iYkiSqH/m5cSWkfQWi//NExGwiEmpUAZloAGJrrRb//eaUEjRNs9UZPqXMgN/tWfWC9PCZVYSVOKtH0HXQUC7Gvv/J2o0rwPZzHmpE/iy6OGeh4I49EVE0/RU48CaMshmSRNZFNTM5QHOQzQvr//NExDYeAnI4AZloADySpxBT2j3Mi4WGxcRSS2U9vKJsSg8DM+klap/7aTojzHmXDcvmRKEa19avq3b8+aGjs3pn155lNOd3QXNlTwDMGg7gqYg6AhiN3FH7KdDCXDgo//NExBEWIuK8AYMoAEfT6MhGyh0vYec7/LdU+yuRtu4sUq+pCHRuKI4cFBp0Do2QQFzuYSS/b7iZAQYc+dR50Do0qFQ7Mdt//4877qpUE5isyIboxfx5mh2Ki5BPQMn8//NExAsUEb6wAdhAAHIRet/eSO7a19+9L/12nrXuWPrhD/iiJ+ihELKBQCgKC5iZE38rx71J7Ejxg5JuIin/46+Ku+Ye8o0t7J3ICLqXxp3/+lX//xggSOzoI2CIF1Ot//NExA0U+ca0AMtQlZxAv4EsnOBPBKnxrZcwLqWs+jzdHTLhKmpmAOAkJ1LBeH4erllN8w32u1ljB8ln03v33H7xNaKtW1HKODyBWXHq1loo9WJU/denC/Ez9SxCWHiV//NExAwRmbKoAMLOlGSfqjjHzzoIITHH7A9P8qIb9rvlJf8bWWoCoQHooiiT0JdTuOtx4u1ShfQbdW/1N463UsAiRpZ3rPU1fqGomZiZsVgIRlMqMJUVHHjEumWl9gcF//NExBgReTJ0AVlAAA+7spjUAwmm7ulrZyU5sdrCTF6kB8HIggUCYAUQnrb//1muJWPKc2BYGWf/hJKhiJZ8WVkXhQSgmJMyBx1RbhgBYB48SB74VALQJ6jU/44QCAWD//NExCUaMyqQAYw4AHYeQeJfiwfJlS5A4kOqab/LjjDRjyyoPOeh3/PdbTGvfSev/+e/9ZjMaaxhouMI//+9889yH88blhuaNlG4rKj44IhKGuv//I+r7//1P//9v/////NExA8RSxqkAcEQAf/+v55G1dlzKmkjLRlAGYlXPFshzhAAhDkGKYgcUzsZjkUEQjuIpQQDAzA0LIMIDBCAJQQMq9Xy/Jf1wLkQP/6X//X/5G///z+p/Wq/bQ6o12Qj//NExBwRExK0AAhKuSMp/OY7B8aJsHJSIdRg4xLnRjEYJtPFhUeLkOZRA10IdnOUSOR0Hy6VCvt1pUqfKy7K8zP/2MgpxhStNmf//7Irf/7I7VZEFs0qPM6G9HarKWqC//NExCoR+p6oABCKuNlvmUpZjCLiIAiuVqGOHWM6lNQPOWAoNFTIlDdPJDeS0YJJoG+cYwwVYsz9q2dmZ/VfRy2gZuHXQQ+SF1MaBQpGhVTXD2UxRN5k+g6ysa4NAcJA//NExDURyL5wAHsGTHcdVVjmO+/r4pUxyjyKbvb6dNXKkm0ygHMFTdd+F3g4DsyMqi+gY1Mhh/k0T8Z5VD56NaoY40TLGfBIBCzyCQbjEkx3+bvT//0rhJe5Mw/7cnaK//NExEAQgSaUAMPQcJ/px/5oOK629JLpEu7zoNiks/8UQbLotDp42pXD3MGRsc5nTtzk6SAxx2s5Jgp4wzMO8ZF0y++vrT9+55VAv0uU+yqUF4ReGP/U1/gBWn+QlqMz//NExFER+Sa0AMYacKXY4FDhVJXqBSLbCwrKl+4iC1D8Gqqig/9LJpO4NlfPPGo03ndDoe+R6vovKroekwfXR+f79+x3Lx1WyyqqbWBIn8Qoieqovb1XWSwOtp0Qtte///NExFwRsZ64AH4OlG4tIeprGZa6rGkoT4AVCgxNGEHPUOIlHaovvSZPvqZ/apFVbJGihhf0n+zx1OqkldZwEMOxcjQ28r4fiKnnnHR0jqWLa+RhCvLlOpkvuF4Uyez7//NExGgRGUK8AG4acdNK1bmfwPuVP9L+drU17m6OT//lKjYUgsGUMw+JIoksKL1K32rsOcBQczYLSFPURQAUqflF9uwZeMz1V4CQ7f1rlOhVB24kmkseL7vynX/urh/5//NExHYR2Vq8AIYElQZdE9f//zKspQIZDBhbuEhBYjeFTZEetLe2pFXrGdBVEU5NAis2Y4EJC17vK4iSuyxumgJOLDUyrapx/1r6+oXz9y2N38MbVj6OTsf//+r2RGYK//NExIESSWq4AG4ElDC3KiStkVUDQnAKfU5ADNr/5kIgCkGixnBGOHPWvuIzAb1vWTwlsZN3+vrZ/eM1f/9ySK2davyR3q/OTcYV4mQjoR+xOnkc+Jm0IBQ6bOxmRUGH//NExIoRqWK4AJYElChPtqpIxWr//IkuErak28hJGq+K/hKw23ER9GXVDuZ7ecrV0HmeBJV4AAV9sB5PdavrEUs+Ab1rIV/zH/bEm8CDc8FSdLulZdiQu5G1YSlA5DKI//NExJYSUU6wAM4KlMAIFYOFqrFZBLwR4mbqW6fbo3HDfFr8Dw1nIZlT5ol91BIIZtbx++Ch9e87+gZ15IHS7gkE35fX7DusHpd1Kv//INkId6ZoFbSJLLmb1hpqjcWv//NExJ8ROa6oAMnMlImbj/o3P6DnUmtDBHbSZDVVWGvEFAgYZSYJ18uQvp56fhlcvNn+43ObEyet7DvsY2t76vfnbpr//EhaIsbpGKDkdNaf18EkP8itt/K35SX+xX96//NExK0RWdagAKHWmLeyRviGm44X3FI7qgkk2tWVjuwUpm6t7ybn7zv/f/zO/yKzKoGyG5+f0mr5KDwVWtf+JUiJI1IcSRClE2giW2tUK4r8HarP4DIUm8H4hJXx3jma//NExLoSofqoAMnWmDauoSucrQn24P2qD+vQ3r2BtmBH5W6P09H0MJW4T8W2IJ8J/JLva0pBKmMYhNaS2C3phoinFgAJAl7rLACaSl7TK2H8dANOxJRUO0i0ReBMZM6l//NExMIS4eKoANLMmed5Od//uf/7rf+y9PX78KSWGf2fM/r3HbUo+flXrb6Kw5q6WFQaj4k/SzzAE45wVdemlY4FJQf22MQNA9dqu2Feg7a9LilAQCCYXey/PP9c//zv//NExMkR8Z6gANPElX/O/O/t/kbnNyN6f5G1IEc+GNm/kP1dbAAJwYmkq2mXEuRqDUq9KImCw+XpbmUjffe6iYEChuXrTL/CIpMFizprAQ3ersrbPGLzpsvp71uITnM5//NExNQTYaKIAOZElF29azqK2XvXcwhn0EGGFo22VCGx58O0X8a4zUAMmdKyds5in3mPvjoYyBnD09XmW4IMGcCCE3k944/Ljz1lY4PAojToJKrGiewwWSvbVI9xhcpq//NExNkSAZqUAN4ElCvpV5BZrDNG7JdxCPGSr47QTYhCjT55CwXBMjFTiAUFCF6AEBUShhSJjVISZi3qvjOSdwUVdcEER+oiNoEzSBXEGLovUV0LDtWZgx2JJQrv/t9C//NExOQayfacANYMmSwxm4dIQyMe1XpBGEIHXym6Ix/lhPD/DEq/8WZ/81cP61VVdQnxlOMsidK0x89kCjmZ45/vaPKDNl0aict8czWr81q0omzTSibLWTf680f27Wc6//NExMsc2gKkANPSmLWr3497keH68MkB4WKJaBDEFTJpsKYBFPj4FihkwleZl7rQ6j/lFtQ5TyqYW4hdFYCSMPMBAe9QfHbGglnfoe3fBo74Pt+V2/B1KbYTDbqSWa9W//NExKoXoeqwAMvYmG536QxF7hAgHsYlSEBp0H3VQGeD0+NRjyo35006z3pdZnzhTd5iMmyiaG66LF4TNOxwcad0xNjRa1kQ35nXmrqVHqbqUkOI0rUOY0qnj/ZNedQr//NExJ4T+ea0AJtWmPBpgC8UCZGCEFwBrFp5eCbjwFucJXUd935vVC/HTtAsN+YAcBM1CxDKtLJCSoJcDfmw4v5Nv4EL4YYfEqWJlUVJM9mH/sOuAXw4w32CzCBmtqZi//NExKETgeqwAJtamKBBrteW5jaXPnS2/PXzvENEflVO+kpdFGTIRNnSz0kx+FrJr/pm+X2iV1WtmI3FygfXUH2CCL/75/9//TV2iBAVLHSp0w5v16n+vZ/9BpjDzkOR//NExKYSed6sAJnQmIYU4fYSEB5hhRYAGSp9QNh9UsSg8oZRHmtQKFHMNNtkB6ZQ2VqhIWQSUcq0UcpuQpJ15XY1u554Qz+E7+Q857SmThCthjoQhDdhj1Mn8pgCjG+I//NExK8RWaKsAMBMlCP9zz/m1fF/9Ktf/zonDt493GmnC2E1HXmVGhCEHUOcQhMMEQToWUxgstRLqMcxir3jm61fv3/E+8xCA+TU9dabDHhMV2y7Wvtx/////zRef67v//NExLwbkqq0AFFSuY6d63a2afP2jWSOUiFkkyBMYFlptbqnu2ZGJ5Wdu21PZszLiaZ/+zy3iX7tt08LVxNK6pgGYi6O9+v7/f8zP3x4r/f++S2lRoN2bc8852ObZXrJ//NExKAQ8dLIAAgQlegyQUdTTKtyijFlqqlomTtPKwirBp0X33eqqclNRHi+ojey9Fagmu/J1tsO0Ws8FoWxAKB+TwsFDkCDkycs+MioRK3v3viv75eymIZr/tH73/9a//NExK8RQnrMAABMuRkVjIe/6b/IZ+lXuzrNRIjQUl6StTP//5H96Kpv3BA8GcxBrQ4MC10F2UJYmSgWMQDVHcj1IuXyOowE3AChJRHsqYyl6hWu2+UP0jJZA67o/XHx//NExL0P8c7EAAAMlV6HyelpW6xnHYc3NUEfOufMiE/dqOLVwmwQFe9Iz9CU3LQtuAf2wXEbyEvKWclK3Zf6B+yogV2ALkxo7RxwSn8G1bTnJTGiPqyQ9N3F1Q05yr+3//NExNAQwYK0AHoMlOr9Rrmmj5avVMhzlnOTgJfy/dYwGmowOEhp3FzgFyQd9AiHBrsZSN3DRUfLFF3hm/bXH9qm+cfqa79gLFlwSUZLKNkpkUsxbR0VVD2dh3FNSzXW//NExOASKYa0AMKWlY999T69zy0zjpueUx2WkbHYqfMoYC/IhUPNeMjAII/FpmbLRGjGKCVTFGydruWKYu993bOv4VP4OpaEhT6qP5Soc5A5VVHbTq7nGIzG7f//W6WO//NExOoVMdKwAMLWlQhCqiSLiDHEIAdzXb2m7mynjx+WJVmPgQdFxRqFQzhtISkMSK0jpkhn+2WThUK+A8YLw7/43XdVzAho8MYQNC0UJCXtd+4j5v32SHdHF4RN+pv0//NExOgUQb6sAMPalP0970jFA8BcwPSklqg8/Qm5QsKEES6msvYBA3sdFNQjFVUZsYgwKxSkEDfT6GuZwPmYbiMalOo4cGM82+Q93Z/lhbVAhCkfgFZBzQEjA00cyGgo//NExOoUAbqQAMvOlTBwocWMq2bGBwwYceA0eQDsB8ERXePH6r176++r6tzVe+vM17BIIiwvGEUrH6Vjg7aOTr/5vmr98UCSYp5pBE+V6OCNrV6J+gd51H4OVmT6lF1S//NExO0Vwb6MANPQlfDqVZwVZS+LEF6nJtYUd4LCdesmETRTuxfmgXIyj/mw9JGW84sz0fw8bNPXFpV0eygzLbzWufmu3+V2frU3adti48n3m+53aTFu4+8DWv8meWnq//NExOkeYeacAMvYmZNAU2bjH+dKjIpemUhXv7dgWR/Vhvn3I/nOJ3J2Ck1KzlUMBnHJ60cBmiTkXiMwGwVDLUUUy7RARbAcWht5ror/9bJEDHr6oWVqqbwd+epCFBku//NExMIaceKsAMPYmex/ClRcKYrtaUqMr6tmvBb9/DXvwT9VEyeAdGUOvMLNR/9yIUlSiDSr1/p6VY5RWyUDi0zXZ9DVz1uKD+aSu9QRXDMgMAdOG/NRuFZZZEKmrnRl//NExKsRINLAAH4YcFrE0vSV2ESYiBXQ6gjOUn6dOpdSo4kHqnzt03ZFcMFi6HIinKWZfv6eQrfyhfrP9KqtpRlDlYLmwPqI+Vye38PpzlV5g8sEwQvP2/Y3PEIlqpSy//NExLkSiaa0AMPKlevf/tTv9nfOvtf///1CvWMfpLwjIkYd06nSewvdxGv25mppw+VFdcuJ2HYaDCRIqbiK1EDAUFCpYiFCHcVS4fHQuKiUgVRoExIJyMPEliilKs2u//NExMESyTKkAMUKcPYILeq1Nte0sbqyiYIdpklb/+Vl//5Y/PwHX/WnMhV8z7XhU/Xq+pbdRRbBYqwToXScjvZrvjKOo7siZMkTMNg2qyLYThtLE6IkzLaYyDhwmaGy//NExMgfoxacAHjSuRakhIyEqWJ4oW0ZORjhlVmijaFdgiQkcFItWwYLwhOKmTzD////7fvn/bvv/y8v3pVtOSXsR68R3NOm7fVHx1GavHq6Np2wuWq2djvvmiLs9OCI//NExJwaex6sAChSvCn5SUJvhqN9InXQPIcuYY+AiDUqA0kqKUv///////////qUpVMZ9W0MZQEpRKMhlaZzFboBPlRSgJdalLN5SlylMYzlKxlMZQESgEBGaGcpcKBC//NExIUSCua4AAgMuZQokM4L0lib/QXfKl+XmSThtiOMx+xpKE9G/+ZjoWLdNTBdcLIBX/QW6YKADI5Fh3f2xwEDG6KXJj9/lYh5EwxOQIcH/TdaZuJQMRcgHUYm4G8A//NExI8R0sqkAUEQATYb+1BkPwOUA0ADsoL2QwAHqIh8/Wj///GeEeCFBkCLh0g6x3hbMt0kVUt9Kp1///kAJybmhOFAiBBz5oOM4hX8X////////9f7///x/96zrGvn//NExJohmypgAZiYAF9Y9K+8eBfG9wqxK0pjtUC7yAqYUzIhjc9nRKSH7iVkmcFe/tEIQrF5uaHqHH+9JwXg33iVVygbFXuW2vfOJ397yYYqVZokZwPeM/ms8iu2Z5dJ//NExGYiKyK0AYF4ASy1v38/eXzumt43/+o3UeFEhz0nzvEtv7uDaxuVGCJeJ4Da///////nqKir3fnu75rGSxbrXiJF9vUCWkDmjxBFQXGi59CQsRUlDtZQVpBhehhy//NExDAUqr7EAcBAAB911UN1x3JrElO8wk1MUNUp2kxI1VRn06boiG2PHJMqxdlN5FcQr3Iv9Pf//58svJ3cbvMeqf52ytNJIFgEg+wtDd9vPwkSJHgF5JJHFwGsPmgm//NExDATWZq8ABBMlYoJvFoCovxdf/MXQg3L5AW0w1zwV0Hc0Vn/l///aqtzPJ8UJhjmza1qZa0yVHOo91IKyp7QQB3/Cf7GV/T0qWUJu7NSDAMHe5Fo3zncKABCFByZ//NExDUSOZasAMIMlMViTXRDNnyWh2vUbQjl6kYqD7Iv9jICsi5olQngVGSdNSYGAJQe5OHgb+Z/SRfrJYcjf8FQ8JKj0yBdv+prEkLuJXH+4oWL/uKHc/6Zhee9Y0wy//NExD8RKY64AJtSlBU1Do18yvSLoCdFteoyHyBgDT+EMH1PPnB3kl6yIN5kSeqiGQyfoqOmILrm24/Bf30UBJU+tIlvqP+sxbqSHcaa0iaSjeY/SLzZ3/////9F//1H//NExE0Sac60AJQalADk16UzKmAOrg5+mEgQe7UCbDF7dZmRNuZk2NKs6kTQZZGLyo/AiLvq4CT+53qVb7fUt5541umQt6lvPIy3b/////+S9AawAKilnR8CGCNb1uAN//NExFYRwdK0AHwUlPBVKren8cmbFX+Gzsk+Kpw5Eqrp6VfnYI8WJyePE4wyffzej59X/tlTAIEwkyh1AYDa//wgMKrabRbqUKTjbS7afFfH85PYJby9l4J0jsK9SLtQ//NExGIQKPK8AGvecLW3p9XJE629XoWcirQlKoxiVp/QyMP3f/////3Y80kAt1f/8TFguv/UlCsU3u15UosAgp87iaJ49BlVOcshCUJYVyS9DC3HaSMuRLVwdSQLqVSE//NExHQR4YK8AMPOlROlUzrCHdwunV5mBRqHb//////mZ0K3/0M4i1XO7BkOnSLDgNoDXAI6ThabmuwOU2FvXqghL1S2ORuCF1SV3ajdoWwV+YahkECwmFQqE02k4rNk//NExH8Rycq0AMPKlEtIiad/T/+oe07QjSqlmnRNVcB0rKGST1xB3rvIYGhAEWhS02TO7hK6Cep4bj09+fbNJGJ9/YJoGmQIvjCwMTBBq+Y4FoosGP2HH/+NDIYEaSko//NExIoQ2MqYANYScCorZ+v8L5jSu7DBYHDHG1Owc4EU002FYqIs6sZG+7aQoUiKMZXNoWCAQ4SCA8VRmyAcQJQHhhnu6/fmR0g8zr8/d1+aZQeBte3+6ucgM0kea0DY//NExJkSgMaQAM4ecJemyOKNiQgqpR2igMRBqaTjwEwLcBsSxlaldXDBq1eu7322kU/Kj8w1DzSlkzyPCtozOSE2TxHfyym6dq8Z5HRoxbK49IZgChJEsS6L7o321zK9//NExKIRkMKkAMvSTX0v7r9zpKdpR65emhjhpTvfDnVAEuxCvjLmT6i3J2PDVI1TCqEudw4E5sU4YyXwWFSr9uohwLiwOIXqRqsh02Ozi++9Sil5yDaK6vBxnaXIAAt7//NExK4c8bakAMYYlRBUkLuwHCdK8WktNyxKpWFNRxLBU9HgDqNowLUBmaoZ/RtfBHRmLoWPqOUV1BabYj1hizbUbbW7EuaosRZ7/ckazqouKk0st7O5DRL2RbXcpyXq//NExI0d+eakAMYYmZ1V3UqgnkVUTsX9XCloe7Pomm9giPy4Kg5SsvZXRMQod82va9JI0Tbc2OCtZJWF0/lhZva9NY1i9MW1HjXrLSWXV9RdhdARjpzK5ysHO3XESXH9//NExGgXqbK4AMPelUNAaHNmgae9CEWAtpouwqlBKrTju1nUyMJyz4Vz+O3P3mqu3m1y0PR6VMPgeQtJLy5LKrXSN1fVc6w0hwraPk5WvHo5MB3CI7YMasJ3n+h60MWY//NExFwb2eKoAMPYmY9s6jasg7dY/XVe1cmbuZsU50S15qhBh2z12FsAh+cLvqRddLVcDTSEHtjkEWLlU4+FlFda7bWYerWt6rYzolCTo4i0GxkuW1Wu22uPbtdr1tqc//NExD8WAaqsAMMYlak5davBZ6vTNct87WZmetae3Nee/LIr5sLtE/wAyEYJ2mEmI0g4W0oUFgrCPJ4y/oFZXEII3HxxCh08Mic5j0XzM3rWmSVmxPHYgkp2GzNO//Ms//NExDoSgaaMANMOlYysd///3VXJlmBIHZEnpP3CnjABpHrBw9WIEJijzU1PIJhbVBNqAON3Hemit0bi9F471hee1v///67hH8QRkWQFFFdHX/7ztun///2RGCQOAEPI//NExEMSKbKMANPKlDWGD4/8aqenrOsAzT1C8gWSzqKoYFoZdlG5yXZ2pyezoew7ekYbW/7V7w0UKA2NDQB1BuC8OB8jzOFaokipoXgigbt6TfT83XE/V/dXLEuMAiKJ//NExE0TqaKgAVhAAZ/lLAQcpO0MJMiEYFOd3K3AQK/i74sFW5FaeVGzR+To/U8om9HsDgzRWx6+jZs8eaeQIRIjrAHFssUY7ddkb1WXxHpFhP09h2rC6bXhdi5yKiRO//NExFEgQeaQAZh4ADASpFoYyt0OQ3CbK22a8lh/s6jnpHgvFlVK2XVrZrKywvbdoERkrHzfcfgi/p+oEF2/XZeVIX0uQzVyuyFhxj+YxSeHW3FTGWXVpHOHGO7cnbUr//NExCMZqda4AY9gAH2ebQ01rbw9WpA5dDG8Ma9KpEZ6bFYCBYXqTt8e+XPx/5iOT1rW0Qx3srymX34bX//5plxdMtbz8Tb9T4Pif1A0/pAa1lGhwluzQovvnKYiPAIl//NExA8WGcq0AdhYAVXFeMn/sVnv3DfNdJLosvrznzHw3lhk5xEN6QPDEdxmkW1BQtuMJa01dSQ8KmtGVy5Da2d3Lrl9RaEJJl51Q3c11H60yoIG9eD11uoVWNAtxxPh//NExAkTQbK0AMNQlc+iYWZZONjNhXFKsLklJ5zJMpPOvptUd1m2YGaMGhEPGBAAqbjzakhvteRh3I9WGlXd38xfaxE19qsL5C0pELN04NBl5flhEWNeLWkhNk4jWQQK//NExA8RibagAMpKlVKCZu3RDLrXJ8sFU8TBGHpF/8zya/ueRNJLAMAQMrAMOlFWqya5dTW1qXR/zc2ZTVDGUo5wp4Uqqyp4QrFhzbEmNmIN4OI3LboYuJqgt3SE/Taf//NExBsR4a6MANvOlZN1KXx10UUmvBif/X9d+C6Z8nqTVnsn/1zUMVD1Vn///9ZpgrUIheNDNixpCrt4Lg4j7TRgBMAqABkgKBpJNtkphhyoTHJQDgZ6Z3W8E3zVxGZ5//NExCYRwaaAANvKlbWYOv//6/EJuctLymdTm6/3rGtkZv//+vVRoAigeFnDV5ctULqTnTzUHx4yYtEbFYUFktR0MZcQpdaYCCIKg+JNaBYsPYuVmLWP/4boaPUls2pW//NExDIRqaZwANIEldHfKxjKxSq3/+Z5UctJi3QMYaE93TJAgKECLhwfQnSIgajYkQRSZyWlWFX7HotdvUuREmKmSjzpIewWKrD1YfTHKimSK1pQ627q1J9essrc/e1K//NExD4Q4E48AVoYAL/7+m12pTzwrUHvTwHwnOeni4npauikeCveSq/H02WWrquq9g3h5GssloIxiz/8sLzQ0HeOw3QNF1TC+7+jYP5UOodoOys6fofRgAmBr//83HWO//NExE0iOyKkAYxYAYDwiWm59oaiwfcwKDxT////r0mf/3uOE+ETFZR7lKPFZz/////PsuXrG583Xzc/+mgcKTg7XKDuLjc2GG/1MrKqdkIU0Y9nk+FmGRiaYJADIods//NExBcRIXasAcIwAKfmBxp7KZ9as8t289qrt9eKear7VVs05EUCimzSg5/BU7948rGYiyl74iz2zrqrMFjgg86CJG0iaavuCkUJeZKSlpgZEQFAGJzVA4fJBlnJ0zkT//NExCURCSqYADJMcHGMMS8tR6q14+vMz/kqfOhuRQoBHn95jd//+o9ZrfRVhmVVILNhuAWlU0NF/AuQDrFRtqw4ylCghwnVC6520kx8UiIVGCpxatEloO5Z/VnnMeYc//NExDMRmLaMANZwTNZd+sRFDwNJ+x1lDkPvrDwYJkEK/KvUMHwHobgB6BTEmAge9iSnhjkBxRaIc6fI76SWnEAyJ7tLrgZmcbd+m1apNf923nr7f4erH////1Y+RyLp//NExD8RsYqcAM5ElCEIcEABGaum1+VVJ4uDTV7y+SaMWsZxEEJVjgfsNJvFo2308SGRFKBrlK6LLEh3X1jLpzPV7Venp8O8cWc455cTN+dhcPyIjEE1U5IUiIAOEECQ//NExEsTYY6wAMYGlZnySusjgCYJwQoCegtPJ9NTYNQj6rVgFIp8qiUnzsu7HS9jonLV78LpirOAAmuj5lfshdQ0zQxDvSeZEZc1s3CoYKELnue7lf/D4JUPD8QdRYbZ//NExFARGY7AAIsGlSs7l1/VtaLzd/eDtOt3+Q5D1flSjrynFR9sIICoCoejtYXaLVa+GZva5Jq5FRU2DQo5wSKxZFe0FcxUhEhYiYGToBxhFOmBVOw61LiERSrcHK1K//NExF4RgUasAVhAATQVDcFPKPg9Gg/MNEWBOiue5MSu4yEJI3FZBMY0hArErDrjwLgQj6zU2qN2ZLoci6mnkhx9SQkJC7y7nWNd9mPKN3YwuSE4CBYeC3p/6X6+eeF4//NExGsgIyKAAZtQASwxw8JJ7gV/7/+3/8WyeYxOZMQwnwWwqpESQpZYkpB+zGhX2KSyi2OwwJdLkztJcq3dy3VUv/1S+buMvznMK1vS8CFqR10drVd4omC4KySSsIp0//NExD0eShqoAZp4AAp+smNR96xTCogWgZoytyjpXw70pDiy/cHN/Hhyzbpp53j9evWtq4xAxXd/bE8NbvDvkyIoHlWWFldH9Kr/y7MqYmlYsZ1qW9UIBHO1l3txyd////NExBYSifKsAdloAP8kSPmnzv1mbdZX1rQDml01QwrxhFPj+Jki1RwLoIp1KYzKf0EvUbs+oiV1qUN7bSv6jXXV6jo3ATuQROxHA0EaO1CcFXoMC/ob9vVTv3s/5ML5//NExB4RMcK0AJqWldiQEJa1w2DoD7XRoaGgJzp3wse+N9/71L/lxqz4eYHpD5Do/jtPyeo6KTAb0W2YvieBWS0+ECPyB287dH+v5x/8JRjCCiayKBACAOgGbXJyNCim//NExCwR8b64AJiSlJtis24iT9zyqqG5VVl1dV5qTVT6NSwXQLNRZFnxnAbMCNjQ8Yg3TAJiJYGwEVcDDN17D+/kX/8knv1nh4ShDSBc0fLRNCHrQQSM20UVIJra+5VH//NExDcSObbAAIDSleXUr3yyP237FeK8hQJNa9b7LP/8hwjLcr04hPEkrpos3DGNQjGz5Msupz57dU1d/21bqkjUVCQEaimcEt7MLzdJkB22nGQhLf5e5ES3jIX3aEuT//NExEESAa68AMHMlUvljVL6Zdv/+oMjLMv19EEMA2P0p5mqDjw5tRd1flPbqlfycj4LncIBqtqglna3ggG11AHCc/gn18nneg2vKN3Ju1vJLNb5UPFyE5KVy/tKieVk//NExEwRWcK4AMnWlE9SuiZkSzrOW1CmeUAidlBb1Gez9253kfFvUIf4B4mPZIeSHqJD3R+mBi5suH5t7zP+DL9xz80tnJBLe0yd6Jz9LNr//ZBFFjsofcAmDIWcrsVJ//NExFkSKeawAMnWmOgRPoNjG0P53VurGdbGemfWakIOAJgGugYmYQAxqyBhwUbtm5seWt72Wx3zLo52k8/erzs29er+/KyVUe9jcNTUGHEPfw+nCayuAc3LluUfo3X0//NExGMRkba0AMHMlV/o+zHU16BIE5MUcVABPcdohxqOJyCUrDZ3fUXXc1f26/aaxntBbc01YolX7EsYCMbsjNZs+Csag6QMOtdyqAYzmVRoGOFVz9YX/+0bqj1Gx5pQ//NExG8R+caoAMnWlKg9EwjgEkkKiSisSBaXFQuGpE5WV6f831qx2OkY8SNArzJo7ptNMWGAFAumCAxEaMQnJh6LqtIEw3joH8tKbJR9u2on3c6zX/NNR6tYwUYwUbF0//NExHoSKb6IAMjOlQaw64er9y76grrLX0UENJDDBRCsKMORXWisEwNLn5qXeZ2quWOOf1auN4FxU6oXxas0dFBzUuuSu82hiaVrK3JeVYalqVPZ4v6eKf2fbUHDKoTp//NExIQPaPpEANLEcOymMr0Kv/7YQAYB/4cQMZ30FpieRRgbs9Pgvg3UFsEof+P5JkuDeQLFP3UyC3EZCaBqsPALLJj+/2FTEKEsFwAxoeuKR/63T+www+QNDE6EXDAA//NExJkQ2G4wAVgIALCIJjV//3/47hOg5QggYi4BzCCB84zZPiUP////8gInckCwQQ2IoxBCKFRiHjjqAHelC1rf/d//Pl5LP/////TX9Tr/wqvLz8zpGYjeEW3i7EJQ//NExKgg0yqAAZiAAKvaYmu+0VxmjbjNhyypxY6w0sHqNrhI8kIMJHilY0ZMiJSJEHGTU9dAkUIyEnCJPKSEVINVGY80KkiJk89lGQyYST1+Em2oyl+uiISIshcdW5yH//NExHcf8x64AYJIAI/0RMme+Xt9LltM/ycPlWRPq2G7X//+/7+XvuumnqJZsKk0r1AQtTGg+XSWMMsJbSdn8OkZYG1Rw1C3rq25JZJDSHJomjzLigDow2khM4JVWHqP//NExEogau6gAcNIAdRiNkliRF1pWhDBEkWZD7a9tz8GDZh4m2MsQxb65qkIfdCI4jskWKQJ2blBZrUMZYq/7NCby1TNxqRchfk3Vle3tLJqNr/0T+vbV/LWrLkWospR//NExBsXil6oAHlQucBjh0RAZzKKitd3AszDyQWuCkPuZaLri7xbZqNNHji1pb62uo1+a2H1c161DLbSvx+v0Uce9p5IZiCmv3Lx/H/+sf4q7M4KKhaON1qCDXYMG1DL//NExA8V2cKYANKSldAstqOgGp7kQXBU3FtO7bn/89/1UtvIwl5pNvaDZTtuBBqJAAgcFxCC4AwKDKYbJ0WOpy+r+d1Dw1SCSTLd5rnplxkNJgR8RlXeVV9g5ATCiu2e//NExAoTQaqoAMnSlYZ4jVZzpHDLH4JcmLdRuR7dDf6vH+GV/CMv12kU0AoFYZvRWRilQUFxQ0XI0MNm3KX86l/DfDYbFhAnCLVQKuU272T+5xAE7O9XmFZyjuXY0C5G//NExBARqZ6sAMnQlfnjgHEtxJapF8z0/6/S/mP7S71DoWuRED4RxQPQbAqQOBUY0vR1vDrFMtJKFPdHR0h3v5dy1uLvK6OhnUqcZM/MVcManba0FXWp0NA8WMyXHixg//NExBwSea6kAMtQlUgPVKs4/S//lftfnv6j4GhzISEig0sgFYSigNHEU6FKbumrjW+5uJxOcOhYyvf9ZCLAPVJ46FYqCz9CzMJNFsyYCRJPG4tNHBEG41ccHSJjP/////NExCUSkaqkAMHQlP///mfUkQbFyxBBcKg1cOQ3YiityOJqLi4uOYeIOlpQ9kWvYoVV/tII4pZWfQodqxMVHA0T3fJWPEcA00waDKDgtGxp5R3f///Pfx/UcXcC8h+x//NExC0R4aqoAMnQlOGQWCNIOConPMGwXazcW/EevkQxJZotQ8Lehf94BAN7Imper2UCEKIUDSBkEicIxyeLkccJFDCxhi////v79/zfdTQUyjExKjEwXD4LniMhFLZ5//NExDgSmZ6sAMHSlJtJLb2Xz5KrhW25VZcJB8VfuUr9qOJxVmjlAaGuHVh16FHYFriyoEBZxMVKEB6I6Kj///+vt/b+KTNr42hNCJGyhOKEAqISrmoTfC82ty9yObLc//NExEASGaqsAMFSlYzziKDuP310td3BwkDWiVLTXTZg/K+y7TUnLkymAqGkCwyTSSjjYa5////+Zvd7x58awlAlBIlZE1iRIUkXm1uS/lm3vnfPW+cc1zl9V6FKf9kZ//NExEoRmaaoAMIMlBPzAAE8A8UzoyQkuu0kebsuL0MjfGKRqDI/OY35imhdaYBEHMy/bY8QOEEHOMVSuipmQzUS7FKhjf//8pSujKDKhvN2MKUQKsGQHwo/mQng7GGU//NExFYRsaaIAVoQAZCCjI309MPRTDjkysSYK8Jn4K3QrA0djY6XA1APxCys0HcOJnrFtLaB41skiUCdTikxOYxoeubD5ARiziJL6qysXDMujnk+iypiMa35mfQruXlt//NExGIg+lZsAZuAAPUqvexfFkD+J3GAQMrpzET0G3ESLxsv1v/VIoTjW/lIiSVE0vUEuTkhjjXTnqDsLTSphxmAIZnXBlj4CTBxESDTsy5bN20c+BXeYa05cLzjqUSW//NExDEdIhJgAdpoATx+ySJdNjUmDvEED6FuC4hzRghwjcRiOePooqWgndndFIumxqbGpuWoJtb//9TObGpHNC+ZFalrOLQWpev/epA3PFq1T/MQQBnG1qYHx1om0KnI//NExA8UWZpoAMpElFkgK0BQxpEt8yGEIgGAceCpIGhkcFQKoCWD4w/vIy1C4iB0gFwNEJQUFY1t9KypVDlMccSh///1zoUwCIxj//MhIkpHklEGizUZIGDlAMp8eYMc//NExBAViZYsAMpGlKVaXWV9AL80pKAw9KS0lRSoGkaJEmSwRS8ZTQxwibIWSF0gw4UTBRMxhVZlMuk3gIUYCdSh/987+UNQziaJERUj/4sea8jVKgfpwVEBKZROH7i0//NExAwUIQIAAGJGcLBVRAkygT5koVW+yZ8FeZEMtQEvLjY0J18ET8zcORFQoqhQmEKG3iwDFxo42o+1Q5KVNLAK1BGEqK7x/oQuhSbeKuvYlREJlQCiXkJKyVJUKLmw//NExA4RSQHoAEmGcHAKNmTiWtWN2rrAIjVYzMGX4wZj/ZvhhTDUNe+WeRErwaKxNLYifEujWdqPflQ1WCoa2/+Hag6qnJiiQRj6Bic6IRIOmwOPITRCT08PJsQiwgBR//NExBsQaM3kAEmGcHvCyTRQOHECcQLf84HygRDHWBHA+QuZ+JyBd8h+XHn2Lu6P7fYcXSSOQrFAdhgOzVXzh6a1Mk0BKInikLDbkyjKqhr45IjE4ZIndEqgI5GTQpKH//NExCwa0gX0AGJGmdOTmdiKoihDHLmR3iAyHhhyrpXkJ6w42rRzQOhrmX2PKiLDqDMeYZYf7ekepIi9xWrT1qwO3ef/or8/cGIed1VDKAl6ALdAI5DZvVRJr0BWNQYl//NExBMScUncABDGlGCvDCoBHGNQEoeokualSjMfxm8woCYaAoaDqw0DRY8DSYKh0SrDQckgakgaw2uSVqfkSssV16lMQU1FMy4xMDBVVVVVVVVVVVVVVVVVTEFNRTMu//NExBwAAANIAAAAADEwMFVVVVVVVVVVVVVVVVVVVVVVVVVVVVVVVVVVVVVVVVVVVVVVVVVVVVVVVVVVVVVVVVVVVVVVVVVVVVVVVVVVVVVVVVVVVVVVVVVVTEFNRTMu//NExG8AAANIAAAAADEwMFVVVVVVVVVVVVVVVVVVVVVVVVVVVVVVVVVVVVVVVVVVVVVVVVVVVVVVVVVVVVVVVVVVVVVVVVVVVVVVVVVVVVVVVVVVVVVVVVVVTEFNRTMu//NExKwAAANIAAAAADEwMFVVVVVVVVVVVVVVVVVVVVVVVVVVVVVVVVVVVVVVVVVVVVVVVVVVVVVVVVVVVVVVVVVVVVVVVVVVVVVVVVVVVVVVVVVVVVVVVVVVTEFNRTMu//NExKwAAANIAAAAADEwMFVVVVVVVVVVVVVVVVVVVVVVVVVVVVVVVVVVVVVVVVVVVVVVVVVVVVVVVVVVVVVVVVVVVVVVVVVVVVVVVVVVVVVVVVVVVVVVVVVVTEFNRTMu//NExKwAAANIAAAAADEwMFVVVVVVVVVVVVVVVVVVVVVVVVVVVVVVVVVVVVVVVVVVVVVVVVVVVVVVVVVVVVVVVVVVVVVVVVVVVVVVVVVVVVVVVVVVVVVVVVVVTEFNRTMu//NExKwAAANIAAAAADEwMFVVVVVVVVVVVVVVVVVVVVVVVVVVVVVVVVVVVVVVVVVVVVVVVVVVVVVVVVVVVVVVVVVVVVVVVVVVVVVVVVVVVVVVVVVVVVVVVVVVTEFNRTMu//NExKwAAANIAAAAADEwMFVVVVVVVVVVVVVVVVVVVVVVVVVVVVVVVVVVVVVVVVVVVVVVVVVVVVVVVVVVVVVVVVVVVVVVVVVVVVVVVVVVVVVVVVVVVVVVVVVVTEFNRTMu//NExKwAAANIAAAAADEwMFVVVVVVVVVVVVVVVVVVVVVVVVVVVVVVVVVVVVVVVVVVVVVVVVVVVVVVVVVVVVVVVVVVVVVVVVVVVVVVVVVVVVVVVVVVVVVVVVVVTEFNRTMu//NExKwAAANIAAAAADEwMFVVVVVVVVVVVVVVVVVVVVVVVVVVVVVVVVVVVVVVVVVVVVVVVVVVVVVVVVVVVVVVVVVVVVVVVVVVVVVVVVVVVVVVVVVVVVVVVVVVTEFNRTMu//NExKwAAANIAAAAADEwMFVVVVVVVVVVVVVVVVVVVVVVVVVVVVVVVVVVVVVVVVVVVVVVVVVVVVVVVVVVVVVVVVVVVVVVVVVVVVVVVVVVVVVVVVVVVVVVVVVVTEFNRTMu//NExKwAAANIAAAAADEwMFVVVVVVVVVVVVVVVVVVVVVVVVVVVVVVVVVVVVVVVVVVVVVVVVVVVVVVVVVVVVVVVVVVVVVVVVVVVVVVVVVVVVVVVVVVVVVVVVVVTEFNRTMu//NExKwAAANIAAAAADEwMFVVVVVVVVVVVVVVVVVVVVVVVVVVVVVVVVVVVVVVVVVVVVVVVVVVVVVVVVVVVVVVVVVVVVVVVVVVVVVVVVVVVVVVVVVVVVVVVVVVTEFNRTMu//NExKwAAANIAAAAADEwMFVVVVVVVVVVVVVVVVVVVVVVVVVVVVVVVVVVVVVVVVVVVVVVVVVVVVVVVVVVVVVVVVVVVVVVVVVVVVVVVVVVVVVVVVVVVVVVVVVVTEFNRTMu//NExKwAAANIAAAAADEwMFVVVVVVVVVVVVVVVVVVVVVVVVVVVVVVVVVVVVVVVVVVVVVVVVVVVVVVVVVVVVVVVVVVVVVVVVVVVVVVVVVVVVVVVVVVVVVVVVVVTEFNRTMu//NExKwAAANIAAAAADEwMFVVVVVVVVVVVVVVVVVVVVVVVVVVVVVVVVVVVVVVVVVVVVVVVVVVVVVVVVVVVVVVVVVVVVVVVVVVVVVVVVVVVVVVVVVVVVVVVVVVTEFNRTMu//NExKwAAANIAAAAADEwMFVVVVVVVVVVVVVVVVVVVVVVVVVVVVVVVVVVVVVVVVVVVVVVVVVVVVVVVVVVVVVVVVVVVVVVVVVVVVVVVVVVVVVVVVVVVVVVVVVVTEFNRTMu//NExKwAAANIAAAAADEwMFVVVVVVVVVVVVVVVVVVVVVVVVVVVVVVVVVVVVVVVVVVVVVVVVVVVVVVVVVVVVVVVVVVVVVVVVVVVVVVVVVVVVVVVVVVVVVVVVVVTEFNRTMu//NExKwAAANIAAAAADEwMFVVVVVVVVVVVVVVVVVVVVVVVVVVVVVVVVVVVVVVVVVVVVVVVVVVVVVVVVVVVVVVVVVVVVVVVVVVVVVVVVVVVVVVVVVVVVVVVVVVTEFNRTMu//NExKwAAANIAAAAADEwMFVVVVVVVVVVVVVVVVVVVVVVVVVVVVVVVVVVVVVVVVVVVVVVVVVVVVVVVVVVVVVVVVVVVVVVVVVVVVVVVVVVVVVVVVVVVVVVVVVVTEFNRTMu//NExKwAAANIAAAAADEwMFVVVVVVVVVVVVVVVVVVVVVVVVVVVVVVVVVVVVVVVVVVVVVVVVVVVVVVVVVVVVVVVVVVVVVVVVVVVVVVVVVVVVVVVVVVVVVVVVVVTEFNRTMu//NExKwAAANIAAAAADEwMFVVVVVVVVVVVVVVVVVVVVVVVVVVVVVVVVVVVVVVVVVVVVVVVVVVVVVVVVVVVVVVVVVVVVVVVVVVVVVVVVVVVVVVVVVVVVVVVVVVTEFNRTMu//NExKwAAANIAAAAADEwMFVVVVVVVVVVVVVVVVVVVVVVVVVVVVVVVVVVVVVVVVVVVVVVVVVVVVVVVVVVVVVVVVVVVVVVVVVVVVVVVVVVVVVVVVVVVVVVVVVVTEFNRTMu//NExKwAAANIAAAAADEwMFVVVVVVVVVVVVVVVVVVVVVVVVVVVVVVVVVVVVVVVVVVVVVVVVVVVVVVVVVVVVVVVVVVVVVVVVVVVVVVVVVVVVVVVVVVVVVVVVVVTEFNRTMu//NExKwAAANIAAAAADEwMFVVVVVVVVVVVVVVVVVVVVVVVVVVVVVVVVVVVVVVVVVVVVVVVVVVVVVVVVVVVVVVVVVVVVVVVVVVVVVVVVVVVVVVVVVVVVVVVVVVTEFNRTMu//NExKwAAANIAAAAADEwMFVVVVVVVVVVVVVVVVVVVVVVVVVVVVVVVVVVVVVVVVVVVVVVVVVVVVVVVVVVVVVVVVVVVVVVVVVVVVVVVVVVVVVVVVVVVVVVVVVVTEFNRTMu//NExKwAAANIAAAAADEwMFVVVVVVVVVVVVVVVVVVVVVVVVVVVVVVVVVVVVVVVVVVVVVVVVVVVVVVVVVVVVVVVVVVVVVVVVVVVVVVVVVVVVVVVVVVVVVVVVVVZmjsNMM7//NExKwAAANIAAAAAFAUJAp25qXqro/puF6Ej1fugqR+QchwhHzKEMTpc1WpDLSBkHel05Fxl5LHgQYTpPxkPfKCr9Xrx0N50L6jbGSKn3JWRlZFZ9sQLHn7D0gfsbpi//NExKwAAANIAAAAAADrACJNA8mUAAMLEIFIOTWCIk6vYjLadtodOMZ0CawRRPYgogWFlIPen6Zl1nxv9/iU7toy0zFAmE9iHJ0TZCPwiz5ZGjAEwqEUSyg05K1+l2s+//NExKwAAANIAAAAAH5iCgyyWKNOuSNyUMcSgAMPYtjQjYyXJx1HI7cfi7aIz06SuLpOl7t4jJKpZWpo+hUmTa71sF4tE7G2Ti0Esyu6INaPfKqwk5c1c8pZFt7dnhKW//NExP8nat2wAMPMuW3y25uG5WmxrWk8skbnbK75Us+//5stnp8dkjbnK3vCQ3G1KH/CZTTgliWQFhpQLOWqu5kLZXce6Ky6Wv86LdhMEssI0So9JQ8kEqH6h+J49Oi8//NExLQiAtHUAMMMuZ1j9L88tZgbpfNpf623NtDBT+tVlDAwaDkZMFDAg6GRqwUKCdDIyZrLLKRNZZZaRkasFBAnIyNWCg0cjI1ZqjlkarLPs8v7LI5GRqwOo5GTKGBR//NExH8gavlsAMMGuRZYrUxBTUUzLjEwMFVVVVVVVVVVVVVVVVVVVVVVVVVVVVVVVVVVVVVVVVVVVVVVVVVVVVVVVVVVVVVVVVVVVVVVVVVVVVVVVVVVVVVVVVVVVVVV\" type=\"audio/x-wav\" />\n",
              "                    Your browser does not support the audio element.\n",
              "                </audio>\n",
              "              "
            ],
            "text/plain": [
              "<IPython.lib.display.Audio object>"
            ]
          },
          "metadata": {},
          "execution_count": 49
        }
      ]
    }
  ],
  "metadata": {
    "accelerator": "GPU",
    "colab": {
      "name": "summarization.ipynb",
      "provenance": [],
      "collapsed_sections": []
    },
    "kernelspec": {
      "display_name": "Python 3",
      "language": "python",
      "name": "python3"
    },
    "language_info": {
      "codemirror_mode": {
        "name": "ipython",
        "version": 3
      },
      "file_extension": ".py",
      "mimetype": "text/x-python",
      "name": "python",
      "nbconvert_exporter": "python",
      "pygments_lexer": "ipython3",
      "version": "3.8.8"
    }
  },
  "nbformat": 4,
  "nbformat_minor": 5
}