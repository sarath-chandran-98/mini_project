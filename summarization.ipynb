{
 "cells": [
  {
   "cell_type": "code",
   "execution_count": 2,
   "id": "36de2c56",
   "metadata": {},
   "outputs": [
    {
     "name": "stdout",
     "output_type": "stream",
     "text": [
      "Requirement already satisfied: spacy in c:\\users\\sarath\\anaconda3\\lib\\site-packages (3.2.1)\n",
      "Requirement already satisfied: pydantic!=1.8,!=1.8.1,<1.9.0,>=1.7.4 in c:\\users\\sarath\\anaconda3\\lib\\site-packages (from spacy) (1.8.2)\n",
      "Requirement already satisfied: pathy>=0.3.5 in c:\\users\\sarath\\anaconda3\\lib\\site-packages (from spacy) (0.6.1)\n",
      "Requirement already satisfied: requests<3.0.0,>=2.13.0 in c:\\users\\sarath\\anaconda3\\lib\\site-packages (from spacy) (2.25.1)\n",
      "Requirement already satisfied: srsly<3.0.0,>=2.4.1 in c:\\users\\sarath\\anaconda3\\lib\\site-packages (from spacy) (2.4.2)\n",
      "Requirement already satisfied: tqdm<5.0.0,>=4.38.0 in c:\\users\\sarath\\anaconda3\\lib\\site-packages (from spacy) (4.59.0)\n",
      "Requirement already satisfied: typer<0.5.0,>=0.3.0 in c:\\users\\sarath\\anaconda3\\lib\\site-packages (from spacy) (0.4.0)\n",
      "Requirement already satisfied: blis<0.8.0,>=0.4.0 in c:\\users\\sarath\\anaconda3\\lib\\site-packages (from spacy) (0.7.5)\n",
      "Requirement already satisfied: preshed<3.1.0,>=3.0.2 in c:\\users\\sarath\\anaconda3\\lib\\site-packages (from spacy) (3.0.6)\n",
      "Requirement already satisfied: langcodes<4.0.0,>=3.2.0 in c:\\users\\sarath\\anaconda3\\lib\\site-packages (from spacy) (3.3.0)\n",
      "Requirement already satisfied: setuptools in c:\\users\\sarath\\anaconda3\\lib\\site-packages (from spacy) (52.0.0.post20210125)\n",
      "Requirement already satisfied: wasabi<1.1.0,>=0.8.1 in c:\\users\\sarath\\anaconda3\\lib\\site-packages (from spacy) (0.9.0)\n",
      "Requirement already satisfied: numpy>=1.15.0 in c:\\users\\sarath\\anaconda3\\lib\\site-packages (from spacy) (1.20.1)\n",
      "Requirement already satisfied: murmurhash<1.1.0,>=0.28.0 in c:\\users\\sarath\\anaconda3\\lib\\site-packages (from spacy) (1.0.6)\n",
      "Requirement already satisfied: spacy-loggers<2.0.0,>=1.0.0 in c:\\users\\sarath\\anaconda3\\lib\\site-packages (from spacy) (1.0.1)\n",
      "Requirement already satisfied: spacy-legacy<3.1.0,>=3.0.8 in c:\\users\\sarath\\anaconda3\\lib\\site-packages (from spacy) (3.0.8)\n",
      "Requirement already satisfied: thinc<8.1.0,>=8.0.12 in c:\\users\\sarath\\anaconda3\\lib\\site-packages (from spacy) (8.0.13)\n",
      "Requirement already satisfied: catalogue<2.1.0,>=2.0.6 in c:\\users\\sarath\\anaconda3\\lib\\site-packages (from spacy) (2.0.6)\n",
      "Requirement already satisfied: jinja2 in c:\\users\\sarath\\anaconda3\\lib\\site-packages (from spacy) (2.11.3)\n",
      "Requirement already satisfied: packaging>=20.0 in c:\\users\\sarath\\anaconda3\\lib\\site-packages (from spacy) (20.9)\n",
      "Requirement already satisfied: cymem<2.1.0,>=2.0.2 in c:\\users\\sarath\\anaconda3\\lib\\site-packages (from spacy) (2.0.6)\n",
      "Requirement already satisfied: pyparsing>=2.0.2 in c:\\users\\sarath\\anaconda3\\lib\\site-packages (from packaging>=20.0->spacy) (2.4.7)\n",
      "Requirement already satisfied: smart-open<6.0.0,>=5.0.0 in c:\\users\\sarath\\anaconda3\\lib\\site-packages (from pathy>=0.3.5->spacy) (5.2.1)\n",
      "Requirement already satisfied: typing-extensions>=3.7.4.3 in c:\\users\\sarath\\anaconda3\\lib\\site-packages (from pydantic!=1.8,!=1.8.1,<1.9.0,>=1.7.4->spacy) (3.7.4.3)\n",
      "Requirement already satisfied: idna<3,>=2.5 in c:\\users\\sarath\\anaconda3\\lib\\site-packages (from requests<3.0.0,>=2.13.0->spacy) (2.10)\n",
      "Requirement already satisfied: chardet<5,>=3.0.2 in c:\\users\\sarath\\anaconda3\\lib\\site-packages (from requests<3.0.0,>=2.13.0->spacy) (4.0.0)\n",
      "Requirement already satisfied: certifi>=2017.4.17 in c:\\users\\sarath\\anaconda3\\lib\\site-packages (from requests<3.0.0,>=2.13.0->spacy) (2020.12.5)\n",
      "Requirement already satisfied: urllib3<1.27,>=1.21.1 in c:\\users\\sarath\\anaconda3\\lib\\site-packages (from requests<3.0.0,>=2.13.0->spacy) (1.26.4)\n",
      "Requirement already satisfied: click<9.0.0,>=7.1.1 in c:\\users\\sarath\\anaconda3\\lib\\site-packages (from typer<0.5.0,>=0.3.0->spacy) (7.1.2)\n",
      "Requirement already satisfied: MarkupSafe>=0.23 in c:\\users\\sarath\\anaconda3\\lib\\site-packages (from jinja2->spacy) (1.1.1)\n",
      "Collecting en-core-web-sm==3.2.0\n",
      "  Downloading https://github.com/explosion/spacy-models/releases/download/en_core_web_sm-3.2.0/en_core_web_sm-3.2.0-py3-none-any.whl (13.9 MB)\n",
      "Requirement already satisfied: spacy<3.3.0,>=3.2.0 in c:\\users\\sarath\\anaconda3\\lib\\site-packages (from en-core-web-sm==3.2.0) (3.2.1)\n",
      "Requirement already satisfied: murmurhash<1.1.0,>=0.28.0 in c:\\users\\sarath\\anaconda3\\lib\\site-packages (from spacy<3.3.0,>=3.2.0->en-core-web-sm==3.2.0) (1.0.6)\n",
      "Requirement already satisfied: wasabi<1.1.0,>=0.8.1 in c:\\users\\sarath\\anaconda3\\lib\\site-packages (from spacy<3.3.0,>=3.2.0->en-core-web-sm==3.2.0) (0.9.0)\n",
      "Requirement already satisfied: spacy-legacy<3.1.0,>=3.0.8 in c:\\users\\sarath\\anaconda3\\lib\\site-packages (from spacy<3.3.0,>=3.2.0->en-core-web-sm==3.2.0) (3.0.8)\n",
      "Requirement already satisfied: srsly<3.0.0,>=2.4.1 in c:\\users\\sarath\\anaconda3\\lib\\site-packages (from spacy<3.3.0,>=3.2.0->en-core-web-sm==3.2.0) (2.4.2)\n",
      "Requirement already satisfied: packaging>=20.0 in c:\\users\\sarath\\anaconda3\\lib\\site-packages (from spacy<3.3.0,>=3.2.0->en-core-web-sm==3.2.0) (20.9)\n",
      "Requirement already satisfied: pydantic!=1.8,!=1.8.1,<1.9.0,>=1.7.4 in c:\\users\\sarath\\anaconda3\\lib\\site-packages (from spacy<3.3.0,>=3.2.0->en-core-web-sm==3.2.0) (1.8.2)\n",
      "Requirement already satisfied: jinja2 in c:\\users\\sarath\\anaconda3\\lib\\site-packages (from spacy<3.3.0,>=3.2.0->en-core-web-sm==3.2.0) (2.11.3)\n",
      "Requirement already satisfied: thinc<8.1.0,>=8.0.12 in c:\\users\\sarath\\anaconda3\\lib\\site-packages (from spacy<3.3.0,>=3.2.0->en-core-web-sm==3.2.0) (8.0.13)\n",
      "Requirement already satisfied: numpy>=1.15.0 in c:\\users\\sarath\\anaconda3\\lib\\site-packages (from spacy<3.3.0,>=3.2.0->en-core-web-sm==3.2.0) (1.20.1)\n",
      "Requirement already satisfied: typer<0.5.0,>=0.3.0 in c:\\users\\sarath\\anaconda3\\lib\\site-packages (from spacy<3.3.0,>=3.2.0->en-core-web-sm==3.2.0) (0.4.0)\n",
      "Requirement already satisfied: cymem<2.1.0,>=2.0.2 in c:\\users\\sarath\\anaconda3\\lib\\site-packages (from spacy<3.3.0,>=3.2.0->en-core-web-sm==3.2.0) (2.0.6)\n",
      "Requirement already satisfied: langcodes<4.0.0,>=3.2.0 in c:\\users\\sarath\\anaconda3\\lib\\site-packages (from spacy<3.3.0,>=3.2.0->en-core-web-sm==3.2.0) (3.3.0)\n",
      "Requirement already satisfied: pathy>=0.3.5 in c:\\users\\sarath\\anaconda3\\lib\\site-packages (from spacy<3.3.0,>=3.2.0->en-core-web-sm==3.2.0) (0.6.1)\n",
      "Requirement already satisfied: spacy-loggers<2.0.0,>=1.0.0 in c:\\users\\sarath\\anaconda3\\lib\\site-packages (from spacy<3.3.0,>=3.2.0->en-core-web-sm==3.2.0) (1.0.1)\n",
      "Requirement already satisfied: catalogue<2.1.0,>=2.0.6 in c:\\users\\sarath\\anaconda3\\lib\\site-packages (from spacy<3.3.0,>=3.2.0->en-core-web-sm==3.2.0) (2.0.6)\n",
      "Requirement already satisfied: tqdm<5.0.0,>=4.38.0 in c:\\users\\sarath\\anaconda3\\lib\\site-packages (from spacy<3.3.0,>=3.2.0->en-core-web-sm==3.2.0) (4.59.0)\n",
      "Requirement already satisfied: requests<3.0.0,>=2.13.0 in c:\\users\\sarath\\anaconda3\\lib\\site-packages (from spacy<3.3.0,>=3.2.0->en-core-web-sm==3.2.0) (2.25.1)\n",
      "Requirement already satisfied: preshed<3.1.0,>=3.0.2 in c:\\users\\sarath\\anaconda3\\lib\\site-packages (from spacy<3.3.0,>=3.2.0->en-core-web-sm==3.2.0) (3.0.6)\n",
      "Requirement already satisfied: blis<0.8.0,>=0.4.0 in c:\\users\\sarath\\anaconda3\\lib\\site-packages (from spacy<3.3.0,>=3.2.0->en-core-web-sm==3.2.0) (0.7.5)\n",
      "Requirement already satisfied: setuptools in c:\\users\\sarath\\anaconda3\\lib\\site-packages (from spacy<3.3.0,>=3.2.0->en-core-web-sm==3.2.0) (52.0.0.post20210125)\n",
      "Requirement already satisfied: pyparsing>=2.0.2 in c:\\users\\sarath\\anaconda3\\lib\\site-packages (from packaging>=20.0->spacy<3.3.0,>=3.2.0->en-core-web-sm==3.2.0) (2.4.7)\n",
      "Requirement already satisfied: smart-open<6.0.0,>=5.0.0 in c:\\users\\sarath\\anaconda3\\lib\\site-packages (from pathy>=0.3.5->spacy<3.3.0,>=3.2.0->en-core-web-sm==3.2.0) (5.2.1)\n",
      "Requirement already satisfied: typing-extensions>=3.7.4.3 in c:\\users\\sarath\\anaconda3\\lib\\site-packages (from pydantic!=1.8,!=1.8.1,<1.9.0,>=1.7.4->spacy<3.3.0,>=3.2.0->en-core-web-sm==3.2.0) (3.7.4.3)\n",
      "Requirement already satisfied: certifi>=2017.4.17 in c:\\users\\sarath\\anaconda3\\lib\\site-packages (from requests<3.0.0,>=2.13.0->spacy<3.3.0,>=3.2.0->en-core-web-sm==3.2.0) (2020.12.5)\n",
      "Requirement already satisfied: urllib3<1.27,>=1.21.1 in c:\\users\\sarath\\anaconda3\\lib\\site-packages (from requests<3.0.0,>=2.13.0->spacy<3.3.0,>=3.2.0->en-core-web-sm==3.2.0) (1.26.4)\n",
      "Requirement already satisfied: chardet<5,>=3.0.2 in c:\\users\\sarath\\anaconda3\\lib\\site-packages (from requests<3.0.0,>=2.13.0->spacy<3.3.0,>=3.2.0->en-core-web-sm==3.2.0) (4.0.0)\n",
      "Requirement already satisfied: idna<3,>=2.5 in c:\\users\\sarath\\anaconda3\\lib\\site-packages (from requests<3.0.0,>=2.13.0->spacy<3.3.0,>=3.2.0->en-core-web-sm==3.2.0) (2.10)\n",
      "Requirement already satisfied: click<9.0.0,>=7.1.1 in c:\\users\\sarath\\anaconda3\\lib\\site-packages (from typer<0.5.0,>=0.3.0->spacy<3.3.0,>=3.2.0->en-core-web-sm==3.2.0) (7.1.2)\n",
      "Requirement already satisfied: MarkupSafe>=0.23 in c:\\users\\sarath\\anaconda3\\lib\\site-packages (from jinja2->spacy<3.3.0,>=3.2.0->en-core-web-sm==3.2.0) (1.1.1)\n",
      "[+] Download and installation successful\n",
      "You can now load the package via spacy.load('en_core_web_sm')\n"
     ]
    },
    {
     "name": "stdout",
     "output_type": "stream",
     "text": [
      "Requirement already satisfied: gensim==3.8.3 in c:\\users\\sarath\\anaconda3\\lib\\site-packages (3.8.3)\n",
      "Requirement already satisfied: scipy>=0.18.1 in c:\\users\\sarath\\anaconda3\\lib\\site-packages (from gensim==3.8.3) (1.6.2)\n",
      "Requirement already satisfied: Cython==0.29.14 in c:\\users\\sarath\\anaconda3\\lib\\site-packages (from gensim==3.8.3) (0.29.14)\n",
      "Requirement already satisfied: smart-open>=1.8.1 in c:\\users\\sarath\\anaconda3\\lib\\site-packages (from gensim==3.8.3) (5.2.1)\n",
      "Requirement already satisfied: six>=1.5.0 in c:\\users\\sarath\\anaconda3\\lib\\site-packages (from gensim==3.8.3) (1.15.0)\n",
      "Requirement already satisfied: numpy>=1.11.3 in c:\\users\\sarath\\anaconda3\\lib\\site-packages (from gensim==3.8.3) (1.20.1)\n"
     ]
    }
   ],
   "source": [
    "!pip install -U spacy\n",
    "!python -m spacy download en_core_web_sm\n",
    "!pip install -U gensim==3.8.3"
   ]
  },
  {
   "cell_type": "code",
   "execution_count": 3,
   "id": "26cedbde",
   "metadata": {},
   "outputs": [],
   "source": [
    "import spacy \n",
    "from spacy.lang.en.stop_words import STOP_WORDS\n",
    "from string import punctuation"
   ]
  },
  {
   "cell_type": "code",
   "execution_count": 4,
   "id": "ff862fcb",
   "metadata": {},
   "outputs": [],
   "source": [
    "from gensim.summarization.summarizer import summarize\n",
    "from gensim.summarization import keywords"
   ]
  },
  {
   "cell_type": "code",
   "execution_count": 5,
   "id": "4567e6fc",
   "metadata": {},
   "outputs": [
    {
     "name": "stdout",
     "output_type": "stream",
     "text": [
      "['part', 'between', 'keep', 'since', 'former', 'beyond', 'n‘t', 'had', 'top', 'an', 'nor', 'alone', 'three', 'such', 'yourself', 'anything', 'whole', \"'ve\", 'on', 'how', 'else', 'mostly', '‘re', 'here', 'wherever', 'under', 'any', 'nobody', 'call', 'while', 'fifty', 'get', 'although', 'around', '’s', 'therein', 'across', 'up', 'one', 'does', 'name', 'whither', 'their', 'many', 'front', 'hundred', 'upon', 'once', 'whose', 'perhaps', 'quite', 'thereby', 'meanwhile', 'her', 'full', 'made', 'eight', 'among', '’m', 'which', 'too', 'anywhere', 'ca', 'bottom', 'whereas', 'hereby', 'am', 'formerly', 'elsewhere', 'afterwards', 'together', 'behind', 'have', 'now', 'no', 'n’t', 'besides', 'another', 'thru', 'namely', 'should', 'of', 'both', 'take', 'will', 'something', 'move', 'back', 'give', 'against', 'again', 'always', 'still', 'whereupon', 'did', 'over', 'thence', 'various', 'with', 'it', 'towards', 'everyone', 'often', 'more', 'about', '’re', 'except', 'she', 'sixty', 'been', 'toward', 'at', 'him', 'even', '‘ll', 'where', 'either', 'whereafter', 'below', 'moreover', 'nine', 'yourselves', '‘ve', 'others', 'being', 'unless', 'themselves', 'or', 'seem', 'before', 're', 'i', 'without', 'became', 'along', 'several', 'serious', 'thereupon', 'for', 'twelve', 'becoming', 'who', 'really', 'wherein', 'third', 'put', 'enough', 'five', 'say', 'cannot', 'mine', 'well', 'go', 'itself', 'its', 'whether', 'whereby', 'make', '‘d', 'someone', 'there', 'be', 'latter', 'six', 'would', 'least', 'are', 'is', 'above', 'my', 'hereafter', 'used', 'whoever', 'when', '’ve', 'that', 'almost', 'done', 'latterly', 'side', 'yours', 'why', 'me', 'using', 'might', 'must', 'only', 'amount', 'beforehand', 'yet', 'if', 'ten', 'otherwise', 'whenever', 'please', 'whom', 'our', 'they', 'himself', 'somewhere', 'thereafter', 'as', 'most', 'beside', 'ours', 'through', 'first', 'ever', 'this', 'hence', 'much', 'few', 'each', 'from', '’ll', 'off', 'your', 'them', 'we', 'whence', 'anyone', '‘s', '’d', 'becomes', 'anyhow', 'you', 'ourselves', 'because', 'empty', 'could', 'nothing', \"'m\", 'neither', 'may', 'forty', 'within', 'a', 'sometime', 'two', 'via', 'were', 'sometimes', 'than', 'twenty', 'his', 'further', 'to', 'and', 'these', 'own', 'during', 'whatever', 'herein', 'become', 'thus', 'never', 'not', 'somehow', 'he', 'all', 'throughout', 'less', 'fifteen', 'into', 'by', 'eleven', 'everything', 'us', 'same', 'per', 'next', 'until', 'also', 'then', 'some', 'amongst', 'what', 'after', 'none', 'see', 'seeming', \"'ll\", \"'re\", '‘m', 'has', 'do', 'indeed', \"n't\", 'due', 'very', 'last', 'nowhere', 'those', 'was', \"'s\", 'nevertheless', 'but', 'hers', 'so', 'show', 'other', 'onto', 'myself', 'doing', 'rather', 'every', 'seemed', 'anyway', 'already', 'therefore', 'out', 'seems', 'four', 'down', 'in', 'though', 'regarding', 'however', 'can', 'noone', 'the', 'everywhere', 'herself', 'hereupon', \"'d\", 'just']\n"
     ]
    }
   ],
   "source": [
    "stopwords = list(STOP_WORDS)\n",
    "print(stopwords)"
   ]
  },
  {
   "cell_type": "code",
   "execution_count": 6,
   "id": "28103ad6",
   "metadata": {},
   "outputs": [],
   "source": [
    "nlp = spacy.load('en_core_web_sm')"
   ]
  },
  {
   "cell_type": "code",
   "execution_count": 7,
   "id": "fa0e50f1",
   "metadata": {},
   "outputs": [
    {
     "name": "stdout",
     "output_type": "stream",
     "text": [
      "Naruto is a Japanese manga series written and illustrated by Masashi Kishimoto. It tells the story of Naruto Uzumaki, a young ninja who seeks recognition from his peers and dreams of becoming the Hokage, the leader of his village.\n"
     ]
    }
   ],
   "source": [
    "text = input()"
   ]
  },
  {
   "cell_type": "code",
   "execution_count": 8,
   "id": "cb9aabfe",
   "metadata": {},
   "outputs": [
    {
     "name": "stdout",
     "output_type": "stream",
     "text": [
      "\n"
     ]
    }
   ],
   "source": [
    "print(summarize(text, ratio=1))"
   ]
  },
  {
   "cell_type": "code",
   "execution_count": 9,
   "id": "8e5cf2c2",
   "metadata": {},
   "outputs": [],
   "source": [
    "topics = keywords(text, words=10)"
   ]
  },
  {
   "cell_type": "code",
   "execution_count": 10,
   "id": "01dfe82c",
   "metadata": {},
   "outputs": [
    {
     "name": "stdout",
     "output_type": "stream",
     "text": [
      "manga series\n",
      "seeks recognition\n",
      "masashi\n",
      "kishimoto\n",
      "uzumaki\n",
      "young ninja\n",
      "naruto\n"
     ]
    }
   ],
   "source": [
    "print(topics)"
   ]
  },
  {
   "cell_type": "code",
   "execution_count": 11,
   "id": "dbf7957b",
   "metadata": {},
   "outputs": [],
   "source": [
    "doc = nlp(text)"
   ]
  },
  {
   "cell_type": "code",
   "execution_count": 12,
   "id": "41002c52",
   "metadata": {},
   "outputs": [
    {
     "name": "stdout",
     "output_type": "stream",
     "text": [
      "['Naruto', 'is', 'a', 'Japanese', 'manga', 'series', 'written', 'and', 'illustrated', 'by', 'Masashi', 'Kishimoto', '.', 'It', 'tells', 'the', 'story', 'of', 'Naruto', 'Uzumaki', ',', 'a', 'young', 'ninja', 'who', 'seeks', 'recognition', 'from', 'his', 'peers', 'and', 'dreams', 'of', 'becoming', 'the', 'Hokage', ',', 'the', 'leader', 'of', 'his', 'village', '.']\n"
     ]
    }
   ],
   "source": [
    "token = [token.text for token in doc]\n",
    "print(token)"
   ]
  },
  {
   "cell_type": "code",
   "execution_count": 13,
   "id": "5a2bdc29",
   "metadata": {},
   "outputs": [],
   "source": [
    "punctuation = punctuation + '\\n'"
   ]
  },
  {
   "cell_type": "code",
   "execution_count": 14,
   "id": "4d8001ac",
   "metadata": {},
   "outputs": [],
   "source": [
    "word_frequency = {}\n",
    "for word in doc:\n",
    "    if word.text.lower() not in stopwords:\n",
    "        if word.text.lower() not in punctuation:\n",
    "            if word.text not in word_frequency.keys():\n",
    "                word_frequency[word.text] = 1\n",
    "            else:\n",
    "                word_frequency[word.text] += 1"
   ]
  },
  {
   "cell_type": "code",
   "execution_count": 15,
   "id": "9932acb3",
   "metadata": {},
   "outputs": [
    {
     "name": "stdout",
     "output_type": "stream",
     "text": [
      "{'Naruto': 2, 'Japanese': 1, 'manga': 1, 'series': 1, 'written': 1, 'illustrated': 1, 'Masashi': 1, 'Kishimoto': 1, 'tells': 1, 'story': 1, 'Uzumaki': 1, 'young': 1, 'ninja': 1, 'seeks': 1, 'recognition': 1, 'peers': 1, 'dreams': 1, 'Hokage': 1, 'leader': 1, 'village': 1}\n"
     ]
    }
   ],
   "source": [
    "print(word_frequency)"
   ]
  },
  {
   "cell_type": "code",
   "execution_count": 16,
   "id": "95c4fb03",
   "metadata": {},
   "outputs": [],
   "source": [
    "max_frequency = max(word_frequency.values())"
   ]
  },
  {
   "cell_type": "code",
   "execution_count": 17,
   "id": "1876616f",
   "metadata": {},
   "outputs": [
    {
     "data": {
      "text/plain": [
       "2"
      ]
     },
     "execution_count": 17,
     "metadata": {},
     "output_type": "execute_result"
    }
   ],
   "source": [
    "max_frequency"
   ]
  },
  {
   "cell_type": "code",
   "execution_count": 18,
   "id": "bdb4745d",
   "metadata": {},
   "outputs": [],
   "source": [
    "for word in word_frequency.keys():\n",
    "    word_frequency[word] = word_frequency[word]/max_frequency"
   ]
  },
  {
   "cell_type": "code",
   "execution_count": 19,
   "id": "4a340618",
   "metadata": {},
   "outputs": [
    {
     "name": "stdout",
     "output_type": "stream",
     "text": [
      "{'Naruto': 1.0, 'Japanese': 0.5, 'manga': 0.5, 'series': 0.5, 'written': 0.5, 'illustrated': 0.5, 'Masashi': 0.5, 'Kishimoto': 0.5, 'tells': 0.5, 'story': 0.5, 'Uzumaki': 0.5, 'young': 0.5, 'ninja': 0.5, 'seeks': 0.5, 'recognition': 0.5, 'peers': 0.5, 'dreams': 0.5, 'Hokage': 0.5, 'leader': 0.5, 'village': 0.5}\n"
     ]
    }
   ],
   "source": [
    "print(word_frequency)"
   ]
  },
  {
   "cell_type": "code",
   "execution_count": 20,
   "id": "8535189a",
   "metadata": {},
   "outputs": [
    {
     "name": "stdout",
     "output_type": "stream",
     "text": [
      "dict_items([('Naruto', 1.0), ('Japanese', 0.5), ('manga', 1.5), ('series', 1.5), ('written', 0.5), ('illustrated', 0.5), ('Masashi', 0.5), ('Kishimoto', 0.5), ('tells', 0.5), ('story', 0.5), ('Uzumaki', 0.5), ('young', 1.5), ('ninja', 1.5), ('seeks', 1.5), ('recognition', 1.5), ('peers', 0.5), ('dreams', 0.5), ('Hokage', 0.5), ('leader', 0.5), ('village', 0.5)])\n"
     ]
    }
   ],
   "source": [
    "for key,value in word_frequency.items():\n",
    "    if key in topics:\n",
    "        value += 1 \n",
    "        word_frequency.update({key:value}) \n",
    "print(word_frequency.items())"
   ]
  },
  {
   "cell_type": "code",
   "execution_count": 21,
   "id": "c89a2d6e",
   "metadata": {},
   "outputs": [
    {
     "name": "stdout",
     "output_type": "stream",
     "text": [
      "[Naruto is a Japanese manga series written and illustrated by Masashi Kishimoto., It tells the story of Naruto Uzumaki, a young ninja who seeks recognition from his peers and dreams of becoming the Hokage, the leader of his village.]\n"
     ]
    }
   ],
   "source": [
    "sentence_tokens = [sent for sent  in doc.sents]\n",
    "print(sentence_tokens)"
   ]
  },
  {
   "cell_type": "code",
   "execution_count": 22,
   "id": "0d14dcf4",
   "metadata": {},
   "outputs": [],
   "source": [
    "sentence_scores = {}\n",
    "for sent in sentence_tokens:\n",
    "    for word in sent:\n",
    "        if word.text.lower() in word_frequency.keys():\n",
    "            if sent not in sentence_scores.keys():\n",
    "                sentence_scores[sent] = word_frequency[word.text.lower()] \n",
    "            else:\n",
    "                sentence_scores[sent] += word_frequency[word.text.lower()]"
   ]
  },
  {
   "cell_type": "code",
   "execution_count": 23,
   "id": "309240bb",
   "metadata": {},
   "outputs": [
    {
     "data": {
      "text/plain": [
       "{Naruto is a Japanese manga series written and illustrated by Masashi Kishimoto.: 4.0,\n",
       " It tells the story of Naruto Uzumaki, a young ninja who seeks recognition from his peers and dreams of becoming the Hokage, the leader of his village.: 9.0}"
      ]
     },
     "execution_count": 23,
     "metadata": {},
     "output_type": "execute_result"
    }
   ],
   "source": [
    "sentence_scores"
   ]
  },
  {
   "cell_type": "code",
   "execution_count": 24,
   "id": "a9d1ca1e",
   "metadata": {},
   "outputs": [],
   "source": [
    "from heapq import nlargest"
   ]
  },
  {
   "cell_type": "code",
   "execution_count": 25,
   "id": "236bf641",
   "metadata": {},
   "outputs": [
    {
     "data": {
      "text/plain": [
       "1"
      ]
     },
     "execution_count": 25,
     "metadata": {},
     "output_type": "execute_result"
    }
   ],
   "source": [
    "select_length = int(len(sentence_scores)*0.5)\n",
    "select_length"
   ]
  },
  {
   "cell_type": "code",
   "execution_count": 26,
   "id": "c6dac1dd",
   "metadata": {},
   "outputs": [],
   "source": [
    "summary = nlargest(select_length,sentence_scores,key = sentence_scores.get )"
   ]
  },
  {
   "cell_type": "code",
   "execution_count": 27,
   "id": "790ae22b",
   "metadata": {},
   "outputs": [
    {
     "data": {
      "text/plain": [
       "[It tells the story of Naruto Uzumaki, a young ninja who seeks recognition from his peers and dreams of becoming the Hokage, the leader of his village.]"
      ]
     },
     "execution_count": 27,
     "metadata": {},
     "output_type": "execute_result"
    }
   ],
   "source": [
    "summary"
   ]
  },
  {
   "cell_type": "code",
   "execution_count": 28,
   "id": "176ff557",
   "metadata": {},
   "outputs": [],
   "source": [
    "final_summary = [word.text for word in summary ]"
   ]
  },
  {
   "cell_type": "code",
   "execution_count": 29,
   "id": "a0627fb3",
   "metadata": {},
   "outputs": [],
   "source": [
    "summary = ''.join(final_summary)"
   ]
  },
  {
   "cell_type": "code",
   "execution_count": 30,
   "id": "7734cef2",
   "metadata": {},
   "outputs": [
    {
     "name": "stdout",
     "output_type": "stream",
     "text": [
      "It tells the story of Naruto Uzumaki, a young ninja who seeks recognition from his peers and dreams of becoming the Hokage, the leader of his village.\n"
     ]
    }
   ],
   "source": [
    "print(summary)"
   ]
  },
  {
   "cell_type": "code",
   "execution_count": null,
   "id": "f12bc99d",
   "metadata": {},
   "outputs": [],
   "source": []
  }
 ],
 "metadata": {
  "kernelspec": {
   "display_name": "Python 3",
   "language": "python",
   "name": "python3"
  },
  "language_info": {
   "codemirror_mode": {
    "name": "ipython",
    "version": 3
   },
   "file_extension": ".py",
   "mimetype": "text/x-python",
   "name": "python",
   "nbconvert_exporter": "python",
   "pygments_lexer": "ipython3",
   "version": "3.8.8"
  }
 },
 "nbformat": 4,
 "nbformat_minor": 5
}
